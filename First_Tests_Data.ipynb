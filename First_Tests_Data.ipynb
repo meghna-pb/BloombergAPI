{
 "cells": [
  {
   "cell_type": "markdown",
   "id": "11e40f07",
   "metadata": {},
   "source": [
    "<center>\n",
    "    <img src=\"https://upload.wikimedia.org/wikipedia/commons/6/6f/Dauphine_logo_2019_-_Bleu.png\" style=\"width: 600px;\"/> \n",
    "</center>  "
   ]
  },
  {
   "cell_type": "markdown",
   "id": "8bb50482",
   "metadata": {},
   "source": [
    "  "
   ]
  },
  {
   "cell_type": "markdown",
   "id": "5bf4209e",
   "metadata": {},
   "source": [
    "<div align=\"center\"><span style=\"font-family:Arial Black;font-size:16px;color:black\">Traitement des données Bloom </span></div>"
   ]
  },
  {
   "cell_type": "code",
   "execution_count": null,
   "id": "1fc92e6b",
   "metadata": {},
   "outputs": [],
   "source": [
    "import pandas as pd\n",
    "import datetime as dt\n",
    "# import numpy as np"
   ]
  },
  {
   "cell_type": "markdown",
   "id": "cdccd019",
   "metadata": {},
   "source": [
    " ___"
   ]
  },
  {
   "cell_type": "markdown",
   "id": "7261b501",
   "metadata": {},
   "source": [
    "#### Data importation : "
   ]
  },
  {
   "cell_type": "code",
   "execution_count": null,
   "id": "70404f0a",
   "metadata": {},
   "outputs": [],
   "source": [
    "file_name = \"Bloomberg_data.xlsx\"\n",
    "file_path = 'chemin/vers/ton/' & file_name\n",
    "\n",
    "df_PXLAST = pd.read_excel(file_path)\n",
    "\n",
    "display(df)"
   ]
  },
  {
   "cell_type": "code",
   "execution_count": null,
   "id": "bc6e61f4",
   "metadata": {},
   "outputs": [],
   "source": [
    "######### VERIFICATION DU NOM DES COLONNES"
   ]
  },
  {
   "cell_type": "markdown",
   "id": "c6bb9817",
   "metadata": {},
   "source": [
    "____"
   ]
  },
  {
   "cell_type": "markdown",
   "id": "34cb1558",
   "metadata": {},
   "source": [
    "#### Calcul des rendements : "
   ]
  },
  {
   "cell_type": "code",
   "execution_count": null,
   "id": "febbeeea",
   "metadata": {},
   "outputs": [],
   "source": [
    "df['Dates'] = pd.to_datetime(df['Dates']) ######### vraiment utile ? \n",
    "\n",
    "def get_returns (df: pd.DataFrame, start_date:dt.datetime, end_date:dt.datetime) -> pd.DataFrame:\n",
    "    selected_period = df[(df['Dates'] >= start_date) & (df['Dates'] <= end_date)]\n",
    "    return selected_period.set_index('Mois').pct_change()"
   ]
  },
  {
   "cell_type": "code",
   "execution_count": null,
   "id": "8a03cb42",
   "metadata": {},
   "outputs": [],
   "source": [
    "start = pd.to_datetime('2022-03-28')\n",
    "end = pd.to_datetime('2023-06-28')\n",
    "returns = get_returns (df_PXLAST, start, end)\n",
    "\n",
    "display(returns)"
   ]
  },
  {
   "cell_type": "markdown",
   "id": "d9a19b00",
   "metadata": {},
   "source": [
    "#### Classement : "
   ]
  },
  {
   "cell_type": "code",
   "execution_count": null,
   "id": "6341cead",
   "metadata": {},
   "outputs": [],
   "source": [
    "# Calcule la moyenne des rendements pour chaque mois\n",
    "mean_returns = returns.mean(axis=1)\n",
    "returns['Mean'] = mean_returns\n",
    "sorted_return = returns.sort_values(by='Mean', ascending=False)\n",
    "\n",
    "print(sorted_returns)"
   ]
  },
  {
   "cell_type": "code",
   "execution_count": null,
   "id": "5f74b3ea",
   "metadata": {},
   "outputs": [],
   "source": [
    "# ++ Par volume (même principe)"
   ]
  }
 ],
 "metadata": {
  "kernelspec": {
   "display_name": "Python 3 (ipykernel)",
   "language": "python",
   "name": "python3"
  },
  "language_info": {
   "codemirror_mode": {
    "name": "ipython",
    "version": 3
   },
   "file_extension": ".py",
   "mimetype": "text/x-python",
   "name": "python",
   "nbconvert_exporter": "python",
   "pygments_lexer": "ipython3",
   "version": "3.9.12"
  }
 },
 "nbformat": 4,
 "nbformat_minor": 5
}
