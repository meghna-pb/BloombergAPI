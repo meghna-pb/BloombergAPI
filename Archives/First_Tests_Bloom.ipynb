{
 "cells": [
  {
   "cell_type": "markdown",
   "id": "11e40f07",
   "metadata": {},
   "source": [
    "<center>\n",
    "    <img src=\"https://upload.wikimedia.org/wikipedia/commons/6/6f/Dauphine_logo_2019_-_Bleu.png\" style=\"width: 600px;\"/> \n",
    "</center>  "
   ]
  },
  {
   "cell_type": "markdown",
   "id": "8bb50482",
   "metadata": {},
   "source": [
    "  "
   ]
  },
  {
   "cell_type": "markdown",
   "id": "5bf4209e",
   "metadata": {},
   "source": [
    "<div align=\"center\"><span style=\"font-family:Arial Black;font-size:16px;color:black\">Importation des données avec Bloomberg</span></div>"
   ]
  },
  {
   "cell_type": "markdown",
   "id": "ade1bda5",
   "metadata": {},
   "source": [
    "#### References \n",
    "https://data.bloomberglp.com/professional/sites/10/2017/03/BLPAPI-Core-Developer-Guide.pdf"
   ]
  },
  {
   "cell_type": "markdown",
   "id": "3cdd5943",
   "metadata": {},
   "source": [
    "____"
   ]
  },
  {
   "cell_type": "raw",
   "id": "6ad0e1c5",
   "metadata": {},
   "source": [
    "python -m pip install --index-url=https://bcms.bloomberg.com/pip/simple blpapi"
   ]
  },
  {
   "cell_type": "code",
   "execution_count": 1,
   "id": "1fc92e6b",
   "metadata": {},
   "outputs": [],
   "source": [
    "import blpapi\n",
    "import pandas as pd\n",
    "import numpy as np\n",
    "from datetime import datetime, timedelta"
   ]
  },
  {
   "cell_type": "markdown",
   "id": "e21152b1",
   "metadata": {},
   "source": [
    "   "
   ]
  },
  {
   "cell_type": "markdown",
   "id": "abd746e9",
   "metadata": {},
   "source": [
    "#### Bloomberg names : "
   ]
  },
  {
   "cell_type": "code",
   "execution_count": 2,
   "id": "ac3db056",
   "metadata": {},
   "outputs": [],
   "source": [
    "DATE = blpapi.Name(\"date\")\n",
    "ERROR_INFO = blpapi.Name(\"errorInfo\")\n",
    "EVENT_TIME = blpapi.Name(\"EVENT_TIME\")\n",
    "FIELD_DATA = blpapi.Name(\"fieldData\")\n",
    "FIELD_EXCEPTIONS = blpapi.Name(\"fieldExceptions\")\n",
    "FIELD_ID = blpapi.Name(\"fieldId\")\n",
    "SECURITY = blpapi.Name(\"security\")\n",
    "SECURITY_DATA = blpapi.Name(\"securityData\")"
   ]
  },
  {
   "cell_type": "markdown",
   "id": "b250ed60",
   "metadata": {},
   "source": [
    "#### Bloomberg data importation : "
   ]
  },
  {
   "cell_type": "code",
   "execution_count": 21,
   "id": "7cfb83f5",
   "metadata": {},
   "outputs": [],
   "source": [
    "class BLP():    \n",
    "    \n",
    "    def __init__(self):\n",
    "\n",
    "        # Create Session object\n",
    "        self.session = blpapi.Session()\n",
    "        \n",
    "        # Exit if can't start the Session\n",
    "        if not self.session.start():\n",
    "            print(\"Failed to start session.\")\n",
    "            return\n",
    "        \n",
    "        # Open & Get RefData Service or exit if impossible\n",
    "        if not self.session.openService(\"//blp/refdata\"):\n",
    "            print(\"Failed to open //blp/refdata\")\n",
    "            return\n",
    "        \n",
    "        self.session.openService('//BLP/refdata')\n",
    "        self.refDataSvc = self.session.getService('//BLP/refdata')\n",
    "\n",
    "        print('Session open')\n",
    "    \n",
    "    #-----------------------------------------------------------------------------------------------------\n",
    "    #-----------------------------------------------------------------------------------------------------\n",
    "    #-----------------------------------------------------------------------------------------------------\n",
    "    \n",
    "    def bdh(self, strSecurity, strFields, startdate, enddate, per='DAILY', perAdj = 'CALENDAR', \n",
    "            days = 'NON_TRADING_WEEKDAYS', fill = 'PREVIOUS_VALUE', curr = None):\n",
    "        \n",
    "        \"\"\"\n",
    "            Summary:\n",
    "                HistoricalDataRequest ; \n",
    "                Gets historical data for a set of securities and fields\n",
    "\n",
    "            Inputs:\n",
    "                strSecurity: list of str : list of tickers\n",
    "                strFields: list of str : list of fields, must be static fields (e.g. px_last instead of last_price)\n",
    "                startdate & enddate: dates\n",
    "                per: periodicitySelection; daily, monthly, quarterly, semiannually or annually\n",
    "                perAdj: periodicityAdjustment: ACTUAL, CALENDAR, FISCAL\n",
    "                curr: string, else default currency is used \n",
    "                Days: nonTradingDayFillOption : NON_TRADING_WEEKDAYS*, ALL_CALENDAR_DAYS or ACTIVE_DAYS_ONLY\n",
    "                fill: nonTradingDayFillMethod :  PREVIOUS_VALUE, NIL_VALUE\n",
    "                Options can be selected these are outlined in “Reference Services and Schemas Guide.”    \n",
    "            \n",
    "            Output:\n",
    "                A list containing as many dataframes as requested fields          \n",
    "        \"\"\"\n",
    "           \n",
    "        #-----------------------------------------------------------------------\n",
    "        # Create request\n",
    "        #-----------------------------------------------------------------------\n",
    "    \n",
    "        request = self.refDataSvc.createRequest('HistoricalDataRequest')\n",
    "        \n",
    "        # Put field and securities in list if single value is passed\n",
    "        if type(strFields) == str:\n",
    "            strFields = [strFields]\n",
    "        if type(strSecurity) == str:\n",
    "            strSecurity = [strSecurity]\n",
    "    \n",
    "        # Set paramaters :\n",
    "        for strF in strFields:\n",
    "            request.append('fields', strF)\n",
    "        for strS in strSecurity:\n",
    "            request.append('securities', strS)\n",
    "        request.set('startDate', startdate.strftime('%Y%m%d'))\n",
    "        request.set('endDate', enddate.strftime('%Y%m%d'))\n",
    "        request.set('periodicitySelection', per)\n",
    "        request.set('periodicityAdjustment', perAdj)\n",
    "        request.set('nonTradingDayFillOption', days)\n",
    "        request.set('nonTradingDayFillMethod', fill)\n",
    "        request.set('currency', curr)\n",
    "    \n",
    "        #-----------------------------------------------------------------------\n",
    "        # Send request\n",
    "        #-----------------------------------------------------------------------\n",
    "\n",
    "        requestID = self.session.sendRequest(request)\n",
    "        print(\"Sending request\")\n",
    "        \n",
    "        #-----------------------------------------------------------------------\n",
    "        # Receive request\n",
    "        #-----------------------------------------------------------------------\n",
    "        \n",
    "        dict_Security_Fields = {}\n",
    "        dict_tickers = {}\n",
    "        list_msg = []\n",
    "        for field in strFields:\n",
    "            globals()['dict_'+ field]= {}\n",
    "        \n",
    "        while True:\n",
    "            event = self.session.nextEvent()\n",
    "            \n",
    "            # Ignores anything that's not partial or final\n",
    "            if (event.eventType() !=blpapi.event.Event.RESPONSE) & (event.eventType() !=blpapi.event.Event.PARTIAL_RESPONSE):\n",
    "                continue\n",
    "            \n",
    "            # Extract the response message\n",
    "            msg = blpapi.event.MessageIterator(event).next()\n",
    "            \n",
    "            # Break loop if response is final\n",
    "            if event.eventType() == blpapi.event.Event.RESPONSE:\n",
    "                break        \n",
    "        \n",
    "        #-----------------------------------------------------------------------\n",
    "        # Exploit data \n",
    "        #-----------------------------------------------------------------------\n",
    "        \n",
    "        for msg in list_msg:\n",
    "            ticker = msg.getElement(SECURITY_DATA).getElement(SECURITY).getValue()\n",
    " \n",
    "            # Create dict for each field\n",
    "            for field in strFields:\n",
    "                globals()['dict_'+ field][ticker] = {}\n",
    "                \n",
    "            for field_data in msg.getElement(SECURITY_DATA).getElement(FIELD_DATA):\n",
    "                # print(field_data.getElement(0)) -> la date\n",
    "                dat = field_data.getElement(0).getValue()\n",
    "                \n",
    "                for i in range(1, (field_data.numElements())):\n",
    "                    field_name = str(field_data.getElement(i).name())\n",
    "                    try:\n",
    "                        globals()['dict_'+field_name][ticker][dat] = field_data.getElement(i).getValueAsFloat()\n",
    "                    except:\n",
    "                        globals()['dict_'+field_name][ticker][dat] = field_data.getElement(i).getValueAsString()\n",
    "                        \n",
    "            for field in strFields:\n",
    "                dict_Security_Fields[field] = pd.DataFrame.from_dict(globals()['dict_'+ field], orient='columns')\n",
    "                \n",
    "        return dict_Security_Fields    \n",
    "    \n",
    "    #-----------------------------------------------------------------------------------------------------\n",
    "    #-----------------------------------------------------------------------------------------------------\n",
    "    #-----------------------------------------------------------------------------------------------------\n",
    "    \n",
    "    def bdp(self, strSecurity, strFields, strOverrideField='', strOverrideValue=''):\n",
    "        \n",
    "        \"\"\"\n",
    "            Summary:\n",
    "                Reference Data Request ; Real-time if entitled, else delayed values \n",
    "                Only supports 1 override\n",
    "                \n",
    "            Input:\n",
    "                strSecurity (list of str) : list of tickers\n",
    "                strFields (list of str) : list of fields, must be static fields (e.g. px_last instead of last_price)\n",
    "                strOverrideField\n",
    "                strOverrideValue         \n",
    "            \n",
    "            Output:\n",
    "               Dict \n",
    "        \"\"\"\n",
    "        \n",
    "        #-----------------------------------------------------------------------\n",
    "        # Create request\n",
    "        #-----------------------------------------------------------------------\n",
    "\n",
    "        request = self.refDataSvc.createRequest('ReferenceDataRequest')\n",
    "        \n",
    "        # Put field and securities in list is single field passed\n",
    "        if type(strFields) == str:\n",
    "            strFields = [strFields]\n",
    "        \n",
    "        if type(strSecurity) == str:\n",
    "            strSecurity = [strSecurity]\n",
    "            \n",
    "        # Append list of fields & securities \n",
    "        for strD in strFields:\n",
    "            request.append('fields', strD)\n",
    "        for strS in strSecurity:\n",
    "            request.append('securities', strS)\n",
    "\n",
    "        # Add override \n",
    "        if strOverrideField != '':\n",
    "            o = request.getElement('overrides').appendElement()\n",
    "            o.setElement('fieldId', strOverrideField)\n",
    "            o.setElement('value', strOverrideValue)\n",
    "\n",
    "        #-----------------------------------------------------------------------\n",
    "        # Send request\n",
    "        #-----------------------------------------------------------------------\n",
    "\n",
    "        requestID = self.session.sendRequest(request)\n",
    "        print(\"Sending request\")\n",
    "\n",
    "        #-----------------------------------------------------------------------\n",
    "        # Receive request                \n",
    "        #-----------------------------------------------------------------------\n",
    "                \n",
    "        list_msg = []\n",
    "        dict_Security_Fields = {}\n",
    "        dict_tickers = {}\n",
    "        list_pd = []\n",
    "        \n",
    "        while True:\n",
    "            event = self.session.nextEvent()\n",
    "            \n",
    "            # Ignores anything that's not partial or final\n",
    "            if (event.eventType() !=blpapi.event.Event.RESPONSE) & (event.eventType() !=blpapi.event.Event.PARTIAL_RESPONSE):\n",
    "                continue\n",
    "            \n",
    "            # Extract the response message\n",
    "            msg = blpapi.event.MessageIterator(event).__next__()\n",
    "            \n",
    "            # Fill message list\n",
    "            list_msg.append(msg)\n",
    "            \n",
    "            # Break loop if response is final\n",
    "            if event.eventType() == blpapi.event.Event.RESPONSE:\n",
    "                break    \n",
    "\n",
    "        #-----------------------------------------------------------------------\n",
    "        # Extract the data \n",
    "        #-----------------------------------------------------------------------\n",
    "        \n",
    "        for msg in list_msg:\n",
    "            for sec_data in msg.getElement(SECURITY_DATA): # Ticker\n",
    "                ticker = sec_data.getElement(SECURITY).getValue()\n",
    "                dict_Security_Fields = {}\n",
    "                for field in sec_data.getElement(FIELD_DATA) : # Fields\n",
    "                    dict_Security_Fields[field.name()] = field.getValue()\n",
    "                dict_tickers[ticker] = pd.DataFrame.from_dict(dict_Security_Fields, orient='index')\n",
    "                dict_tickers[ticker].columns = [ticker] \n",
    "                list_pd.append(dict_tickers[ticker].T)\n",
    "        \n",
    "        return pd.concat(list_pd)\n",
    "    \n",
    "    #-----------------------------------------------------------------------------------------------------\n",
    "    #-----------------------------------------------------------------------------------------------------\n",
    "    #-----------------------------------------------------------------------------------------------------\n",
    "\n",
    "    def bds(self, strSecurity, strFields, snapshot_date, curr=None):\n",
    "        \n",
    "        \"\"\"\n",
    "            Summary:\n",
    "                Reference Data Request; retrieves snapshot data for a set of securities and fields for a specific date.\n",
    "\n",
    "            Inputs:\n",
    "                strSecurity: list of str: list of tickers\n",
    "                strFields: list of str: list of fields, must be static fields (e.g., px_last instead of last_price)\n",
    "                snapshot_date: date: the specific date for which you want the snapshot data\n",
    "                curr: string, else default currency is used\n",
    "\n",
    "            Output:\n",
    "                A DataFrame containing snapshot data for the requested securities and fields at the specified date\n",
    "        \"\"\"\n",
    "           \n",
    "        #-----------------------------------------------------------------------\n",
    "        # Create request\n",
    "        #-----------------------------------------------------------------------\n",
    "    \n",
    "        request = self.refDataSvc.createRequest('ReferenceDataRequest')\n",
    "        \n",
    "        # Put field and securities in list if single value is passed\n",
    "        if type(strFields) == str:\n",
    "            strFields = [strFields]\n",
    "        if type(strSecurity) == str:\n",
    "            strSecurity = [strSecurity]\n",
    "    \n",
    "        # Set paramaters :\n",
    "        for strF in strFields:\n",
    "            request.append('fields', strF)\n",
    "        for strS in strSecurity:\n",
    "            request.append('securities', strS)\n",
    "        # request.set('date', snapshot_date.strftime('%Y%m%d'))\n",
    "        # request.set('currency', curr)\n",
    "        o = request.getElement('overrides').appendElement()\n",
    "        o.setElement('value', snapshot_date)\n",
    "        \n",
    "    \n",
    "        #-----------------------------------------------------------------------\n",
    "        # Send request\n",
    "        #-----------------------------------------------------------------------\n",
    "\n",
    "        requestID = self.session.sendRequest(request)\n",
    "        print(\"Sending request\")\n",
    "        \n",
    "        #-----------------------------------------------------------------------\n",
    "        # Receive request\n",
    "        #-----------------------------------------------------------------------\n",
    "        \n",
    "        list_msg = []\n",
    "        dict_Security_Fields = {}\n",
    "        list_pd = []\n",
    "        \n",
    "        while True:\n",
    "            event = self.session.nextEvent()\n",
    "            \n",
    "            # Ignores anything that's not partial or final\n",
    "            if (event.eventType() !=blpapi.event.Event.RESPONSE) & (event.eventType() !=blpapi.event.Event.PARTIAL_RESPONSE):\n",
    "                continue\n",
    "            \n",
    "            # Extract the response message\n",
    "            msg = blpapi.event.MessageIterator(event).next()\n",
    "            print(msg) ################\n",
    "            \n",
    "            # Fill message list\n",
    "            list_msg.append(msg)\n",
    "            \n",
    "            # Break loop if response is final\n",
    "            if event.eventType() == blpapi.event.Event.RESPONSE:\n",
    "                break        \n",
    "        \n",
    "        #-----------------------------------------------------------------------\n",
    "        # Exploit data \n",
    "        #-----------------------------------------------------------------------\n",
    "        \n",
    "        for msg in list_msg:\n",
    "            \n",
    "            for sec_data in msg.getElement(SECURITY_DATA):  # Ticker\n",
    "                ticker = sec_data.getElement(SECURITY).getValue()\n",
    "                dict_Security_Fields = {}\n",
    "                \n",
    "                for field in sec_data.getElement(FIELD_DATA):  # Fields\n",
    "                    dict_Security_Fields[field.name()] = field.getValue()\n",
    "                    \n",
    "                list_pd.append(pd.DataFrame(dict_Security_Fields, index=[ticker]))\n",
    "\n",
    "        return pd.concat(list_pd)\n",
    "    \n",
    "    \n",
    "    def closeSession(self):\n",
    "        print(\"Session closed\")\n",
    "        self.session.stop()"
   ]
  },
  {
   "cell_type": "markdown",
   "id": "176b09e8",
   "metadata": {},
   "source": [
    "   "
   ]
  },
  {
   "cell_type": "markdown",
   "id": "592693c9",
   "metadata": {},
   "source": [
    "#### Data importation : "
   ]
  },
  {
   "cell_type": "code",
   "execution_count": null,
   "id": "ecf8f564",
   "metadata": {},
   "outputs": [],
   "source": [
    "start_date = datetime(1999, 1, 28)\n",
    "end_date = datetime.now()\n",
    "\n",
    "dates_list = [start_date + i * timedelta(days=30) for i in range((end_date - start_date).days // 30 + 1)]\n",
    "\n",
    "print(dates_list)"
   ]
  },
  {
   "cell_type": "code",
   "execution_count": null,
   "id": "fa2f7ddb",
   "metadata": {},
   "outputs": [],
   "source": []
  },
  {
   "cell_type": "code",
   "execution_count": 22,
   "id": "82b1618a",
   "metadata": {},
   "outputs": [
    {
     "name": "stdout",
     "output_type": "stream",
     "text": [
      "Session open\n"
     ]
    }
   ],
   "source": [
    "blp = BLP()"
   ]
  },
  {
   "cell_type": "code",
   "execution_count": 11,
   "id": "2d7609d9",
   "metadata": {},
   "outputs": [
    {
     "name": "stdout",
     "output_type": "stream",
     "text": [
      "Sending request\n"
     ]
    }
   ],
   "source": [
    "# bdp : \n",
    "strFields = [\"PX_LAST\", \"PX_VOLUME\"]\n",
    "tickers = [\"SPX Index\"]\n",
    "date = '20240301'\n",
    "test_bdp = blp.bdp(strSecurity=tickers, strFields = strFields, strOverrideField = \"AMOUNT_OUTSTANDING_AS_OF_DT\", strOverrideValue = date )"
   ]
  },
  {
   "cell_type": "code",
   "execution_count": 12,
   "id": "0eba3ecb",
   "metadata": {},
   "outputs": [
    {
     "name": "stdout",
     "output_type": "stream",
     "text": [
      "           PX_LAST    PX_VOLUME\n",
      "SPX Index  5137.08  686959722.0\n"
     ]
    }
   ],
   "source": [
    "print(test_bdp)"
   ]
  },
  {
   "cell_type": "code",
   "execution_count": null,
   "id": "797cfeb4",
   "metadata": {},
   "outputs": [],
   "source": [
    "# bdh : \n",
    "tickers = [\"GLE FP Equity\", \"FP FP Equity\"]\n",
    "strFields = [\"PX_LAST\", \"PX_VOLUME\"]\n",
    "startDate = datetime(2020,10,1) \n",
    "endDate = datetime(2020,11,3)\n",
    "test_bdh = blp.bdh(strSecurity=tickers, strFields = strFields, startdate = startDate, enddate = endDate)"
   ]
  },
  {
   "cell_type": "code",
   "execution_count": 23,
   "id": "82441b8d",
   "metadata": {},
   "outputs": [
    {
     "name": "stdout",
     "output_type": "stream",
     "text": [
      "Sending request\n"
     ]
    },
    {
     "ename": "AttributeError",
     "evalue": "'MessageIterator' object has no attribute 'next'",
     "output_type": "error",
     "traceback": [
      "\u001b[1;31m---------------------------------------------------------------------------\u001b[0m",
      "\u001b[1;31mAttributeError\u001b[0m                            Traceback (most recent call last)",
      "Cell \u001b[1;32mIn[23], line 5\u001b[0m\n\u001b[0;32m      3\u001b[0m tickers \u001b[38;5;241m=\u001b[39m [\u001b[38;5;124m\"\u001b[39m\u001b[38;5;124mRIY Index\u001b[39m\u001b[38;5;124m\"\u001b[39m]\n\u001b[0;32m      4\u001b[0m startDate \u001b[38;5;241m=\u001b[39m datetime(\u001b[38;5;241m2024\u001b[39m,\u001b[38;5;241m2\u001b[39m,\u001b[38;5;241m28\u001b[39m) \n\u001b[1;32m----> 5\u001b[0m test_bds \u001b[38;5;241m=\u001b[39m \u001b[43mblp\u001b[49m\u001b[38;5;241;43m.\u001b[39;49m\u001b[43mbds\u001b[49m\u001b[43m(\u001b[49m\u001b[43mstrSecurity\u001b[49m\u001b[38;5;241;43m=\u001b[39;49m\u001b[43mtickers\u001b[49m\u001b[43m,\u001b[49m\u001b[43m \u001b[49m\u001b[43mstrFields\u001b[49m\u001b[43m \u001b[49m\u001b[38;5;241;43m=\u001b[39;49m\u001b[43m \u001b[49m\u001b[43mstrFields\u001b[49m\u001b[43m,\u001b[49m\u001b[43m \u001b[49m\u001b[43msnapshot_date\u001b[49m\u001b[43m \u001b[49m\u001b[38;5;241;43m=\u001b[39;49m\u001b[43m \u001b[49m\u001b[43mstartDate\u001b[49m\u001b[43m)\u001b[49m\n",
      "Cell \u001b[1;32mIn[21], line 294\u001b[0m, in \u001b[0;36mBLP.bds\u001b[1;34m(self, strSecurity, strFields, snapshot_date, curr)\u001b[0m\n\u001b[0;32m    291\u001b[0m     \u001b[38;5;28;01mcontinue\u001b[39;00m\n\u001b[0;32m    293\u001b[0m \u001b[38;5;66;03m# Extract the response message\u001b[39;00m\n\u001b[1;32m--> 294\u001b[0m msg \u001b[38;5;241m=\u001b[39m \u001b[43mblpapi\u001b[49m\u001b[38;5;241;43m.\u001b[39;49m\u001b[43mevent\u001b[49m\u001b[38;5;241;43m.\u001b[39;49m\u001b[43mMessageIterator\u001b[49m\u001b[43m(\u001b[49m\u001b[43mevent\u001b[49m\u001b[43m)\u001b[49m\u001b[38;5;241;43m.\u001b[39;49m\u001b[43mnext\u001b[49m()\n\u001b[0;32m    295\u001b[0m \u001b[38;5;28mprint\u001b[39m(msg) \u001b[38;5;66;03m################\u001b[39;00m\n\u001b[0;32m    297\u001b[0m \u001b[38;5;66;03m# Fill message list\u001b[39;00m\n",
      "\u001b[1;31mAttributeError\u001b[0m: 'MessageIterator' object has no attribute 'next'"
     ]
    }
   ],
   "source": [
    "# bds : \n",
    "strFields = [\"FIELD\"] # Composition d'un indice \n",
    "tickers = [\"RIY Index\"]\n",
    "startDate = datetime(2024,2,28) \n",
    "test_bds = blp.bds(strSecurity=tickers, strFields = strFields, snapshot_date = startDate) #, curr = \"USD\""
   ]
  },
  {
   "cell_type": "code",
   "execution_count": null,
   "id": "6888f008",
   "metadata": {},
   "outputs": [],
   "source": [
    "BLP.closeSession()"
   ]
  },
  {
   "cell_type": "markdown",
   "id": "7342eff5",
   "metadata": {},
   "source": [
    "  "
   ]
  },
  {
   "cell_type": "code",
   "execution_count": null,
   "id": "8f6a9deb",
   "metadata": {},
   "outputs": [],
   "source": [
    "start_date = datetime(1999, 1, 28)\n",
    "end_date = datetime.now()\n",
    "\n",
    "# dates_list = [start_date + i * timedelta(days=30) for i in range((end_date - start_date).days // 30 + 1)]\n",
    "# print(dates_list)"
   ]
  },
  {
   "cell_type": "code",
   "execution_count": null,
   "id": "f1521357",
   "metadata": {},
   "outputs": [],
   "source": [
    "df_compo_index = pd.DataFrame()\n",
    "\n",
    "current_date = start_date\n",
    "while current_date <= end_date:\n",
    "    df_d = blp.bdh(strSecurity=tickers, strFields = strFields, snapshot_date = current_date)\n",
    "    df_d['Date'] = current_date #### Warning nom de la colonne \n",
    "    df_compo_index = pd.concat([df_compo_index, df_d], ignore_index=True)\n",
    "    # ou pd.merge(df_final, df_d, how='outer', on='Date') si nb lignes différentes \n",
    "    current_date += timedelta(days=30)  # ou current_date.replace(day=28) pour rester le 28 du mois suivant\n",
    "\n",
    "print(df_final)"
   ]
  },
  {
   "cell_type": "markdown",
   "id": "bd3b2c0a",
   "metadata": {},
   "source": [
    " "
   ]
  },
  {
   "cell_type": "markdown",
   "id": "6f28c9ea",
   "metadata": {},
   "source": [
    "#### Stocks List to import : "
   ]
  },
  {
   "cell_type": "code",
   "execution_count": null,
   "id": "a355623d",
   "metadata": {},
   "outputs": [],
   "source": [
    "df_tickers = df_final.stack()\n",
    "tickers = df_tickers.unique().tolist()\n",
    "print(tickers)"
   ]
  },
  {
   "cell_type": "code",
   "execution_count": null,
   "id": "6fa3c0d3",
   "metadata": {},
   "outputs": [],
   "source": [
    "strFields = [\"PX_LAST\", \"PX_VOLUME\"] ### ++ ? \n",
    "# start_date = datetime(1999, 1, 28)\n",
    "# end_date = datetime.now()\n",
    "df_stocks = blp.bdh(strSecurity=tickers, strFields = strFields, startdate = start_date, enddate = end_date, per='MONTHLY')"
   ]
  },
  {
   "cell_type": "markdown",
   "id": "b820887a",
   "metadata": {},
   "source": [
    " "
   ]
  },
  {
   "cell_type": "markdown",
   "id": "38410125",
   "metadata": {},
   "source": [
    "#### Data exportation : "
   ]
  },
  {
   "cell_type": "code",
   "execution_count": null,
   "id": "21bf99ea",
   "metadata": {},
   "outputs": [],
   "source": [
    "file_name_compo = \"Bloomberg_data_compo.xlsx\"\n",
    "file_path_compo = 'chemin/vers/ton/' & file_name\n",
    "\n",
    "test_bds.to_excel(file_path_compo, index=True)\n",
    "# df_compo_index.to_excel(file_path_compo, index=True)"
   ]
  },
  {
   "cell_type": "code",
   "execution_count": null,
   "id": "5baa2e4a",
   "metadata": {},
   "outputs": [],
   "source": [
    "file_name_stocks = \"Bloomberg_data_stocks.xlsx\"\n",
    "file_path_stocks = 'chemin/vers/ton/' & file_name\n",
    "\n",
    "test_bdh.to_excel(file_path_stocks, index=True)\n",
    "# df_compo_index.to_excel(file_path_stocks, index=True)"
   ]
  },
  {
   "cell_type": "code",
   "execution_count": null,
   "id": "12f8eca1",
   "metadata": {},
   "outputs": [],
   "source": []
  },
  {
   "cell_type": "code",
   "execution_count": null,
   "id": "67cee01e",
   "metadata": {},
   "outputs": [],
   "source": []
  },
  {
   "cell_type": "code",
   "execution_count": null,
   "id": "f2b12b3b",
   "metadata": {},
   "outputs": [],
   "source": []
  }
 ],
 "metadata": {
  "kernelspec": {
   "display_name": "Python 3 (ipykernel)",
   "language": "python",
   "name": "python3"
  },
  "language_info": {
   "codemirror_mode": {
    "name": "ipython",
    "version": 3
   },
   "file_extension": ".py",
   "mimetype": "text/x-python",
   "name": "python",
   "nbconvert_exporter": "python",
   "pygments_lexer": "ipython3",
   "version": "3.10.9"
  }
 },
 "nbformat": 4,
 "nbformat_minor": 5
}
