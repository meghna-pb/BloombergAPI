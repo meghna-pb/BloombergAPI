{
 "cells": [
  {
   "cell_type": "code",
   "execution_count": 1,
   "id": "9f5be2ea",
   "metadata": {},
   "outputs": [],
   "source": [
    "import blpapi\n",
    "import pandas as pd\n",
    "import numpy as np\n",
    "from datetime import datetime, timedelta"
   ]
  },
  {
   "cell_type": "markdown",
   "id": "8ca445c6",
   "metadata": {},
   "source": [
    "A installer sur les ordi bloom : \n",
    "python -m pip install --index-url=https://bcms.bloomberg.com/pip/simple blpapi"
   ]
  },
  {
   "cell_type": "code",
   "execution_count": 2,
   "id": "23851759",
   "metadata": {},
   "outputs": [],
   "source": [
    "# Bloomberg names : \n",
    "DATE = blpapi.Name(\"date\")\n",
    "ERROR_INFO = blpapi.Name(\"errorInfo\")\n",
    "EVENT_TIME = blpapi.Name(\"EVENT_TIME\")\n",
    "FIELD_DATA = blpapi.Name(\"fieldData\")\n",
    "FIELD_EXCEPTIONS = blpapi.Name(\"fieldExceptions\")\n",
    "FIELD_ID = blpapi.Name(\"fieldId\")\n",
    "SECURITY = blpapi.Name(\"security\")\n",
    "SECURITY_DATA = blpapi.Name(\"securityData\")"
   ]
  },
  {
   "cell_type": "code",
   "execution_count": 3,
   "id": "a887fe99",
   "metadata": {},
   "outputs": [],
   "source": [
    "class BLP():    \n",
    "    \n",
    "    def __init__(self):\n",
    "\n",
    "        # Create Session object\n",
    "        self.session = blpapi.Session()\n",
    "        \n",
    "        # Exit if can't start the Session\n",
    "        if not self.session.start():\n",
    "            print(\"Failed to start session.\")\n",
    "            return\n",
    "        \n",
    "        # Open & Get RefData Service or exit if impossible\n",
    "        if not self.session.openService(\"//blp/refdata\"):\n",
    "            print(\"Failed to open //blp/refdata\")\n",
    "            return\n",
    "        \n",
    "        self.session.openService('//BLP/refdata')\n",
    "        self.refDataSvc = self.session.getService('//BLP/refdata')\n",
    "\n",
    "        print('Session open')\n",
    "    \n",
    "    #-----------------------------------------------------------------------------------------------------\n",
    "    #------------------------------------------ BDH ------------------------------------------------------\n",
    "    #-----------------------------------------------------------------------------------------------------\n",
    "    \n",
    "    def bdh(self, strSecurity, strFields, startdate, enddate, per='DAILY', perAdj = 'CALENDAR', \n",
    "            days = 'NON_TRADING_WEEKDAYS', fill = 'PREVIOUS_VALUE', curr = \"EUR\"):\n",
    "        \n",
    "        # def bdh(self, strSecurity, strFields, startdate, enddate, per='DAILY', perAdj = 'CALENDAR', \n",
    "        #    days = 'NON_TRADING_WEEKDAYS', fill = 'PREVIOUS_VALUE', curr = None)\n",
    "        \n",
    "        \"\"\"\n",
    "            Summary:\n",
    "                HistoricalDataRequest ; \n",
    "                Gets historical data for a set of securities and fields\n",
    "\n",
    "            Inputs:\n",
    "                strSecurity: list of str : list of tickers\n",
    "                strFields: list of str : list of fields, must be static fields (e.g. px_last instead of last_price)\n",
    "                startdate & enddate: dates\n",
    "                per: periodicitySelection; daily, monthly, quarterly, semiannually or annually\n",
    "                perAdj: periodicityAdjustment: ACTUAL, CALENDAR, FISCAL\n",
    "                curr: string, else default currency is used \n",
    "                Days: nonTradingDayFillOption : NON_TRADING_WEEKDAYS*, ALL_CALENDAR_DAYS or ACTIVE_DAYS_ONLY\n",
    "                fill: nonTradingDayFillMethod :  PREVIOUS_VALUE, NIL_VALUE\n",
    "                Options can be selected these are outlined in “Reference Services and Schemas Guide.”    \n",
    "            \n",
    "            Output:\n",
    "                A list containing as many dataframes as requested fields          \n",
    "        \"\"\"\n",
    "\n",
    "                ############### Create request ###############\n",
    "    \n",
    "        request = self.refDataSvc.createRequest('HistoricalDataRequest')\n",
    "        \n",
    "        # Put field and securities in list if single value is passed\n",
    "        if type(strFields) == str:\n",
    "            strFields = [strFields]\n",
    "        if type(strSecurity) == str:\n",
    "            strSecurity = [strSecurity]\n",
    "    \n",
    "        # Set paramaters :\n",
    "        for strF in strFields:\n",
    "            request.append('fields', strF)\n",
    "        for strS in strSecurity:\n",
    "            request.append('securities', strS)\n",
    "        request.set('startDate', startdate.strftime('%Y%m%d'))\n",
    "        request.set('endDate', enddate.strftime('%Y%m%d'))\n",
    "        request.set('periodicitySelection', per)\n",
    "        request.set('periodicityAdjustment', perAdj)\n",
    "        request.set('nonTradingDayFillOption', days)\n",
    "        request.set('nonTradingDayFillMethod', fill)\n",
    "        request.set('currency', curr)\n",
    "    \n",
    "                ############### Send request ###############\n",
    "                \n",
    "        requestID = self.session.sendRequest(request)\n",
    "        print(\"Sending request\")\n",
    "        \n",
    "                ############### Receive request ###############\n",
    "        \n",
    "        dict_Security_Fields = {}\n",
    "        dict_tickers = {}\n",
    "        list_msg = []\n",
    "        \n",
    "        for field in strFields:\n",
    "            globals()['dict_'+ field]= {}\n",
    "        \n",
    "        while True:\n",
    "            event = self.session.nextEvent()\n",
    "            \n",
    "            # Ignores anything that's not partial or final\n",
    "            if (event.eventType() !=blpapi.event.Event.RESPONSE) & (event.eventType() !=blpapi.event.Event.PARTIAL_RESPONSE):\n",
    "                continue      \n",
    "                        \n",
    "            # Extract the response message\n",
    "            msg = blpapi.event.MessageIterator(event).__next__()\n",
    "            \n",
    "            # Fill message list\n",
    "            list_msg.append(msg)\n",
    "                   \n",
    "            # Break loop if response is final\n",
    "            if event.eventType() == blpapi.event.Event.RESPONSE:\n",
    "                break        \n",
    "\n",
    "                ############### Exploit data ###############\n",
    "        \n",
    "        for msg in list_msg:\n",
    "            ticker = msg.getElement(SECURITY_DATA).getElement(SECURITY).getValue()\n",
    " \n",
    "            # Create dict for each field\n",
    "            for field in strFields:\n",
    "                globals()['dict_'+ field][ticker] = {}\n",
    "                \n",
    "            for field_data in msg.getElement(SECURITY_DATA).getElement(FIELD_DATA):\n",
    "                dat = field_data.getElement(0).getValue()\n",
    "                \n",
    "                for i in range(1, (field_data.numElements())):\n",
    "                    field_name = str(field_data.getElement(i).name())\n",
    "                    try:\n",
    "                        globals()['dict_'+field_name][ticker][dat] = field_data.getElement(i).getValueAsFloat()\n",
    "                    except:\n",
    "                        globals()['dict_'+field_name][ticker][dat] = field_data.getElement(i).getValueAsString()\n",
    "                        \n",
    "            for field in strFields:\n",
    "                dict_Security_Fields[field] = pd.DataFrame.from_dict(globals()['dict_'+ field], orient='columns')\n",
    "                \n",
    "        return dict_Security_Fields    \n",
    "    \n",
    "    #-----------------------------------------------------------------------------------------------------\n",
    "    #------------------------------------------- BDP -----------------------------------------------------\n",
    "    #-----------------------------------------------------------------------------------------------------\n",
    "    \n",
    "    def bdp(self, strSecurity, strFields, strOverrideField='', strOverrideValue=''):\n",
    "        \n",
    "        \"\"\"\n",
    "            Summary:\n",
    "                Reference Data Request ; Real-time if entitled, else delayed values \n",
    "                Only supports 1 override\n",
    "                \n",
    "            Input:\n",
    "                strSecurity (list of str) : list of tickers\n",
    "                strFields (list of str) : list of fields, must be static fields (e.g. px_last instead of last_price)\n",
    "                strOverrideField\n",
    "                strOverrideValue         \n",
    "            \n",
    "            Output:\n",
    "               Dict \n",
    "        \"\"\"\n",
    "        \n",
    "                ############### Create request ###############\n",
    "\n",
    "        request = self.refDataSvc.createRequest('ReferenceDataRequest')\n",
    "        \n",
    "        # Put field and securities in list is single field passed\n",
    "        if type(strFields) == str:\n",
    "            strFields = [strFields]\n",
    "        if type(strSecurity) == str:\n",
    "            strSecurity = [strSecurity]\n",
    "            \n",
    "        # Append list of fields & securities \n",
    "        for strD in strFields:\n",
    "            request.append('fields', strD)\n",
    "        for strS in strSecurity:\n",
    "            request.append('securities', strS)\n",
    "\n",
    "        # Add override \n",
    "        if strOverrideField != '':\n",
    "            o = request.getElement('overrides').appendElement()\n",
    "            o.setElement('fieldId', strOverrideField)\n",
    "            o.setElement('value', strOverrideValue)\n",
    "\n",
    "                ############### Send request ###############\n",
    "\n",
    "        requestID = self.session.sendRequest(request)\n",
    "        print(\"Sending request\")\n",
    "        \n",
    "                ############### Receive request ###############             \n",
    "                \n",
    "        list_msg = []\n",
    "        dict_Security_Fields = {}\n",
    "        dict_tickers = {}\n",
    "        list_pd = []\n",
    "        \n",
    "        while True:\n",
    "            event = self.session.nextEvent()\n",
    "            \n",
    "            # Ignores anything that's not partial or final\n",
    "            if (event.eventType() !=blpapi.event.Event.RESPONSE) & (event.eventType() !=blpapi.event.Event.PARTIAL_RESPONSE):\n",
    "                continue\n",
    "            \n",
    "            # Extract the response message\n",
    "            msg = blpapi.event.MessageIterator(event).__next__()\n",
    "            \n",
    "            # Fill message list\n",
    "            list_msg.append(msg)\n",
    "            \n",
    "            # Break loop if response is final\n",
    "            if event.eventType() == blpapi.event.Event.RESPONSE:\n",
    "                break    \n",
    "\n",
    "                ############### Extract the data ###############\n",
    "\n",
    "        for msg in list_msg:\n",
    "            for sec_data in msg.getElement(SECURITY_DATA): # Ticker\n",
    "                ticker = sec_data.getElement(SECURITY).getValue()\n",
    "                dict_Security_Fields = {}\n",
    "                for field in sec_data.getElement(FIELD_DATA) : # Fields\n",
    "                    dict_Security_Fields[field.name()] = field.getValue()\n",
    "                dict_tickers[ticker] = pd.DataFrame.from_dict(dict_Security_Fields, orient='index')\n",
    "                dict_tickers[ticker].columns = [ticker] \n",
    "                list_pd.append(dict_tickers[ticker].T)\n",
    "        \n",
    "        return pd.concat(list_pd)\n",
    "    \n",
    "    #-----------------------------------------------------------------------------------------------------\n",
    "    #------------------------------------------- BDS -----------------------------------------------------\n",
    "    #-----------------------------------------------------------------------------------------------------\n",
    "\n",
    "    def bds(self, strSecurity, strFields, snapshot_date, curr=None):\n",
    "        \n",
    "        \"\"\"\n",
    "            Summary:\n",
    "                Reference Data Request; retrieves snapshot data for a set of securities and fields for a specific date.\n",
    "\n",
    "            Inputs:\n",
    "                strSecurity: list of str: list of tickers\n",
    "                strFields: list of str: list of fields, must be static fields (e.g., px_last instead of last_price)\n",
    "                snapshot_date: date: the specific date for which you want the snapshot data\n",
    "                curr: string, else default currency is used\n",
    "\n",
    "            Output:\n",
    "                A DataFrame containing snapshot data for the requested securities and fields at the specified date\n",
    "        \"\"\"\n",
    "           \n",
    "                ############### Create request ###############\n",
    "    \n",
    "        request = self.refDataSvc.createRequest('ReferenceDataRequest')\n",
    "        \n",
    "        # Put field and securities in list if single value is passed\n",
    "        if type(strFields) == str:\n",
    "            strFields = [strFields]\n",
    "        if type(strSecurity) == str:\n",
    "            strSecurity = [strSecurity]\n",
    "    \n",
    "        # Set paramaters :\n",
    "        for strF in strFields:\n",
    "            request.append('fields', strF)\n",
    "        for strS in strSecurity:\n",
    "            request.append('securities', strS)\n",
    "        \n",
    "        for strS in strSecurity:\n",
    "            overrides = request.getElement('overrides')\n",
    "            override = overrides.appendElement()\n",
    "            override.setElement('fieldId', 'REFERENCE_DATE')\n",
    "            override.setElement('value', snapshot_date.strftime('%Y%m%d'))\n",
    "        \n",
    "                ############### Send request ###############\n",
    "\n",
    "        requestID = self.session.sendRequest(request)\n",
    "        print(\"Sending request\")\n",
    "        \n",
    "                ############### Receive request ###############\n",
    "        \n",
    "        list_msg = []\n",
    "        dict_Security_Fields = {}\n",
    "        list_compo = []\n",
    "        \n",
    "        while True:\n",
    "            event = self.session.nextEvent()\n",
    "            \n",
    "            # Ignores anything that's not partial or final\n",
    "            if (event.eventType() !=blpapi.event.Event.RESPONSE) & (event.eventType() !=blpapi.event.Event.PARTIAL_RESPONSE):\n",
    "                continue\n",
    "            \n",
    "            # Extract the response message\n",
    "            msg = blpapi.event.MessageIterator(event).__next__() \n",
    "            \n",
    "            # Fill message list\n",
    "            list_msg.append(msg)\n",
    "            \n",
    "            # Break loop if response is final\n",
    "            if event.eventType() == blpapi.event.Event.RESPONSE:\n",
    "                break        \n",
    "        \n",
    "                ############### Exploit data ###############\n",
    "         \n",
    "        list_compo = []\n",
    "    \n",
    "        for msg in list_msg:\n",
    "            for sec_data in msg.getElement(SECURITY_DATA):  # Ticker\n",
    "                ticker = sec_data.getElement(SECURITY).getValue()\n",
    "                dict_Security_Fields = {}\n",
    "                for member_data in sec_data.getElement(FIELD_DATA).getElement(\"INDX_MEMBERS\"):\n",
    "                    member = member_data.getElementAsString(\"Member Ticker and Exchange Code\") \n",
    "                    list_compo.append(member)\n",
    "                dict_Security_Fields[ticker] = pd.DataFrame(list_compo, columns=[snapshot_date])\n",
    "    \n",
    "        return dict_Security_Fields\n",
    "    \n",
    "    def closeSession(self):\n",
    "        print(\"Session closed\")\n",
    "        self.session.stop()"
   ]
  },
  {
   "cell_type": "code",
   "execution_count": 4,
   "id": "47e68c00",
   "metadata": {},
   "outputs": [
    {
     "name": "stdout",
     "output_type": "stream",
     "text": [
      "Session open\n"
     ]
    }
   ],
   "source": [
    "####################################################################################################################\n",
    "################################################# Data importation #################################################\n",
    "####################################################################################################################\n",
    "     \n",
    "# Cette partie pourras être mis dans le fichier data.py après les tests :)      \n",
    "     \n",
    "blp = BLP()"
   ]
  },
  {
   "cell_type": "markdown",
   "id": "fd0ded8b",
   "metadata": {},
   "source": [
    "____"
   ]
  },
  {
   "cell_type": "markdown",
   "id": "ae64fd0c",
   "metadata": {},
   "source": [
    "# Récupération des compositions : "
   ]
  },
  {
   "cell_type": "code",
   "execution_count": 5,
   "id": "8063c1eb",
   "metadata": {},
   "outputs": [],
   "source": [
    "start_date = datetime(1999, 1, 28)\n",
    "end_date = datetime.now()\n",
    "dates_list = [start_date + i * timedelta(days=30) for i in range((end_date - start_date).days // 30 + 1)]"
   ]
  },
  {
   "cell_type": "code",
   "execution_count": 158,
   "id": "5d1b00a5",
   "metadata": {},
   "outputs": [],
   "source": [
    "strFields = [\"INDX_MEMBERS\"] \n",
    "tickers = [\"RIY Index\"] # RUSSEL"
   ]
  },
  {
   "cell_type": "code",
   "execution_count": 145,
   "id": "9b3c2289",
   "metadata": {},
   "outputs": [
    {
     "name": "stdout",
     "output_type": "stream",
     "text": [
      "Sending request\n",
      "Sending request\n",
      "Sending request\n",
      "Sending request\n",
      "Sending request\n",
      "Sending request\n",
      "Sending request\n",
      "Sending request\n",
      "Sending request\n",
      "Sending request\n",
      "Sending request\n",
      "Sending request\n",
      "Sending request\n",
      "Sending request\n",
      "Sending request\n",
      "Sending request\n",
      "Sending request\n",
      "Sending request\n",
      "Sending request\n",
      "Sending request\n",
      "Sending request\n",
      "Sending request\n",
      "Sending request\n",
      "Sending request\n",
      "Sending request\n",
      "Sending request\n",
      "Sending request\n",
      "Sending request\n",
      "Sending request\n",
      "Sending request\n",
      "Sending request\n",
      "Sending request\n",
      "Sending request\n",
      "Sending request\n",
      "Sending request\n",
      "Sending request\n",
      "Sending request\n",
      "Sending request\n",
      "Sending request\n",
      "Sending request\n",
      "Sending request\n",
      "Sending request\n",
      "Sending request\n",
      "Sending request\n",
      "Sending request\n",
      "Sending request\n",
      "Sending request\n",
      "Sending request\n",
      "Sending request\n",
      "Sending request\n",
      "Sending request\n",
      "Sending request\n",
      "Sending request\n",
      "Sending request\n",
      "Sending request\n",
      "Sending request\n",
      "Sending request\n",
      "Sending request\n",
      "Sending request\n",
      "Sending request\n",
      "Sending request\n",
      "Sending request\n",
      "Sending request\n",
      "Sending request\n",
      "Sending request\n",
      "Sending request\n",
      "Sending request\n",
      "Sending request\n",
      "Sending request\n",
      "Sending request\n",
      "Sending request\n",
      "Sending request\n",
      "Sending request\n",
      "Sending request\n",
      "Sending request\n",
      "Sending request\n",
      "Sending request\n",
      "Sending request\n",
      "Sending request\n",
      "Sending request\n",
      "Sending request\n",
      "Sending request\n",
      "Sending request\n",
      "Sending request\n",
      "Sending request\n",
      "Sending request\n",
      "Sending request\n",
      "Sending request\n",
      "Sending request\n",
      "Sending request\n",
      "Sending request\n",
      "Sending request\n",
      "Sending request\n",
      "Sending request\n",
      "Sending request\n",
      "Sending request\n",
      "Sending request\n",
      "Sending request\n",
      "Sending request\n",
      "Sending request\n",
      "Sending request\n"
     ]
    },
    {
     "name": "stderr",
     "output_type": "stream",
     "text": [
      "C:\\Users\\kircca22\\AppData\\Local\\Temp\\ipykernel_23292\\3022018798.py:5: PerformanceWarning: DataFrame is highly fragmented.  This is usually the result of calling `frame.insert` many times, which has poor performance.  Consider joining all columns at once using pd.concat(axis=1) instead. To get a de-fragmented frame, use `newframe = frame.copy()`\n",
      "  df_compo[date] = new_column[date]\n"
     ]
    },
    {
     "name": "stdout",
     "output_type": "stream",
     "text": [
      "Sending request\n"
     ]
    },
    {
     "name": "stderr",
     "output_type": "stream",
     "text": [
      "C:\\Users\\kircca22\\AppData\\Local\\Temp\\ipykernel_23292\\3022018798.py:5: PerformanceWarning: DataFrame is highly fragmented.  This is usually the result of calling `frame.insert` many times, which has poor performance.  Consider joining all columns at once using pd.concat(axis=1) instead. To get a de-fragmented frame, use `newframe = frame.copy()`\n",
      "  df_compo[date] = new_column[date]\n"
     ]
    },
    {
     "name": "stdout",
     "output_type": "stream",
     "text": [
      "Sending request\n"
     ]
    },
    {
     "name": "stderr",
     "output_type": "stream",
     "text": [
      "C:\\Users\\kircca22\\AppData\\Local\\Temp\\ipykernel_23292\\3022018798.py:5: PerformanceWarning: DataFrame is highly fragmented.  This is usually the result of calling `frame.insert` many times, which has poor performance.  Consider joining all columns at once using pd.concat(axis=1) instead. To get a de-fragmented frame, use `newframe = frame.copy()`\n",
      "  df_compo[date] = new_column[date]\n"
     ]
    },
    {
     "name": "stdout",
     "output_type": "stream",
     "text": [
      "Sending request\n"
     ]
    },
    {
     "name": "stderr",
     "output_type": "stream",
     "text": [
      "C:\\Users\\kircca22\\AppData\\Local\\Temp\\ipykernel_23292\\3022018798.py:5: PerformanceWarning: DataFrame is highly fragmented.  This is usually the result of calling `frame.insert` many times, which has poor performance.  Consider joining all columns at once using pd.concat(axis=1) instead. To get a de-fragmented frame, use `newframe = frame.copy()`\n",
      "  df_compo[date] = new_column[date]\n"
     ]
    },
    {
     "name": "stdout",
     "output_type": "stream",
     "text": [
      "Sending request\n"
     ]
    },
    {
     "name": "stderr",
     "output_type": "stream",
     "text": [
      "C:\\Users\\kircca22\\AppData\\Local\\Temp\\ipykernel_23292\\3022018798.py:5: PerformanceWarning: DataFrame is highly fragmented.  This is usually the result of calling `frame.insert` many times, which has poor performance.  Consider joining all columns at once using pd.concat(axis=1) instead. To get a de-fragmented frame, use `newframe = frame.copy()`\n",
      "  df_compo[date] = new_column[date]\n"
     ]
    },
    {
     "name": "stdout",
     "output_type": "stream",
     "text": [
      "Sending request\n"
     ]
    },
    {
     "name": "stderr",
     "output_type": "stream",
     "text": [
      "C:\\Users\\kircca22\\AppData\\Local\\Temp\\ipykernel_23292\\3022018798.py:5: PerformanceWarning: DataFrame is highly fragmented.  This is usually the result of calling `frame.insert` many times, which has poor performance.  Consider joining all columns at once using pd.concat(axis=1) instead. To get a de-fragmented frame, use `newframe = frame.copy()`\n",
      "  df_compo[date] = new_column[date]\n"
     ]
    },
    {
     "name": "stdout",
     "output_type": "stream",
     "text": [
      "Sending request\n"
     ]
    },
    {
     "name": "stderr",
     "output_type": "stream",
     "text": [
      "C:\\Users\\kircca22\\AppData\\Local\\Temp\\ipykernel_23292\\3022018798.py:5: PerformanceWarning: DataFrame is highly fragmented.  This is usually the result of calling `frame.insert` many times, which has poor performance.  Consider joining all columns at once using pd.concat(axis=1) instead. To get a de-fragmented frame, use `newframe = frame.copy()`\n",
      "  df_compo[date] = new_column[date]\n"
     ]
    },
    {
     "name": "stdout",
     "output_type": "stream",
     "text": [
      "Sending request\n"
     ]
    },
    {
     "name": "stderr",
     "output_type": "stream",
     "text": [
      "C:\\Users\\kircca22\\AppData\\Local\\Temp\\ipykernel_23292\\3022018798.py:5: PerformanceWarning: DataFrame is highly fragmented.  This is usually the result of calling `frame.insert` many times, which has poor performance.  Consider joining all columns at once using pd.concat(axis=1) instead. To get a de-fragmented frame, use `newframe = frame.copy()`\n",
      "  df_compo[date] = new_column[date]\n"
     ]
    },
    {
     "name": "stdout",
     "output_type": "stream",
     "text": [
      "Sending request\n"
     ]
    },
    {
     "name": "stderr",
     "output_type": "stream",
     "text": [
      "C:\\Users\\kircca22\\AppData\\Local\\Temp\\ipykernel_23292\\3022018798.py:5: PerformanceWarning: DataFrame is highly fragmented.  This is usually the result of calling `frame.insert` many times, which has poor performance.  Consider joining all columns at once using pd.concat(axis=1) instead. To get a de-fragmented frame, use `newframe = frame.copy()`\n",
      "  df_compo[date] = new_column[date]\n"
     ]
    },
    {
     "name": "stdout",
     "output_type": "stream",
     "text": [
      "Sending request\n"
     ]
    },
    {
     "name": "stderr",
     "output_type": "stream",
     "text": [
      "C:\\Users\\kircca22\\AppData\\Local\\Temp\\ipykernel_23292\\3022018798.py:5: PerformanceWarning: DataFrame is highly fragmented.  This is usually the result of calling `frame.insert` many times, which has poor performance.  Consider joining all columns at once using pd.concat(axis=1) instead. To get a de-fragmented frame, use `newframe = frame.copy()`\n",
      "  df_compo[date] = new_column[date]\n"
     ]
    },
    {
     "name": "stdout",
     "output_type": "stream",
     "text": [
      "Sending request\n"
     ]
    },
    {
     "name": "stderr",
     "output_type": "stream",
     "text": [
      "C:\\Users\\kircca22\\AppData\\Local\\Temp\\ipykernel_23292\\3022018798.py:5: PerformanceWarning: DataFrame is highly fragmented.  This is usually the result of calling `frame.insert` many times, which has poor performance.  Consider joining all columns at once using pd.concat(axis=1) instead. To get a de-fragmented frame, use `newframe = frame.copy()`\n",
      "  df_compo[date] = new_column[date]\n"
     ]
    },
    {
     "name": "stdout",
     "output_type": "stream",
     "text": [
      "Sending request\n"
     ]
    },
    {
     "name": "stderr",
     "output_type": "stream",
     "text": [
      "C:\\Users\\kircca22\\AppData\\Local\\Temp\\ipykernel_23292\\3022018798.py:5: PerformanceWarning: DataFrame is highly fragmented.  This is usually the result of calling `frame.insert` many times, which has poor performance.  Consider joining all columns at once using pd.concat(axis=1) instead. To get a de-fragmented frame, use `newframe = frame.copy()`\n",
      "  df_compo[date] = new_column[date]\n"
     ]
    },
    {
     "name": "stdout",
     "output_type": "stream",
     "text": [
      "Sending request\n"
     ]
    },
    {
     "name": "stderr",
     "output_type": "stream",
     "text": [
      "C:\\Users\\kircca22\\AppData\\Local\\Temp\\ipykernel_23292\\3022018798.py:5: PerformanceWarning: DataFrame is highly fragmented.  This is usually the result of calling `frame.insert` many times, which has poor performance.  Consider joining all columns at once using pd.concat(axis=1) instead. To get a de-fragmented frame, use `newframe = frame.copy()`\n",
      "  df_compo[date] = new_column[date]\n"
     ]
    },
    {
     "name": "stdout",
     "output_type": "stream",
     "text": [
      "Sending request\n"
     ]
    },
    {
     "name": "stderr",
     "output_type": "stream",
     "text": [
      "C:\\Users\\kircca22\\AppData\\Local\\Temp\\ipykernel_23292\\3022018798.py:5: PerformanceWarning: DataFrame is highly fragmented.  This is usually the result of calling `frame.insert` many times, which has poor performance.  Consider joining all columns at once using pd.concat(axis=1) instead. To get a de-fragmented frame, use `newframe = frame.copy()`\n",
      "  df_compo[date] = new_column[date]\n"
     ]
    },
    {
     "name": "stdout",
     "output_type": "stream",
     "text": [
      "Sending request\n"
     ]
    },
    {
     "name": "stderr",
     "output_type": "stream",
     "text": [
      "C:\\Users\\kircca22\\AppData\\Local\\Temp\\ipykernel_23292\\3022018798.py:5: PerformanceWarning: DataFrame is highly fragmented.  This is usually the result of calling `frame.insert` many times, which has poor performance.  Consider joining all columns at once using pd.concat(axis=1) instead. To get a de-fragmented frame, use `newframe = frame.copy()`\n",
      "  df_compo[date] = new_column[date]\n"
     ]
    },
    {
     "name": "stdout",
     "output_type": "stream",
     "text": [
      "Sending request\n"
     ]
    },
    {
     "name": "stderr",
     "output_type": "stream",
     "text": [
      "C:\\Users\\kircca22\\AppData\\Local\\Temp\\ipykernel_23292\\3022018798.py:5: PerformanceWarning: DataFrame is highly fragmented.  This is usually the result of calling `frame.insert` many times, which has poor performance.  Consider joining all columns at once using pd.concat(axis=1) instead. To get a de-fragmented frame, use `newframe = frame.copy()`\n",
      "  df_compo[date] = new_column[date]\n"
     ]
    },
    {
     "name": "stdout",
     "output_type": "stream",
     "text": [
      "Sending request\n"
     ]
    },
    {
     "name": "stderr",
     "output_type": "stream",
     "text": [
      "C:\\Users\\kircca22\\AppData\\Local\\Temp\\ipykernel_23292\\3022018798.py:5: PerformanceWarning: DataFrame is highly fragmented.  This is usually the result of calling `frame.insert` many times, which has poor performance.  Consider joining all columns at once using pd.concat(axis=1) instead. To get a de-fragmented frame, use `newframe = frame.copy()`\n",
      "  df_compo[date] = new_column[date]\n"
     ]
    },
    {
     "name": "stdout",
     "output_type": "stream",
     "text": [
      "Sending request\n"
     ]
    },
    {
     "name": "stderr",
     "output_type": "stream",
     "text": [
      "C:\\Users\\kircca22\\AppData\\Local\\Temp\\ipykernel_23292\\3022018798.py:5: PerformanceWarning: DataFrame is highly fragmented.  This is usually the result of calling `frame.insert` many times, which has poor performance.  Consider joining all columns at once using pd.concat(axis=1) instead. To get a de-fragmented frame, use `newframe = frame.copy()`\n",
      "  df_compo[date] = new_column[date]\n"
     ]
    },
    {
     "name": "stdout",
     "output_type": "stream",
     "text": [
      "Sending request\n"
     ]
    },
    {
     "name": "stderr",
     "output_type": "stream",
     "text": [
      "C:\\Users\\kircca22\\AppData\\Local\\Temp\\ipykernel_23292\\3022018798.py:5: PerformanceWarning: DataFrame is highly fragmented.  This is usually the result of calling `frame.insert` many times, which has poor performance.  Consider joining all columns at once using pd.concat(axis=1) instead. To get a de-fragmented frame, use `newframe = frame.copy()`\n",
      "  df_compo[date] = new_column[date]\n"
     ]
    },
    {
     "name": "stdout",
     "output_type": "stream",
     "text": [
      "Sending request\n"
     ]
    },
    {
     "name": "stderr",
     "output_type": "stream",
     "text": [
      "C:\\Users\\kircca22\\AppData\\Local\\Temp\\ipykernel_23292\\3022018798.py:5: PerformanceWarning: DataFrame is highly fragmented.  This is usually the result of calling `frame.insert` many times, which has poor performance.  Consider joining all columns at once using pd.concat(axis=1) instead. To get a de-fragmented frame, use `newframe = frame.copy()`\n",
      "  df_compo[date] = new_column[date]\n"
     ]
    },
    {
     "name": "stdout",
     "output_type": "stream",
     "text": [
      "Sending request\n"
     ]
    },
    {
     "name": "stderr",
     "output_type": "stream",
     "text": [
      "C:\\Users\\kircca22\\AppData\\Local\\Temp\\ipykernel_23292\\3022018798.py:5: PerformanceWarning: DataFrame is highly fragmented.  This is usually the result of calling `frame.insert` many times, which has poor performance.  Consider joining all columns at once using pd.concat(axis=1) instead. To get a de-fragmented frame, use `newframe = frame.copy()`\n",
      "  df_compo[date] = new_column[date]\n"
     ]
    },
    {
     "name": "stdout",
     "output_type": "stream",
     "text": [
      "Sending request\n"
     ]
    },
    {
     "name": "stderr",
     "output_type": "stream",
     "text": [
      "C:\\Users\\kircca22\\AppData\\Local\\Temp\\ipykernel_23292\\3022018798.py:5: PerformanceWarning: DataFrame is highly fragmented.  This is usually the result of calling `frame.insert` many times, which has poor performance.  Consider joining all columns at once using pd.concat(axis=1) instead. To get a de-fragmented frame, use `newframe = frame.copy()`\n",
      "  df_compo[date] = new_column[date]\n"
     ]
    },
    {
     "name": "stdout",
     "output_type": "stream",
     "text": [
      "Sending request\n"
     ]
    },
    {
     "name": "stderr",
     "output_type": "stream",
     "text": [
      "C:\\Users\\kircca22\\AppData\\Local\\Temp\\ipykernel_23292\\3022018798.py:5: PerformanceWarning: DataFrame is highly fragmented.  This is usually the result of calling `frame.insert` many times, which has poor performance.  Consider joining all columns at once using pd.concat(axis=1) instead. To get a de-fragmented frame, use `newframe = frame.copy()`\n",
      "  df_compo[date] = new_column[date]\n"
     ]
    },
    {
     "name": "stdout",
     "output_type": "stream",
     "text": [
      "Sending request\n"
     ]
    },
    {
     "name": "stderr",
     "output_type": "stream",
     "text": [
      "C:\\Users\\kircca22\\AppData\\Local\\Temp\\ipykernel_23292\\3022018798.py:5: PerformanceWarning: DataFrame is highly fragmented.  This is usually the result of calling `frame.insert` many times, which has poor performance.  Consider joining all columns at once using pd.concat(axis=1) instead. To get a de-fragmented frame, use `newframe = frame.copy()`\n",
      "  df_compo[date] = new_column[date]\n"
     ]
    },
    {
     "name": "stdout",
     "output_type": "stream",
     "text": [
      "Sending request\n"
     ]
    },
    {
     "name": "stderr",
     "output_type": "stream",
     "text": [
      "C:\\Users\\kircca22\\AppData\\Local\\Temp\\ipykernel_23292\\3022018798.py:5: PerformanceWarning: DataFrame is highly fragmented.  This is usually the result of calling `frame.insert` many times, which has poor performance.  Consider joining all columns at once using pd.concat(axis=1) instead. To get a de-fragmented frame, use `newframe = frame.copy()`\n",
      "  df_compo[date] = new_column[date]\n"
     ]
    },
    {
     "name": "stdout",
     "output_type": "stream",
     "text": [
      "Sending request\n"
     ]
    },
    {
     "name": "stderr",
     "output_type": "stream",
     "text": [
      "C:\\Users\\kircca22\\AppData\\Local\\Temp\\ipykernel_23292\\3022018798.py:5: PerformanceWarning: DataFrame is highly fragmented.  This is usually the result of calling `frame.insert` many times, which has poor performance.  Consider joining all columns at once using pd.concat(axis=1) instead. To get a de-fragmented frame, use `newframe = frame.copy()`\n",
      "  df_compo[date] = new_column[date]\n"
     ]
    },
    {
     "name": "stdout",
     "output_type": "stream",
     "text": [
      "Sending request\n"
     ]
    },
    {
     "name": "stderr",
     "output_type": "stream",
     "text": [
      "C:\\Users\\kircca22\\AppData\\Local\\Temp\\ipykernel_23292\\3022018798.py:5: PerformanceWarning: DataFrame is highly fragmented.  This is usually the result of calling `frame.insert` many times, which has poor performance.  Consider joining all columns at once using pd.concat(axis=1) instead. To get a de-fragmented frame, use `newframe = frame.copy()`\n",
      "  df_compo[date] = new_column[date]\n"
     ]
    },
    {
     "name": "stdout",
     "output_type": "stream",
     "text": [
      "Sending request\n"
     ]
    },
    {
     "name": "stderr",
     "output_type": "stream",
     "text": [
      "C:\\Users\\kircca22\\AppData\\Local\\Temp\\ipykernel_23292\\3022018798.py:5: PerformanceWarning: DataFrame is highly fragmented.  This is usually the result of calling `frame.insert` many times, which has poor performance.  Consider joining all columns at once using pd.concat(axis=1) instead. To get a de-fragmented frame, use `newframe = frame.copy()`\n",
      "  df_compo[date] = new_column[date]\n"
     ]
    },
    {
     "name": "stdout",
     "output_type": "stream",
     "text": [
      "Sending request\n"
     ]
    },
    {
     "name": "stderr",
     "output_type": "stream",
     "text": [
      "C:\\Users\\kircca22\\AppData\\Local\\Temp\\ipykernel_23292\\3022018798.py:5: PerformanceWarning: DataFrame is highly fragmented.  This is usually the result of calling `frame.insert` many times, which has poor performance.  Consider joining all columns at once using pd.concat(axis=1) instead. To get a de-fragmented frame, use `newframe = frame.copy()`\n",
      "  df_compo[date] = new_column[date]\n"
     ]
    },
    {
     "name": "stdout",
     "output_type": "stream",
     "text": [
      "Sending request\n"
     ]
    },
    {
     "name": "stderr",
     "output_type": "stream",
     "text": [
      "C:\\Users\\kircca22\\AppData\\Local\\Temp\\ipykernel_23292\\3022018798.py:5: PerformanceWarning: DataFrame is highly fragmented.  This is usually the result of calling `frame.insert` many times, which has poor performance.  Consider joining all columns at once using pd.concat(axis=1) instead. To get a de-fragmented frame, use `newframe = frame.copy()`\n",
      "  df_compo[date] = new_column[date]\n"
     ]
    },
    {
     "name": "stdout",
     "output_type": "stream",
     "text": [
      "Sending request\n"
     ]
    },
    {
     "name": "stderr",
     "output_type": "stream",
     "text": [
      "C:\\Users\\kircca22\\AppData\\Local\\Temp\\ipykernel_23292\\3022018798.py:5: PerformanceWarning: DataFrame is highly fragmented.  This is usually the result of calling `frame.insert` many times, which has poor performance.  Consider joining all columns at once using pd.concat(axis=1) instead. To get a de-fragmented frame, use `newframe = frame.copy()`\n",
      "  df_compo[date] = new_column[date]\n"
     ]
    },
    {
     "name": "stdout",
     "output_type": "stream",
     "text": [
      "Sending request\n"
     ]
    },
    {
     "name": "stderr",
     "output_type": "stream",
     "text": [
      "C:\\Users\\kircca22\\AppData\\Local\\Temp\\ipykernel_23292\\3022018798.py:5: PerformanceWarning: DataFrame is highly fragmented.  This is usually the result of calling `frame.insert` many times, which has poor performance.  Consider joining all columns at once using pd.concat(axis=1) instead. To get a de-fragmented frame, use `newframe = frame.copy()`\n",
      "  df_compo[date] = new_column[date]\n"
     ]
    },
    {
     "name": "stdout",
     "output_type": "stream",
     "text": [
      "Sending request\n"
     ]
    },
    {
     "name": "stderr",
     "output_type": "stream",
     "text": [
      "C:\\Users\\kircca22\\AppData\\Local\\Temp\\ipykernel_23292\\3022018798.py:5: PerformanceWarning: DataFrame is highly fragmented.  This is usually the result of calling `frame.insert` many times, which has poor performance.  Consider joining all columns at once using pd.concat(axis=1) instead. To get a de-fragmented frame, use `newframe = frame.copy()`\n",
      "  df_compo[date] = new_column[date]\n"
     ]
    },
    {
     "name": "stdout",
     "output_type": "stream",
     "text": [
      "Sending request\n"
     ]
    },
    {
     "name": "stderr",
     "output_type": "stream",
     "text": [
      "C:\\Users\\kircca22\\AppData\\Local\\Temp\\ipykernel_23292\\3022018798.py:5: PerformanceWarning: DataFrame is highly fragmented.  This is usually the result of calling `frame.insert` many times, which has poor performance.  Consider joining all columns at once using pd.concat(axis=1) instead. To get a de-fragmented frame, use `newframe = frame.copy()`\n",
      "  df_compo[date] = new_column[date]\n"
     ]
    },
    {
     "name": "stdout",
     "output_type": "stream",
     "text": [
      "Sending request\n"
     ]
    },
    {
     "name": "stderr",
     "output_type": "stream",
     "text": [
      "C:\\Users\\kircca22\\AppData\\Local\\Temp\\ipykernel_23292\\3022018798.py:5: PerformanceWarning: DataFrame is highly fragmented.  This is usually the result of calling `frame.insert` many times, which has poor performance.  Consider joining all columns at once using pd.concat(axis=1) instead. To get a de-fragmented frame, use `newframe = frame.copy()`\n",
      "  df_compo[date] = new_column[date]\n"
     ]
    },
    {
     "name": "stdout",
     "output_type": "stream",
     "text": [
      "Sending request\n"
     ]
    },
    {
     "name": "stderr",
     "output_type": "stream",
     "text": [
      "C:\\Users\\kircca22\\AppData\\Local\\Temp\\ipykernel_23292\\3022018798.py:5: PerformanceWarning: DataFrame is highly fragmented.  This is usually the result of calling `frame.insert` many times, which has poor performance.  Consider joining all columns at once using pd.concat(axis=1) instead. To get a de-fragmented frame, use `newframe = frame.copy()`\n",
      "  df_compo[date] = new_column[date]\n"
     ]
    },
    {
     "name": "stdout",
     "output_type": "stream",
     "text": [
      "Sending request\n"
     ]
    },
    {
     "name": "stderr",
     "output_type": "stream",
     "text": [
      "C:\\Users\\kircca22\\AppData\\Local\\Temp\\ipykernel_23292\\3022018798.py:5: PerformanceWarning: DataFrame is highly fragmented.  This is usually the result of calling `frame.insert` many times, which has poor performance.  Consider joining all columns at once using pd.concat(axis=1) instead. To get a de-fragmented frame, use `newframe = frame.copy()`\n",
      "  df_compo[date] = new_column[date]\n"
     ]
    },
    {
     "name": "stdout",
     "output_type": "stream",
     "text": [
      "Sending request\n"
     ]
    },
    {
     "name": "stderr",
     "output_type": "stream",
     "text": [
      "C:\\Users\\kircca22\\AppData\\Local\\Temp\\ipykernel_23292\\3022018798.py:5: PerformanceWarning: DataFrame is highly fragmented.  This is usually the result of calling `frame.insert` many times, which has poor performance.  Consider joining all columns at once using pd.concat(axis=1) instead. To get a de-fragmented frame, use `newframe = frame.copy()`\n",
      "  df_compo[date] = new_column[date]\n"
     ]
    },
    {
     "name": "stdout",
     "output_type": "stream",
     "text": [
      "Sending request\n"
     ]
    },
    {
     "name": "stderr",
     "output_type": "stream",
     "text": [
      "C:\\Users\\kircca22\\AppData\\Local\\Temp\\ipykernel_23292\\3022018798.py:5: PerformanceWarning: DataFrame is highly fragmented.  This is usually the result of calling `frame.insert` many times, which has poor performance.  Consider joining all columns at once using pd.concat(axis=1) instead. To get a de-fragmented frame, use `newframe = frame.copy()`\n",
      "  df_compo[date] = new_column[date]\n"
     ]
    },
    {
     "name": "stdout",
     "output_type": "stream",
     "text": [
      "Sending request\n"
     ]
    },
    {
     "name": "stderr",
     "output_type": "stream",
     "text": [
      "C:\\Users\\kircca22\\AppData\\Local\\Temp\\ipykernel_23292\\3022018798.py:5: PerformanceWarning: DataFrame is highly fragmented.  This is usually the result of calling `frame.insert` many times, which has poor performance.  Consider joining all columns at once using pd.concat(axis=1) instead. To get a de-fragmented frame, use `newframe = frame.copy()`\n",
      "  df_compo[date] = new_column[date]\n"
     ]
    },
    {
     "name": "stdout",
     "output_type": "stream",
     "text": [
      "Sending request\n"
     ]
    },
    {
     "name": "stderr",
     "output_type": "stream",
     "text": [
      "C:\\Users\\kircca22\\AppData\\Local\\Temp\\ipykernel_23292\\3022018798.py:5: PerformanceWarning: DataFrame is highly fragmented.  This is usually the result of calling `frame.insert` many times, which has poor performance.  Consider joining all columns at once using pd.concat(axis=1) instead. To get a de-fragmented frame, use `newframe = frame.copy()`\n",
      "  df_compo[date] = new_column[date]\n"
     ]
    },
    {
     "name": "stdout",
     "output_type": "stream",
     "text": [
      "Sending request\n"
     ]
    },
    {
     "name": "stderr",
     "output_type": "stream",
     "text": [
      "C:\\Users\\kircca22\\AppData\\Local\\Temp\\ipykernel_23292\\3022018798.py:5: PerformanceWarning: DataFrame is highly fragmented.  This is usually the result of calling `frame.insert` many times, which has poor performance.  Consider joining all columns at once using pd.concat(axis=1) instead. To get a de-fragmented frame, use `newframe = frame.copy()`\n",
      "  df_compo[date] = new_column[date]\n"
     ]
    },
    {
     "name": "stdout",
     "output_type": "stream",
     "text": [
      "Sending request\n"
     ]
    },
    {
     "name": "stderr",
     "output_type": "stream",
     "text": [
      "C:\\Users\\kircca22\\AppData\\Local\\Temp\\ipykernel_23292\\3022018798.py:5: PerformanceWarning: DataFrame is highly fragmented.  This is usually the result of calling `frame.insert` many times, which has poor performance.  Consider joining all columns at once using pd.concat(axis=1) instead. To get a de-fragmented frame, use `newframe = frame.copy()`\n",
      "  df_compo[date] = new_column[date]\n"
     ]
    },
    {
     "name": "stdout",
     "output_type": "stream",
     "text": [
      "Sending request\n"
     ]
    },
    {
     "name": "stderr",
     "output_type": "stream",
     "text": [
      "C:\\Users\\kircca22\\AppData\\Local\\Temp\\ipykernel_23292\\3022018798.py:5: PerformanceWarning: DataFrame is highly fragmented.  This is usually the result of calling `frame.insert` many times, which has poor performance.  Consider joining all columns at once using pd.concat(axis=1) instead. To get a de-fragmented frame, use `newframe = frame.copy()`\n",
      "  df_compo[date] = new_column[date]\n"
     ]
    },
    {
     "name": "stdout",
     "output_type": "stream",
     "text": [
      "Sending request\n"
     ]
    },
    {
     "name": "stderr",
     "output_type": "stream",
     "text": [
      "C:\\Users\\kircca22\\AppData\\Local\\Temp\\ipykernel_23292\\3022018798.py:5: PerformanceWarning: DataFrame is highly fragmented.  This is usually the result of calling `frame.insert` many times, which has poor performance.  Consider joining all columns at once using pd.concat(axis=1) instead. To get a de-fragmented frame, use `newframe = frame.copy()`\n",
      "  df_compo[date] = new_column[date]\n"
     ]
    },
    {
     "name": "stdout",
     "output_type": "stream",
     "text": [
      "Sending request\n"
     ]
    },
    {
     "name": "stderr",
     "output_type": "stream",
     "text": [
      "C:\\Users\\kircca22\\AppData\\Local\\Temp\\ipykernel_23292\\3022018798.py:5: PerformanceWarning: DataFrame is highly fragmented.  This is usually the result of calling `frame.insert` many times, which has poor performance.  Consider joining all columns at once using pd.concat(axis=1) instead. To get a de-fragmented frame, use `newframe = frame.copy()`\n",
      "  df_compo[date] = new_column[date]\n"
     ]
    },
    {
     "name": "stdout",
     "output_type": "stream",
     "text": [
      "Sending request\n"
     ]
    },
    {
     "name": "stderr",
     "output_type": "stream",
     "text": [
      "C:\\Users\\kircca22\\AppData\\Local\\Temp\\ipykernel_23292\\3022018798.py:5: PerformanceWarning: DataFrame is highly fragmented.  This is usually the result of calling `frame.insert` many times, which has poor performance.  Consider joining all columns at once using pd.concat(axis=1) instead. To get a de-fragmented frame, use `newframe = frame.copy()`\n",
      "  df_compo[date] = new_column[date]\n"
     ]
    },
    {
     "name": "stdout",
     "output_type": "stream",
     "text": [
      "Sending request\n"
     ]
    },
    {
     "name": "stderr",
     "output_type": "stream",
     "text": [
      "C:\\Users\\kircca22\\AppData\\Local\\Temp\\ipykernel_23292\\3022018798.py:5: PerformanceWarning: DataFrame is highly fragmented.  This is usually the result of calling `frame.insert` many times, which has poor performance.  Consider joining all columns at once using pd.concat(axis=1) instead. To get a de-fragmented frame, use `newframe = frame.copy()`\n",
      "  df_compo[date] = new_column[date]\n"
     ]
    },
    {
     "name": "stdout",
     "output_type": "stream",
     "text": [
      "Sending request\n"
     ]
    },
    {
     "name": "stderr",
     "output_type": "stream",
     "text": [
      "C:\\Users\\kircca22\\AppData\\Local\\Temp\\ipykernel_23292\\3022018798.py:5: PerformanceWarning: DataFrame is highly fragmented.  This is usually the result of calling `frame.insert` many times, which has poor performance.  Consider joining all columns at once using pd.concat(axis=1) instead. To get a de-fragmented frame, use `newframe = frame.copy()`\n",
      "  df_compo[date] = new_column[date]\n"
     ]
    },
    {
     "name": "stdout",
     "output_type": "stream",
     "text": [
      "Sending request\n"
     ]
    },
    {
     "name": "stderr",
     "output_type": "stream",
     "text": [
      "C:\\Users\\kircca22\\AppData\\Local\\Temp\\ipykernel_23292\\3022018798.py:5: PerformanceWarning: DataFrame is highly fragmented.  This is usually the result of calling `frame.insert` many times, which has poor performance.  Consider joining all columns at once using pd.concat(axis=1) instead. To get a de-fragmented frame, use `newframe = frame.copy()`\n",
      "  df_compo[date] = new_column[date]\n"
     ]
    },
    {
     "name": "stdout",
     "output_type": "stream",
     "text": [
      "Sending request\n"
     ]
    },
    {
     "name": "stderr",
     "output_type": "stream",
     "text": [
      "C:\\Users\\kircca22\\AppData\\Local\\Temp\\ipykernel_23292\\3022018798.py:5: PerformanceWarning: DataFrame is highly fragmented.  This is usually the result of calling `frame.insert` many times, which has poor performance.  Consider joining all columns at once using pd.concat(axis=1) instead. To get a de-fragmented frame, use `newframe = frame.copy()`\n",
      "  df_compo[date] = new_column[date]\n"
     ]
    },
    {
     "name": "stdout",
     "output_type": "stream",
     "text": [
      "Sending request\n"
     ]
    },
    {
     "name": "stderr",
     "output_type": "stream",
     "text": [
      "C:\\Users\\kircca22\\AppData\\Local\\Temp\\ipykernel_23292\\3022018798.py:5: PerformanceWarning: DataFrame is highly fragmented.  This is usually the result of calling `frame.insert` many times, which has poor performance.  Consider joining all columns at once using pd.concat(axis=1) instead. To get a de-fragmented frame, use `newframe = frame.copy()`\n",
      "  df_compo[date] = new_column[date]\n"
     ]
    },
    {
     "name": "stdout",
     "output_type": "stream",
     "text": [
      "Sending request\n"
     ]
    },
    {
     "name": "stderr",
     "output_type": "stream",
     "text": [
      "C:\\Users\\kircca22\\AppData\\Local\\Temp\\ipykernel_23292\\3022018798.py:5: PerformanceWarning: DataFrame is highly fragmented.  This is usually the result of calling `frame.insert` many times, which has poor performance.  Consider joining all columns at once using pd.concat(axis=1) instead. To get a de-fragmented frame, use `newframe = frame.copy()`\n",
      "  df_compo[date] = new_column[date]\n"
     ]
    },
    {
     "name": "stdout",
     "output_type": "stream",
     "text": [
      "Sending request\n"
     ]
    },
    {
     "name": "stderr",
     "output_type": "stream",
     "text": [
      "C:\\Users\\kircca22\\AppData\\Local\\Temp\\ipykernel_23292\\3022018798.py:5: PerformanceWarning: DataFrame is highly fragmented.  This is usually the result of calling `frame.insert` many times, which has poor performance.  Consider joining all columns at once using pd.concat(axis=1) instead. To get a de-fragmented frame, use `newframe = frame.copy()`\n",
      "  df_compo[date] = new_column[date]\n"
     ]
    },
    {
     "name": "stdout",
     "output_type": "stream",
     "text": [
      "Sending request\n"
     ]
    },
    {
     "name": "stderr",
     "output_type": "stream",
     "text": [
      "C:\\Users\\kircca22\\AppData\\Local\\Temp\\ipykernel_23292\\3022018798.py:5: PerformanceWarning: DataFrame is highly fragmented.  This is usually the result of calling `frame.insert` many times, which has poor performance.  Consider joining all columns at once using pd.concat(axis=1) instead. To get a de-fragmented frame, use `newframe = frame.copy()`\n",
      "  df_compo[date] = new_column[date]\n"
     ]
    },
    {
     "name": "stdout",
     "output_type": "stream",
     "text": [
      "Sending request\n"
     ]
    },
    {
     "name": "stderr",
     "output_type": "stream",
     "text": [
      "C:\\Users\\kircca22\\AppData\\Local\\Temp\\ipykernel_23292\\3022018798.py:5: PerformanceWarning: DataFrame is highly fragmented.  This is usually the result of calling `frame.insert` many times, which has poor performance.  Consider joining all columns at once using pd.concat(axis=1) instead. To get a de-fragmented frame, use `newframe = frame.copy()`\n",
      "  df_compo[date] = new_column[date]\n"
     ]
    },
    {
     "name": "stdout",
     "output_type": "stream",
     "text": [
      "Sending request\n"
     ]
    },
    {
     "name": "stderr",
     "output_type": "stream",
     "text": [
      "C:\\Users\\kircca22\\AppData\\Local\\Temp\\ipykernel_23292\\3022018798.py:5: PerformanceWarning: DataFrame is highly fragmented.  This is usually the result of calling `frame.insert` many times, which has poor performance.  Consider joining all columns at once using pd.concat(axis=1) instead. To get a de-fragmented frame, use `newframe = frame.copy()`\n",
      "  df_compo[date] = new_column[date]\n"
     ]
    },
    {
     "name": "stdout",
     "output_type": "stream",
     "text": [
      "Sending request\n"
     ]
    },
    {
     "name": "stderr",
     "output_type": "stream",
     "text": [
      "C:\\Users\\kircca22\\AppData\\Local\\Temp\\ipykernel_23292\\3022018798.py:5: PerformanceWarning: DataFrame is highly fragmented.  This is usually the result of calling `frame.insert` many times, which has poor performance.  Consider joining all columns at once using pd.concat(axis=1) instead. To get a de-fragmented frame, use `newframe = frame.copy()`\n",
      "  df_compo[date] = new_column[date]\n"
     ]
    },
    {
     "name": "stdout",
     "output_type": "stream",
     "text": [
      "Sending request\n"
     ]
    },
    {
     "name": "stderr",
     "output_type": "stream",
     "text": [
      "C:\\Users\\kircca22\\AppData\\Local\\Temp\\ipykernel_23292\\3022018798.py:5: PerformanceWarning: DataFrame is highly fragmented.  This is usually the result of calling `frame.insert` many times, which has poor performance.  Consider joining all columns at once using pd.concat(axis=1) instead. To get a de-fragmented frame, use `newframe = frame.copy()`\n",
      "  df_compo[date] = new_column[date]\n"
     ]
    },
    {
     "name": "stdout",
     "output_type": "stream",
     "text": [
      "Sending request\n"
     ]
    },
    {
     "name": "stderr",
     "output_type": "stream",
     "text": [
      "C:\\Users\\kircca22\\AppData\\Local\\Temp\\ipykernel_23292\\3022018798.py:5: PerformanceWarning: DataFrame is highly fragmented.  This is usually the result of calling `frame.insert` many times, which has poor performance.  Consider joining all columns at once using pd.concat(axis=1) instead. To get a de-fragmented frame, use `newframe = frame.copy()`\n",
      "  df_compo[date] = new_column[date]\n"
     ]
    },
    {
     "name": "stdout",
     "output_type": "stream",
     "text": [
      "Sending request\n"
     ]
    },
    {
     "name": "stderr",
     "output_type": "stream",
     "text": [
      "C:\\Users\\kircca22\\AppData\\Local\\Temp\\ipykernel_23292\\3022018798.py:5: PerformanceWarning: DataFrame is highly fragmented.  This is usually the result of calling `frame.insert` many times, which has poor performance.  Consider joining all columns at once using pd.concat(axis=1) instead. To get a de-fragmented frame, use `newframe = frame.copy()`\n",
      "  df_compo[date] = new_column[date]\n"
     ]
    },
    {
     "name": "stdout",
     "output_type": "stream",
     "text": [
      "Sending request\n"
     ]
    },
    {
     "name": "stderr",
     "output_type": "stream",
     "text": [
      "C:\\Users\\kircca22\\AppData\\Local\\Temp\\ipykernel_23292\\3022018798.py:5: PerformanceWarning: DataFrame is highly fragmented.  This is usually the result of calling `frame.insert` many times, which has poor performance.  Consider joining all columns at once using pd.concat(axis=1) instead. To get a de-fragmented frame, use `newframe = frame.copy()`\n",
      "  df_compo[date] = new_column[date]\n"
     ]
    },
    {
     "name": "stdout",
     "output_type": "stream",
     "text": [
      "Sending request\n"
     ]
    },
    {
     "name": "stderr",
     "output_type": "stream",
     "text": [
      "C:\\Users\\kircca22\\AppData\\Local\\Temp\\ipykernel_23292\\3022018798.py:5: PerformanceWarning: DataFrame is highly fragmented.  This is usually the result of calling `frame.insert` many times, which has poor performance.  Consider joining all columns at once using pd.concat(axis=1) instead. To get a de-fragmented frame, use `newframe = frame.copy()`\n",
      "  df_compo[date] = new_column[date]\n"
     ]
    },
    {
     "name": "stdout",
     "output_type": "stream",
     "text": [
      "Sending request\n"
     ]
    },
    {
     "name": "stderr",
     "output_type": "stream",
     "text": [
      "C:\\Users\\kircca22\\AppData\\Local\\Temp\\ipykernel_23292\\3022018798.py:5: PerformanceWarning: DataFrame is highly fragmented.  This is usually the result of calling `frame.insert` many times, which has poor performance.  Consider joining all columns at once using pd.concat(axis=1) instead. To get a de-fragmented frame, use `newframe = frame.copy()`\n",
      "  df_compo[date] = new_column[date]\n"
     ]
    },
    {
     "name": "stdout",
     "output_type": "stream",
     "text": [
      "Sending request\n"
     ]
    },
    {
     "name": "stderr",
     "output_type": "stream",
     "text": [
      "C:\\Users\\kircca22\\AppData\\Local\\Temp\\ipykernel_23292\\3022018798.py:5: PerformanceWarning: DataFrame is highly fragmented.  This is usually the result of calling `frame.insert` many times, which has poor performance.  Consider joining all columns at once using pd.concat(axis=1) instead. To get a de-fragmented frame, use `newframe = frame.copy()`\n",
      "  df_compo[date] = new_column[date]\n"
     ]
    },
    {
     "name": "stdout",
     "output_type": "stream",
     "text": [
      "Sending request\n"
     ]
    },
    {
     "name": "stderr",
     "output_type": "stream",
     "text": [
      "C:\\Users\\kircca22\\AppData\\Local\\Temp\\ipykernel_23292\\3022018798.py:5: PerformanceWarning: DataFrame is highly fragmented.  This is usually the result of calling `frame.insert` many times, which has poor performance.  Consider joining all columns at once using pd.concat(axis=1) instead. To get a de-fragmented frame, use `newframe = frame.copy()`\n",
      "  df_compo[date] = new_column[date]\n"
     ]
    },
    {
     "name": "stdout",
     "output_type": "stream",
     "text": [
      "Sending request\n"
     ]
    },
    {
     "name": "stderr",
     "output_type": "stream",
     "text": [
      "C:\\Users\\kircca22\\AppData\\Local\\Temp\\ipykernel_23292\\3022018798.py:5: PerformanceWarning: DataFrame is highly fragmented.  This is usually the result of calling `frame.insert` many times, which has poor performance.  Consider joining all columns at once using pd.concat(axis=1) instead. To get a de-fragmented frame, use `newframe = frame.copy()`\n",
      "  df_compo[date] = new_column[date]\n"
     ]
    },
    {
     "name": "stdout",
     "output_type": "stream",
     "text": [
      "Sending request\n"
     ]
    },
    {
     "name": "stderr",
     "output_type": "stream",
     "text": [
      "C:\\Users\\kircca22\\AppData\\Local\\Temp\\ipykernel_23292\\3022018798.py:5: PerformanceWarning: DataFrame is highly fragmented.  This is usually the result of calling `frame.insert` many times, which has poor performance.  Consider joining all columns at once using pd.concat(axis=1) instead. To get a de-fragmented frame, use `newframe = frame.copy()`\n",
      "  df_compo[date] = new_column[date]\n"
     ]
    },
    {
     "name": "stdout",
     "output_type": "stream",
     "text": [
      "Sending request\n"
     ]
    },
    {
     "name": "stderr",
     "output_type": "stream",
     "text": [
      "C:\\Users\\kircca22\\AppData\\Local\\Temp\\ipykernel_23292\\3022018798.py:5: PerformanceWarning: DataFrame is highly fragmented.  This is usually the result of calling `frame.insert` many times, which has poor performance.  Consider joining all columns at once using pd.concat(axis=1) instead. To get a de-fragmented frame, use `newframe = frame.copy()`\n",
      "  df_compo[date] = new_column[date]\n"
     ]
    },
    {
     "name": "stdout",
     "output_type": "stream",
     "text": [
      "Sending request\n"
     ]
    },
    {
     "name": "stderr",
     "output_type": "stream",
     "text": [
      "C:\\Users\\kircca22\\AppData\\Local\\Temp\\ipykernel_23292\\3022018798.py:5: PerformanceWarning: DataFrame is highly fragmented.  This is usually the result of calling `frame.insert` many times, which has poor performance.  Consider joining all columns at once using pd.concat(axis=1) instead. To get a de-fragmented frame, use `newframe = frame.copy()`\n",
      "  df_compo[date] = new_column[date]\n"
     ]
    },
    {
     "name": "stdout",
     "output_type": "stream",
     "text": [
      "Sending request\n"
     ]
    },
    {
     "name": "stderr",
     "output_type": "stream",
     "text": [
      "C:\\Users\\kircca22\\AppData\\Local\\Temp\\ipykernel_23292\\3022018798.py:5: PerformanceWarning: DataFrame is highly fragmented.  This is usually the result of calling `frame.insert` many times, which has poor performance.  Consider joining all columns at once using pd.concat(axis=1) instead. To get a de-fragmented frame, use `newframe = frame.copy()`\n",
      "  df_compo[date] = new_column[date]\n"
     ]
    },
    {
     "name": "stdout",
     "output_type": "stream",
     "text": [
      "Sending request\n"
     ]
    },
    {
     "name": "stderr",
     "output_type": "stream",
     "text": [
      "C:\\Users\\kircca22\\AppData\\Local\\Temp\\ipykernel_23292\\3022018798.py:5: PerformanceWarning: DataFrame is highly fragmented.  This is usually the result of calling `frame.insert` many times, which has poor performance.  Consider joining all columns at once using pd.concat(axis=1) instead. To get a de-fragmented frame, use `newframe = frame.copy()`\n",
      "  df_compo[date] = new_column[date]\n"
     ]
    },
    {
     "name": "stdout",
     "output_type": "stream",
     "text": [
      "Sending request\n"
     ]
    },
    {
     "name": "stderr",
     "output_type": "stream",
     "text": [
      "C:\\Users\\kircca22\\AppData\\Local\\Temp\\ipykernel_23292\\3022018798.py:5: PerformanceWarning: DataFrame is highly fragmented.  This is usually the result of calling `frame.insert` many times, which has poor performance.  Consider joining all columns at once using pd.concat(axis=1) instead. To get a de-fragmented frame, use `newframe = frame.copy()`\n",
      "  df_compo[date] = new_column[date]\n"
     ]
    },
    {
     "name": "stdout",
     "output_type": "stream",
     "text": [
      "Sending request\n"
     ]
    },
    {
     "name": "stderr",
     "output_type": "stream",
     "text": [
      "C:\\Users\\kircca22\\AppData\\Local\\Temp\\ipykernel_23292\\3022018798.py:5: PerformanceWarning: DataFrame is highly fragmented.  This is usually the result of calling `frame.insert` many times, which has poor performance.  Consider joining all columns at once using pd.concat(axis=1) instead. To get a de-fragmented frame, use `newframe = frame.copy()`\n",
      "  df_compo[date] = new_column[date]\n"
     ]
    },
    {
     "name": "stdout",
     "output_type": "stream",
     "text": [
      "Sending request\n"
     ]
    },
    {
     "name": "stderr",
     "output_type": "stream",
     "text": [
      "C:\\Users\\kircca22\\AppData\\Local\\Temp\\ipykernel_23292\\3022018798.py:5: PerformanceWarning: DataFrame is highly fragmented.  This is usually the result of calling `frame.insert` many times, which has poor performance.  Consider joining all columns at once using pd.concat(axis=1) instead. To get a de-fragmented frame, use `newframe = frame.copy()`\n",
      "  df_compo[date] = new_column[date]\n"
     ]
    },
    {
     "name": "stdout",
     "output_type": "stream",
     "text": [
      "Sending request\n"
     ]
    },
    {
     "name": "stderr",
     "output_type": "stream",
     "text": [
      "C:\\Users\\kircca22\\AppData\\Local\\Temp\\ipykernel_23292\\3022018798.py:5: PerformanceWarning: DataFrame is highly fragmented.  This is usually the result of calling `frame.insert` many times, which has poor performance.  Consider joining all columns at once using pd.concat(axis=1) instead. To get a de-fragmented frame, use `newframe = frame.copy()`\n",
      "  df_compo[date] = new_column[date]\n"
     ]
    },
    {
     "name": "stdout",
     "output_type": "stream",
     "text": [
      "Sending request\n"
     ]
    },
    {
     "name": "stderr",
     "output_type": "stream",
     "text": [
      "C:\\Users\\kircca22\\AppData\\Local\\Temp\\ipykernel_23292\\3022018798.py:5: PerformanceWarning: DataFrame is highly fragmented.  This is usually the result of calling `frame.insert` many times, which has poor performance.  Consider joining all columns at once using pd.concat(axis=1) instead. To get a de-fragmented frame, use `newframe = frame.copy()`\n",
      "  df_compo[date] = new_column[date]\n"
     ]
    },
    {
     "name": "stdout",
     "output_type": "stream",
     "text": [
      "Sending request\n"
     ]
    },
    {
     "name": "stderr",
     "output_type": "stream",
     "text": [
      "C:\\Users\\kircca22\\AppData\\Local\\Temp\\ipykernel_23292\\3022018798.py:5: PerformanceWarning: DataFrame is highly fragmented.  This is usually the result of calling `frame.insert` many times, which has poor performance.  Consider joining all columns at once using pd.concat(axis=1) instead. To get a de-fragmented frame, use `newframe = frame.copy()`\n",
      "  df_compo[date] = new_column[date]\n"
     ]
    },
    {
     "name": "stdout",
     "output_type": "stream",
     "text": [
      "Sending request\n"
     ]
    },
    {
     "name": "stderr",
     "output_type": "stream",
     "text": [
      "C:\\Users\\kircca22\\AppData\\Local\\Temp\\ipykernel_23292\\3022018798.py:5: PerformanceWarning: DataFrame is highly fragmented.  This is usually the result of calling `frame.insert` many times, which has poor performance.  Consider joining all columns at once using pd.concat(axis=1) instead. To get a de-fragmented frame, use `newframe = frame.copy()`\n",
      "  df_compo[date] = new_column[date]\n"
     ]
    },
    {
     "name": "stdout",
     "output_type": "stream",
     "text": [
      "Sending request\n"
     ]
    },
    {
     "name": "stderr",
     "output_type": "stream",
     "text": [
      "C:\\Users\\kircca22\\AppData\\Local\\Temp\\ipykernel_23292\\3022018798.py:5: PerformanceWarning: DataFrame is highly fragmented.  This is usually the result of calling `frame.insert` many times, which has poor performance.  Consider joining all columns at once using pd.concat(axis=1) instead. To get a de-fragmented frame, use `newframe = frame.copy()`\n",
      "  df_compo[date] = new_column[date]\n"
     ]
    },
    {
     "name": "stdout",
     "output_type": "stream",
     "text": [
      "Sending request\n"
     ]
    },
    {
     "name": "stderr",
     "output_type": "stream",
     "text": [
      "C:\\Users\\kircca22\\AppData\\Local\\Temp\\ipykernel_23292\\3022018798.py:5: PerformanceWarning: DataFrame is highly fragmented.  This is usually the result of calling `frame.insert` many times, which has poor performance.  Consider joining all columns at once using pd.concat(axis=1) instead. To get a de-fragmented frame, use `newframe = frame.copy()`\n",
      "  df_compo[date] = new_column[date]\n"
     ]
    },
    {
     "name": "stdout",
     "output_type": "stream",
     "text": [
      "Sending request\n"
     ]
    },
    {
     "name": "stderr",
     "output_type": "stream",
     "text": [
      "C:\\Users\\kircca22\\AppData\\Local\\Temp\\ipykernel_23292\\3022018798.py:5: PerformanceWarning: DataFrame is highly fragmented.  This is usually the result of calling `frame.insert` many times, which has poor performance.  Consider joining all columns at once using pd.concat(axis=1) instead. To get a de-fragmented frame, use `newframe = frame.copy()`\n",
      "  df_compo[date] = new_column[date]\n"
     ]
    },
    {
     "name": "stdout",
     "output_type": "stream",
     "text": [
      "Sending request\n"
     ]
    },
    {
     "name": "stderr",
     "output_type": "stream",
     "text": [
      "C:\\Users\\kircca22\\AppData\\Local\\Temp\\ipykernel_23292\\3022018798.py:5: PerformanceWarning: DataFrame is highly fragmented.  This is usually the result of calling `frame.insert` many times, which has poor performance.  Consider joining all columns at once using pd.concat(axis=1) instead. To get a de-fragmented frame, use `newframe = frame.copy()`\n",
      "  df_compo[date] = new_column[date]\n"
     ]
    },
    {
     "name": "stdout",
     "output_type": "stream",
     "text": [
      "Sending request\n"
     ]
    },
    {
     "name": "stderr",
     "output_type": "stream",
     "text": [
      "C:\\Users\\kircca22\\AppData\\Local\\Temp\\ipykernel_23292\\3022018798.py:5: PerformanceWarning: DataFrame is highly fragmented.  This is usually the result of calling `frame.insert` many times, which has poor performance.  Consider joining all columns at once using pd.concat(axis=1) instead. To get a de-fragmented frame, use `newframe = frame.copy()`\n",
      "  df_compo[date] = new_column[date]\n"
     ]
    },
    {
     "name": "stdout",
     "output_type": "stream",
     "text": [
      "Sending request\n"
     ]
    },
    {
     "name": "stderr",
     "output_type": "stream",
     "text": [
      "C:\\Users\\kircca22\\AppData\\Local\\Temp\\ipykernel_23292\\3022018798.py:5: PerformanceWarning: DataFrame is highly fragmented.  This is usually the result of calling `frame.insert` many times, which has poor performance.  Consider joining all columns at once using pd.concat(axis=1) instead. To get a de-fragmented frame, use `newframe = frame.copy()`\n",
      "  df_compo[date] = new_column[date]\n"
     ]
    },
    {
     "name": "stdout",
     "output_type": "stream",
     "text": [
      "Sending request\n"
     ]
    },
    {
     "name": "stderr",
     "output_type": "stream",
     "text": [
      "C:\\Users\\kircca22\\AppData\\Local\\Temp\\ipykernel_23292\\3022018798.py:5: PerformanceWarning: DataFrame is highly fragmented.  This is usually the result of calling `frame.insert` many times, which has poor performance.  Consider joining all columns at once using pd.concat(axis=1) instead. To get a de-fragmented frame, use `newframe = frame.copy()`\n",
      "  df_compo[date] = new_column[date]\n"
     ]
    },
    {
     "name": "stdout",
     "output_type": "stream",
     "text": [
      "Sending request\n"
     ]
    },
    {
     "name": "stderr",
     "output_type": "stream",
     "text": [
      "C:\\Users\\kircca22\\AppData\\Local\\Temp\\ipykernel_23292\\3022018798.py:5: PerformanceWarning: DataFrame is highly fragmented.  This is usually the result of calling `frame.insert` many times, which has poor performance.  Consider joining all columns at once using pd.concat(axis=1) instead. To get a de-fragmented frame, use `newframe = frame.copy()`\n",
      "  df_compo[date] = new_column[date]\n"
     ]
    },
    {
     "name": "stdout",
     "output_type": "stream",
     "text": [
      "Sending request\n"
     ]
    },
    {
     "name": "stderr",
     "output_type": "stream",
     "text": [
      "C:\\Users\\kircca22\\AppData\\Local\\Temp\\ipykernel_23292\\3022018798.py:5: PerformanceWarning: DataFrame is highly fragmented.  This is usually the result of calling `frame.insert` many times, which has poor performance.  Consider joining all columns at once using pd.concat(axis=1) instead. To get a de-fragmented frame, use `newframe = frame.copy()`\n",
      "  df_compo[date] = new_column[date]\n"
     ]
    },
    {
     "name": "stdout",
     "output_type": "stream",
     "text": [
      "Sending request\n"
     ]
    },
    {
     "name": "stderr",
     "output_type": "stream",
     "text": [
      "C:\\Users\\kircca22\\AppData\\Local\\Temp\\ipykernel_23292\\3022018798.py:5: PerformanceWarning: DataFrame is highly fragmented.  This is usually the result of calling `frame.insert` many times, which has poor performance.  Consider joining all columns at once using pd.concat(axis=1) instead. To get a de-fragmented frame, use `newframe = frame.copy()`\n",
      "  df_compo[date] = new_column[date]\n"
     ]
    },
    {
     "name": "stdout",
     "output_type": "stream",
     "text": [
      "Sending request\n"
     ]
    },
    {
     "name": "stderr",
     "output_type": "stream",
     "text": [
      "C:\\Users\\kircca22\\AppData\\Local\\Temp\\ipykernel_23292\\3022018798.py:5: PerformanceWarning: DataFrame is highly fragmented.  This is usually the result of calling `frame.insert` many times, which has poor performance.  Consider joining all columns at once using pd.concat(axis=1) instead. To get a de-fragmented frame, use `newframe = frame.copy()`\n",
      "  df_compo[date] = new_column[date]\n"
     ]
    },
    {
     "name": "stdout",
     "output_type": "stream",
     "text": [
      "Sending request\n"
     ]
    },
    {
     "name": "stderr",
     "output_type": "stream",
     "text": [
      "C:\\Users\\kircca22\\AppData\\Local\\Temp\\ipykernel_23292\\3022018798.py:5: PerformanceWarning: DataFrame is highly fragmented.  This is usually the result of calling `frame.insert` many times, which has poor performance.  Consider joining all columns at once using pd.concat(axis=1) instead. To get a de-fragmented frame, use `newframe = frame.copy()`\n",
      "  df_compo[date] = new_column[date]\n"
     ]
    },
    {
     "name": "stdout",
     "output_type": "stream",
     "text": [
      "Sending request\n"
     ]
    },
    {
     "name": "stderr",
     "output_type": "stream",
     "text": [
      "C:\\Users\\kircca22\\AppData\\Local\\Temp\\ipykernel_23292\\3022018798.py:5: PerformanceWarning: DataFrame is highly fragmented.  This is usually the result of calling `frame.insert` many times, which has poor performance.  Consider joining all columns at once using pd.concat(axis=1) instead. To get a de-fragmented frame, use `newframe = frame.copy()`\n",
      "  df_compo[date] = new_column[date]\n"
     ]
    },
    {
     "name": "stdout",
     "output_type": "stream",
     "text": [
      "Sending request\n"
     ]
    },
    {
     "name": "stderr",
     "output_type": "stream",
     "text": [
      "C:\\Users\\kircca22\\AppData\\Local\\Temp\\ipykernel_23292\\3022018798.py:5: PerformanceWarning: DataFrame is highly fragmented.  This is usually the result of calling `frame.insert` many times, which has poor performance.  Consider joining all columns at once using pd.concat(axis=1) instead. To get a de-fragmented frame, use `newframe = frame.copy()`\n",
      "  df_compo[date] = new_column[date]\n"
     ]
    },
    {
     "name": "stdout",
     "output_type": "stream",
     "text": [
      "Sending request\n"
     ]
    },
    {
     "name": "stderr",
     "output_type": "stream",
     "text": [
      "C:\\Users\\kircca22\\AppData\\Local\\Temp\\ipykernel_23292\\3022018798.py:5: PerformanceWarning: DataFrame is highly fragmented.  This is usually the result of calling `frame.insert` many times, which has poor performance.  Consider joining all columns at once using pd.concat(axis=1) instead. To get a de-fragmented frame, use `newframe = frame.copy()`\n",
      "  df_compo[date] = new_column[date]\n"
     ]
    },
    {
     "name": "stdout",
     "output_type": "stream",
     "text": [
      "Sending request\n"
     ]
    },
    {
     "name": "stderr",
     "output_type": "stream",
     "text": [
      "C:\\Users\\kircca22\\AppData\\Local\\Temp\\ipykernel_23292\\3022018798.py:5: PerformanceWarning: DataFrame is highly fragmented.  This is usually the result of calling `frame.insert` many times, which has poor performance.  Consider joining all columns at once using pd.concat(axis=1) instead. To get a de-fragmented frame, use `newframe = frame.copy()`\n",
      "  df_compo[date] = new_column[date]\n"
     ]
    },
    {
     "name": "stdout",
     "output_type": "stream",
     "text": [
      "Sending request\n"
     ]
    },
    {
     "name": "stderr",
     "output_type": "stream",
     "text": [
      "C:\\Users\\kircca22\\AppData\\Local\\Temp\\ipykernel_23292\\3022018798.py:5: PerformanceWarning: DataFrame is highly fragmented.  This is usually the result of calling `frame.insert` many times, which has poor performance.  Consider joining all columns at once using pd.concat(axis=1) instead. To get a de-fragmented frame, use `newframe = frame.copy()`\n",
      "  df_compo[date] = new_column[date]\n"
     ]
    },
    {
     "name": "stdout",
     "output_type": "stream",
     "text": [
      "Sending request\n"
     ]
    },
    {
     "name": "stderr",
     "output_type": "stream",
     "text": [
      "C:\\Users\\kircca22\\AppData\\Local\\Temp\\ipykernel_23292\\3022018798.py:5: PerformanceWarning: DataFrame is highly fragmented.  This is usually the result of calling `frame.insert` many times, which has poor performance.  Consider joining all columns at once using pd.concat(axis=1) instead. To get a de-fragmented frame, use `newframe = frame.copy()`\n",
      "  df_compo[date] = new_column[date]\n"
     ]
    },
    {
     "name": "stdout",
     "output_type": "stream",
     "text": [
      "Sending request\n"
     ]
    },
    {
     "name": "stderr",
     "output_type": "stream",
     "text": [
      "C:\\Users\\kircca22\\AppData\\Local\\Temp\\ipykernel_23292\\3022018798.py:5: PerformanceWarning: DataFrame is highly fragmented.  This is usually the result of calling `frame.insert` many times, which has poor performance.  Consider joining all columns at once using pd.concat(axis=1) instead. To get a de-fragmented frame, use `newframe = frame.copy()`\n",
      "  df_compo[date] = new_column[date]\n"
     ]
    },
    {
     "name": "stdout",
     "output_type": "stream",
     "text": [
      "Sending request\n"
     ]
    },
    {
     "name": "stderr",
     "output_type": "stream",
     "text": [
      "C:\\Users\\kircca22\\AppData\\Local\\Temp\\ipykernel_23292\\3022018798.py:5: PerformanceWarning: DataFrame is highly fragmented.  This is usually the result of calling `frame.insert` many times, which has poor performance.  Consider joining all columns at once using pd.concat(axis=1) instead. To get a de-fragmented frame, use `newframe = frame.copy()`\n",
      "  df_compo[date] = new_column[date]\n"
     ]
    },
    {
     "name": "stdout",
     "output_type": "stream",
     "text": [
      "Sending request\n"
     ]
    },
    {
     "name": "stderr",
     "output_type": "stream",
     "text": [
      "C:\\Users\\kircca22\\AppData\\Local\\Temp\\ipykernel_23292\\3022018798.py:5: PerformanceWarning: DataFrame is highly fragmented.  This is usually the result of calling `frame.insert` many times, which has poor performance.  Consider joining all columns at once using pd.concat(axis=1) instead. To get a de-fragmented frame, use `newframe = frame.copy()`\n",
      "  df_compo[date] = new_column[date]\n"
     ]
    },
    {
     "name": "stdout",
     "output_type": "stream",
     "text": [
      "Sending request\n"
     ]
    },
    {
     "name": "stderr",
     "output_type": "stream",
     "text": [
      "C:\\Users\\kircca22\\AppData\\Local\\Temp\\ipykernel_23292\\3022018798.py:5: PerformanceWarning: DataFrame is highly fragmented.  This is usually the result of calling `frame.insert` many times, which has poor performance.  Consider joining all columns at once using pd.concat(axis=1) instead. To get a de-fragmented frame, use `newframe = frame.copy()`\n",
      "  df_compo[date] = new_column[date]\n"
     ]
    },
    {
     "name": "stdout",
     "output_type": "stream",
     "text": [
      "Sending request\n"
     ]
    },
    {
     "name": "stderr",
     "output_type": "stream",
     "text": [
      "C:\\Users\\kircca22\\AppData\\Local\\Temp\\ipykernel_23292\\3022018798.py:5: PerformanceWarning: DataFrame is highly fragmented.  This is usually the result of calling `frame.insert` many times, which has poor performance.  Consider joining all columns at once using pd.concat(axis=1) instead. To get a de-fragmented frame, use `newframe = frame.copy()`\n",
      "  df_compo[date] = new_column[date]\n"
     ]
    },
    {
     "name": "stdout",
     "output_type": "stream",
     "text": [
      "Sending request\n"
     ]
    },
    {
     "name": "stderr",
     "output_type": "stream",
     "text": [
      "C:\\Users\\kircca22\\AppData\\Local\\Temp\\ipykernel_23292\\3022018798.py:5: PerformanceWarning: DataFrame is highly fragmented.  This is usually the result of calling `frame.insert` many times, which has poor performance.  Consider joining all columns at once using pd.concat(axis=1) instead. To get a de-fragmented frame, use `newframe = frame.copy()`\n",
      "  df_compo[date] = new_column[date]\n"
     ]
    },
    {
     "name": "stdout",
     "output_type": "stream",
     "text": [
      "Sending request\n"
     ]
    },
    {
     "name": "stderr",
     "output_type": "stream",
     "text": [
      "C:\\Users\\kircca22\\AppData\\Local\\Temp\\ipykernel_23292\\3022018798.py:5: PerformanceWarning: DataFrame is highly fragmented.  This is usually the result of calling `frame.insert` many times, which has poor performance.  Consider joining all columns at once using pd.concat(axis=1) instead. To get a de-fragmented frame, use `newframe = frame.copy()`\n",
      "  df_compo[date] = new_column[date]\n"
     ]
    },
    {
     "name": "stdout",
     "output_type": "stream",
     "text": [
      "Sending request\n"
     ]
    },
    {
     "name": "stderr",
     "output_type": "stream",
     "text": [
      "C:\\Users\\kircca22\\AppData\\Local\\Temp\\ipykernel_23292\\3022018798.py:5: PerformanceWarning: DataFrame is highly fragmented.  This is usually the result of calling `frame.insert` many times, which has poor performance.  Consider joining all columns at once using pd.concat(axis=1) instead. To get a de-fragmented frame, use `newframe = frame.copy()`\n",
      "  df_compo[date] = new_column[date]\n"
     ]
    },
    {
     "name": "stdout",
     "output_type": "stream",
     "text": [
      "Sending request\n"
     ]
    },
    {
     "name": "stderr",
     "output_type": "stream",
     "text": [
      "C:\\Users\\kircca22\\AppData\\Local\\Temp\\ipykernel_23292\\3022018798.py:5: PerformanceWarning: DataFrame is highly fragmented.  This is usually the result of calling `frame.insert` many times, which has poor performance.  Consider joining all columns at once using pd.concat(axis=1) instead. To get a de-fragmented frame, use `newframe = frame.copy()`\n",
      "  df_compo[date] = new_column[date]\n"
     ]
    },
    {
     "name": "stdout",
     "output_type": "stream",
     "text": [
      "Sending request\n"
     ]
    },
    {
     "name": "stderr",
     "output_type": "stream",
     "text": [
      "C:\\Users\\kircca22\\AppData\\Local\\Temp\\ipykernel_23292\\3022018798.py:5: PerformanceWarning: DataFrame is highly fragmented.  This is usually the result of calling `frame.insert` many times, which has poor performance.  Consider joining all columns at once using pd.concat(axis=1) instead. To get a de-fragmented frame, use `newframe = frame.copy()`\n",
      "  df_compo[date] = new_column[date]\n"
     ]
    },
    {
     "name": "stdout",
     "output_type": "stream",
     "text": [
      "Sending request\n"
     ]
    },
    {
     "name": "stderr",
     "output_type": "stream",
     "text": [
      "C:\\Users\\kircca22\\AppData\\Local\\Temp\\ipykernel_23292\\3022018798.py:5: PerformanceWarning: DataFrame is highly fragmented.  This is usually the result of calling `frame.insert` many times, which has poor performance.  Consider joining all columns at once using pd.concat(axis=1) instead. To get a de-fragmented frame, use `newframe = frame.copy()`\n",
      "  df_compo[date] = new_column[date]\n"
     ]
    },
    {
     "name": "stdout",
     "output_type": "stream",
     "text": [
      "Sending request\n"
     ]
    },
    {
     "name": "stderr",
     "output_type": "stream",
     "text": [
      "C:\\Users\\kircca22\\AppData\\Local\\Temp\\ipykernel_23292\\3022018798.py:5: PerformanceWarning: DataFrame is highly fragmented.  This is usually the result of calling `frame.insert` many times, which has poor performance.  Consider joining all columns at once using pd.concat(axis=1) instead. To get a de-fragmented frame, use `newframe = frame.copy()`\n",
      "  df_compo[date] = new_column[date]\n"
     ]
    },
    {
     "name": "stdout",
     "output_type": "stream",
     "text": [
      "Sending request\n"
     ]
    },
    {
     "name": "stderr",
     "output_type": "stream",
     "text": [
      "C:\\Users\\kircca22\\AppData\\Local\\Temp\\ipykernel_23292\\3022018798.py:5: PerformanceWarning: DataFrame is highly fragmented.  This is usually the result of calling `frame.insert` many times, which has poor performance.  Consider joining all columns at once using pd.concat(axis=1) instead. To get a de-fragmented frame, use `newframe = frame.copy()`\n",
      "  df_compo[date] = new_column[date]\n"
     ]
    },
    {
     "name": "stdout",
     "output_type": "stream",
     "text": [
      "Sending request\n"
     ]
    },
    {
     "name": "stderr",
     "output_type": "stream",
     "text": [
      "C:\\Users\\kircca22\\AppData\\Local\\Temp\\ipykernel_23292\\3022018798.py:5: PerformanceWarning: DataFrame is highly fragmented.  This is usually the result of calling `frame.insert` many times, which has poor performance.  Consider joining all columns at once using pd.concat(axis=1) instead. To get a de-fragmented frame, use `newframe = frame.copy()`\n",
      "  df_compo[date] = new_column[date]\n"
     ]
    },
    {
     "name": "stdout",
     "output_type": "stream",
     "text": [
      "Sending request\n"
     ]
    },
    {
     "name": "stderr",
     "output_type": "stream",
     "text": [
      "C:\\Users\\kircca22\\AppData\\Local\\Temp\\ipykernel_23292\\3022018798.py:5: PerformanceWarning: DataFrame is highly fragmented.  This is usually the result of calling `frame.insert` many times, which has poor performance.  Consider joining all columns at once using pd.concat(axis=1) instead. To get a de-fragmented frame, use `newframe = frame.copy()`\n",
      "  df_compo[date] = new_column[date]\n"
     ]
    },
    {
     "name": "stdout",
     "output_type": "stream",
     "text": [
      "Sending request\n"
     ]
    },
    {
     "name": "stderr",
     "output_type": "stream",
     "text": [
      "C:\\Users\\kircca22\\AppData\\Local\\Temp\\ipykernel_23292\\3022018798.py:5: PerformanceWarning: DataFrame is highly fragmented.  This is usually the result of calling `frame.insert` many times, which has poor performance.  Consider joining all columns at once using pd.concat(axis=1) instead. To get a de-fragmented frame, use `newframe = frame.copy()`\n",
      "  df_compo[date] = new_column[date]\n"
     ]
    },
    {
     "name": "stdout",
     "output_type": "stream",
     "text": [
      "Sending request\n"
     ]
    },
    {
     "name": "stderr",
     "output_type": "stream",
     "text": [
      "C:\\Users\\kircca22\\AppData\\Local\\Temp\\ipykernel_23292\\3022018798.py:5: PerformanceWarning: DataFrame is highly fragmented.  This is usually the result of calling `frame.insert` many times, which has poor performance.  Consider joining all columns at once using pd.concat(axis=1) instead. To get a de-fragmented frame, use `newframe = frame.copy()`\n",
      "  df_compo[date] = new_column[date]\n"
     ]
    },
    {
     "name": "stdout",
     "output_type": "stream",
     "text": [
      "Sending request\n"
     ]
    },
    {
     "name": "stderr",
     "output_type": "stream",
     "text": [
      "C:\\Users\\kircca22\\AppData\\Local\\Temp\\ipykernel_23292\\3022018798.py:5: PerformanceWarning: DataFrame is highly fragmented.  This is usually the result of calling `frame.insert` many times, which has poor performance.  Consider joining all columns at once using pd.concat(axis=1) instead. To get a de-fragmented frame, use `newframe = frame.copy()`\n",
      "  df_compo[date] = new_column[date]\n"
     ]
    },
    {
     "name": "stdout",
     "output_type": "stream",
     "text": [
      "Sending request\n"
     ]
    },
    {
     "name": "stderr",
     "output_type": "stream",
     "text": [
      "C:\\Users\\kircca22\\AppData\\Local\\Temp\\ipykernel_23292\\3022018798.py:5: PerformanceWarning: DataFrame is highly fragmented.  This is usually the result of calling `frame.insert` many times, which has poor performance.  Consider joining all columns at once using pd.concat(axis=1) instead. To get a de-fragmented frame, use `newframe = frame.copy()`\n",
      "  df_compo[date] = new_column[date]\n"
     ]
    },
    {
     "name": "stdout",
     "output_type": "stream",
     "text": [
      "Sending request\n"
     ]
    },
    {
     "name": "stderr",
     "output_type": "stream",
     "text": [
      "C:\\Users\\kircca22\\AppData\\Local\\Temp\\ipykernel_23292\\3022018798.py:5: PerformanceWarning: DataFrame is highly fragmented.  This is usually the result of calling `frame.insert` many times, which has poor performance.  Consider joining all columns at once using pd.concat(axis=1) instead. To get a de-fragmented frame, use `newframe = frame.copy()`\n",
      "  df_compo[date] = new_column[date]\n"
     ]
    },
    {
     "name": "stdout",
     "output_type": "stream",
     "text": [
      "Sending request\n"
     ]
    },
    {
     "name": "stderr",
     "output_type": "stream",
     "text": [
      "C:\\Users\\kircca22\\AppData\\Local\\Temp\\ipykernel_23292\\3022018798.py:5: PerformanceWarning: DataFrame is highly fragmented.  This is usually the result of calling `frame.insert` many times, which has poor performance.  Consider joining all columns at once using pd.concat(axis=1) instead. To get a de-fragmented frame, use `newframe = frame.copy()`\n",
      "  df_compo[date] = new_column[date]\n"
     ]
    },
    {
     "name": "stdout",
     "output_type": "stream",
     "text": [
      "Sending request\n"
     ]
    },
    {
     "name": "stderr",
     "output_type": "stream",
     "text": [
      "C:\\Users\\kircca22\\AppData\\Local\\Temp\\ipykernel_23292\\3022018798.py:5: PerformanceWarning: DataFrame is highly fragmented.  This is usually the result of calling `frame.insert` many times, which has poor performance.  Consider joining all columns at once using pd.concat(axis=1) instead. To get a de-fragmented frame, use `newframe = frame.copy()`\n",
      "  df_compo[date] = new_column[date]\n"
     ]
    },
    {
     "name": "stdout",
     "output_type": "stream",
     "text": [
      "Sending request\n"
     ]
    },
    {
     "name": "stderr",
     "output_type": "stream",
     "text": [
      "C:\\Users\\kircca22\\AppData\\Local\\Temp\\ipykernel_23292\\3022018798.py:5: PerformanceWarning: DataFrame is highly fragmented.  This is usually the result of calling `frame.insert` many times, which has poor performance.  Consider joining all columns at once using pd.concat(axis=1) instead. To get a de-fragmented frame, use `newframe = frame.copy()`\n",
      "  df_compo[date] = new_column[date]\n"
     ]
    },
    {
     "name": "stdout",
     "output_type": "stream",
     "text": [
      "Sending request\n"
     ]
    },
    {
     "name": "stderr",
     "output_type": "stream",
     "text": [
      "C:\\Users\\kircca22\\AppData\\Local\\Temp\\ipykernel_23292\\3022018798.py:5: PerformanceWarning: DataFrame is highly fragmented.  This is usually the result of calling `frame.insert` many times, which has poor performance.  Consider joining all columns at once using pd.concat(axis=1) instead. To get a de-fragmented frame, use `newframe = frame.copy()`\n",
      "  df_compo[date] = new_column[date]\n"
     ]
    },
    {
     "name": "stdout",
     "output_type": "stream",
     "text": [
      "Sending request\n"
     ]
    },
    {
     "name": "stderr",
     "output_type": "stream",
     "text": [
      "C:\\Users\\kircca22\\AppData\\Local\\Temp\\ipykernel_23292\\3022018798.py:5: PerformanceWarning: DataFrame is highly fragmented.  This is usually the result of calling `frame.insert` many times, which has poor performance.  Consider joining all columns at once using pd.concat(axis=1) instead. To get a de-fragmented frame, use `newframe = frame.copy()`\n",
      "  df_compo[date] = new_column[date]\n"
     ]
    },
    {
     "name": "stdout",
     "output_type": "stream",
     "text": [
      "Sending request\n"
     ]
    },
    {
     "name": "stderr",
     "output_type": "stream",
     "text": [
      "C:\\Users\\kircca22\\AppData\\Local\\Temp\\ipykernel_23292\\3022018798.py:5: PerformanceWarning: DataFrame is highly fragmented.  This is usually the result of calling `frame.insert` many times, which has poor performance.  Consider joining all columns at once using pd.concat(axis=1) instead. To get a de-fragmented frame, use `newframe = frame.copy()`\n",
      "  df_compo[date] = new_column[date]\n"
     ]
    },
    {
     "name": "stdout",
     "output_type": "stream",
     "text": [
      "Sending request\n"
     ]
    },
    {
     "name": "stderr",
     "output_type": "stream",
     "text": [
      "C:\\Users\\kircca22\\AppData\\Local\\Temp\\ipykernel_23292\\3022018798.py:5: PerformanceWarning: DataFrame is highly fragmented.  This is usually the result of calling `frame.insert` many times, which has poor performance.  Consider joining all columns at once using pd.concat(axis=1) instead. To get a de-fragmented frame, use `newframe = frame.copy()`\n",
      "  df_compo[date] = new_column[date]\n"
     ]
    },
    {
     "name": "stdout",
     "output_type": "stream",
     "text": [
      "Sending request\n"
     ]
    },
    {
     "name": "stderr",
     "output_type": "stream",
     "text": [
      "C:\\Users\\kircca22\\AppData\\Local\\Temp\\ipykernel_23292\\3022018798.py:5: PerformanceWarning: DataFrame is highly fragmented.  This is usually the result of calling `frame.insert` many times, which has poor performance.  Consider joining all columns at once using pd.concat(axis=1) instead. To get a de-fragmented frame, use `newframe = frame.copy()`\n",
      "  df_compo[date] = new_column[date]\n"
     ]
    },
    {
     "name": "stdout",
     "output_type": "stream",
     "text": [
      "Sending request\n"
     ]
    },
    {
     "name": "stderr",
     "output_type": "stream",
     "text": [
      "C:\\Users\\kircca22\\AppData\\Local\\Temp\\ipykernel_23292\\3022018798.py:5: PerformanceWarning: DataFrame is highly fragmented.  This is usually the result of calling `frame.insert` many times, which has poor performance.  Consider joining all columns at once using pd.concat(axis=1) instead. To get a de-fragmented frame, use `newframe = frame.copy()`\n",
      "  df_compo[date] = new_column[date]\n"
     ]
    },
    {
     "name": "stdout",
     "output_type": "stream",
     "text": [
      "Sending request\n"
     ]
    },
    {
     "name": "stderr",
     "output_type": "stream",
     "text": [
      "C:\\Users\\kircca22\\AppData\\Local\\Temp\\ipykernel_23292\\3022018798.py:5: PerformanceWarning: DataFrame is highly fragmented.  This is usually the result of calling `frame.insert` many times, which has poor performance.  Consider joining all columns at once using pd.concat(axis=1) instead. To get a de-fragmented frame, use `newframe = frame.copy()`\n",
      "  df_compo[date] = new_column[date]\n"
     ]
    },
    {
     "name": "stdout",
     "output_type": "stream",
     "text": [
      "Sending request\n"
     ]
    },
    {
     "name": "stderr",
     "output_type": "stream",
     "text": [
      "C:\\Users\\kircca22\\AppData\\Local\\Temp\\ipykernel_23292\\3022018798.py:5: PerformanceWarning: DataFrame is highly fragmented.  This is usually the result of calling `frame.insert` many times, which has poor performance.  Consider joining all columns at once using pd.concat(axis=1) instead. To get a de-fragmented frame, use `newframe = frame.copy()`\n",
      "  df_compo[date] = new_column[date]\n"
     ]
    },
    {
     "name": "stdout",
     "output_type": "stream",
     "text": [
      "Sending request\n"
     ]
    },
    {
     "name": "stderr",
     "output_type": "stream",
     "text": [
      "C:\\Users\\kircca22\\AppData\\Local\\Temp\\ipykernel_23292\\3022018798.py:5: PerformanceWarning: DataFrame is highly fragmented.  This is usually the result of calling `frame.insert` many times, which has poor performance.  Consider joining all columns at once using pd.concat(axis=1) instead. To get a de-fragmented frame, use `newframe = frame.copy()`\n",
      "  df_compo[date] = new_column[date]\n"
     ]
    },
    {
     "name": "stdout",
     "output_type": "stream",
     "text": [
      "Sending request\n"
     ]
    },
    {
     "name": "stderr",
     "output_type": "stream",
     "text": [
      "C:\\Users\\kircca22\\AppData\\Local\\Temp\\ipykernel_23292\\3022018798.py:5: PerformanceWarning: DataFrame is highly fragmented.  This is usually the result of calling `frame.insert` many times, which has poor performance.  Consider joining all columns at once using pd.concat(axis=1) instead. To get a de-fragmented frame, use `newframe = frame.copy()`\n",
      "  df_compo[date] = new_column[date]\n"
     ]
    },
    {
     "name": "stdout",
     "output_type": "stream",
     "text": [
      "Sending request\n"
     ]
    },
    {
     "name": "stderr",
     "output_type": "stream",
     "text": [
      "C:\\Users\\kircca22\\AppData\\Local\\Temp\\ipykernel_23292\\3022018798.py:5: PerformanceWarning: DataFrame is highly fragmented.  This is usually the result of calling `frame.insert` many times, which has poor performance.  Consider joining all columns at once using pd.concat(axis=1) instead. To get a de-fragmented frame, use `newframe = frame.copy()`\n",
      "  df_compo[date] = new_column[date]\n"
     ]
    },
    {
     "name": "stdout",
     "output_type": "stream",
     "text": [
      "Sending request\n"
     ]
    },
    {
     "name": "stderr",
     "output_type": "stream",
     "text": [
      "C:\\Users\\kircca22\\AppData\\Local\\Temp\\ipykernel_23292\\3022018798.py:5: PerformanceWarning: DataFrame is highly fragmented.  This is usually the result of calling `frame.insert` many times, which has poor performance.  Consider joining all columns at once using pd.concat(axis=1) instead. To get a de-fragmented frame, use `newframe = frame.copy()`\n",
      "  df_compo[date] = new_column[date]\n"
     ]
    },
    {
     "name": "stdout",
     "output_type": "stream",
     "text": [
      "Sending request\n"
     ]
    },
    {
     "name": "stderr",
     "output_type": "stream",
     "text": [
      "C:\\Users\\kircca22\\AppData\\Local\\Temp\\ipykernel_23292\\3022018798.py:5: PerformanceWarning: DataFrame is highly fragmented.  This is usually the result of calling `frame.insert` many times, which has poor performance.  Consider joining all columns at once using pd.concat(axis=1) instead. To get a de-fragmented frame, use `newframe = frame.copy()`\n",
      "  df_compo[date] = new_column[date]\n"
     ]
    },
    {
     "name": "stdout",
     "output_type": "stream",
     "text": [
      "Sending request\n"
     ]
    },
    {
     "name": "stderr",
     "output_type": "stream",
     "text": [
      "C:\\Users\\kircca22\\AppData\\Local\\Temp\\ipykernel_23292\\3022018798.py:5: PerformanceWarning: DataFrame is highly fragmented.  This is usually the result of calling `frame.insert` many times, which has poor performance.  Consider joining all columns at once using pd.concat(axis=1) instead. To get a de-fragmented frame, use `newframe = frame.copy()`\n",
      "  df_compo[date] = new_column[date]\n"
     ]
    },
    {
     "name": "stdout",
     "output_type": "stream",
     "text": [
      "Sending request\n"
     ]
    },
    {
     "name": "stderr",
     "output_type": "stream",
     "text": [
      "C:\\Users\\kircca22\\AppData\\Local\\Temp\\ipykernel_23292\\3022018798.py:5: PerformanceWarning: DataFrame is highly fragmented.  This is usually the result of calling `frame.insert` many times, which has poor performance.  Consider joining all columns at once using pd.concat(axis=1) instead. To get a de-fragmented frame, use `newframe = frame.copy()`\n",
      "  df_compo[date] = new_column[date]\n"
     ]
    },
    {
     "name": "stdout",
     "output_type": "stream",
     "text": [
      "Sending request\n"
     ]
    },
    {
     "name": "stderr",
     "output_type": "stream",
     "text": [
      "C:\\Users\\kircca22\\AppData\\Local\\Temp\\ipykernel_23292\\3022018798.py:5: PerformanceWarning: DataFrame is highly fragmented.  This is usually the result of calling `frame.insert` many times, which has poor performance.  Consider joining all columns at once using pd.concat(axis=1) instead. To get a de-fragmented frame, use `newframe = frame.copy()`\n",
      "  df_compo[date] = new_column[date]\n"
     ]
    },
    {
     "name": "stdout",
     "output_type": "stream",
     "text": [
      "Sending request\n"
     ]
    },
    {
     "name": "stderr",
     "output_type": "stream",
     "text": [
      "C:\\Users\\kircca22\\AppData\\Local\\Temp\\ipykernel_23292\\3022018798.py:5: PerformanceWarning: DataFrame is highly fragmented.  This is usually the result of calling `frame.insert` many times, which has poor performance.  Consider joining all columns at once using pd.concat(axis=1) instead. To get a de-fragmented frame, use `newframe = frame.copy()`\n",
      "  df_compo[date] = new_column[date]\n"
     ]
    },
    {
     "name": "stdout",
     "output_type": "stream",
     "text": [
      "Sending request\n"
     ]
    },
    {
     "name": "stderr",
     "output_type": "stream",
     "text": [
      "C:\\Users\\kircca22\\AppData\\Local\\Temp\\ipykernel_23292\\3022018798.py:5: PerformanceWarning: DataFrame is highly fragmented.  This is usually the result of calling `frame.insert` many times, which has poor performance.  Consider joining all columns at once using pd.concat(axis=1) instead. To get a de-fragmented frame, use `newframe = frame.copy()`\n",
      "  df_compo[date] = new_column[date]\n"
     ]
    },
    {
     "name": "stdout",
     "output_type": "stream",
     "text": [
      "Sending request\n"
     ]
    },
    {
     "name": "stderr",
     "output_type": "stream",
     "text": [
      "C:\\Users\\kircca22\\AppData\\Local\\Temp\\ipykernel_23292\\3022018798.py:5: PerformanceWarning: DataFrame is highly fragmented.  This is usually the result of calling `frame.insert` many times, which has poor performance.  Consider joining all columns at once using pd.concat(axis=1) instead. To get a de-fragmented frame, use `newframe = frame.copy()`\n",
      "  df_compo[date] = new_column[date]\n"
     ]
    },
    {
     "name": "stdout",
     "output_type": "stream",
     "text": [
      "Sending request\n"
     ]
    },
    {
     "name": "stderr",
     "output_type": "stream",
     "text": [
      "C:\\Users\\kircca22\\AppData\\Local\\Temp\\ipykernel_23292\\3022018798.py:5: PerformanceWarning: DataFrame is highly fragmented.  This is usually the result of calling `frame.insert` many times, which has poor performance.  Consider joining all columns at once using pd.concat(axis=1) instead. To get a de-fragmented frame, use `newframe = frame.copy()`\n",
      "  df_compo[date] = new_column[date]\n"
     ]
    },
    {
     "name": "stdout",
     "output_type": "stream",
     "text": [
      "Sending request\n"
     ]
    },
    {
     "name": "stderr",
     "output_type": "stream",
     "text": [
      "C:\\Users\\kircca22\\AppData\\Local\\Temp\\ipykernel_23292\\3022018798.py:5: PerformanceWarning: DataFrame is highly fragmented.  This is usually the result of calling `frame.insert` many times, which has poor performance.  Consider joining all columns at once using pd.concat(axis=1) instead. To get a de-fragmented frame, use `newframe = frame.copy()`\n",
      "  df_compo[date] = new_column[date]\n"
     ]
    },
    {
     "name": "stdout",
     "output_type": "stream",
     "text": [
      "Sending request\n"
     ]
    },
    {
     "name": "stderr",
     "output_type": "stream",
     "text": [
      "C:\\Users\\kircca22\\AppData\\Local\\Temp\\ipykernel_23292\\3022018798.py:5: PerformanceWarning: DataFrame is highly fragmented.  This is usually the result of calling `frame.insert` many times, which has poor performance.  Consider joining all columns at once using pd.concat(axis=1) instead. To get a de-fragmented frame, use `newframe = frame.copy()`\n",
      "  df_compo[date] = new_column[date]\n"
     ]
    },
    {
     "name": "stdout",
     "output_type": "stream",
     "text": [
      "Sending request\n"
     ]
    },
    {
     "name": "stderr",
     "output_type": "stream",
     "text": [
      "C:\\Users\\kircca22\\AppData\\Local\\Temp\\ipykernel_23292\\3022018798.py:5: PerformanceWarning: DataFrame is highly fragmented.  This is usually the result of calling `frame.insert` many times, which has poor performance.  Consider joining all columns at once using pd.concat(axis=1) instead. To get a de-fragmented frame, use `newframe = frame.copy()`\n",
      "  df_compo[date] = new_column[date]\n"
     ]
    },
    {
     "name": "stdout",
     "output_type": "stream",
     "text": [
      "Sending request\n"
     ]
    },
    {
     "name": "stderr",
     "output_type": "stream",
     "text": [
      "C:\\Users\\kircca22\\AppData\\Local\\Temp\\ipykernel_23292\\3022018798.py:5: PerformanceWarning: DataFrame is highly fragmented.  This is usually the result of calling `frame.insert` many times, which has poor performance.  Consider joining all columns at once using pd.concat(axis=1) instead. To get a de-fragmented frame, use `newframe = frame.copy()`\n",
      "  df_compo[date] = new_column[date]\n"
     ]
    },
    {
     "name": "stdout",
     "output_type": "stream",
     "text": [
      "Sending request\n"
     ]
    },
    {
     "name": "stderr",
     "output_type": "stream",
     "text": [
      "C:\\Users\\kircca22\\AppData\\Local\\Temp\\ipykernel_23292\\3022018798.py:5: PerformanceWarning: DataFrame is highly fragmented.  This is usually the result of calling `frame.insert` many times, which has poor performance.  Consider joining all columns at once using pd.concat(axis=1) instead. To get a de-fragmented frame, use `newframe = frame.copy()`\n",
      "  df_compo[date] = new_column[date]\n"
     ]
    },
    {
     "name": "stdout",
     "output_type": "stream",
     "text": [
      "Sending request\n"
     ]
    },
    {
     "name": "stderr",
     "output_type": "stream",
     "text": [
      "C:\\Users\\kircca22\\AppData\\Local\\Temp\\ipykernel_23292\\3022018798.py:5: PerformanceWarning: DataFrame is highly fragmented.  This is usually the result of calling `frame.insert` many times, which has poor performance.  Consider joining all columns at once using pd.concat(axis=1) instead. To get a de-fragmented frame, use `newframe = frame.copy()`\n",
      "  df_compo[date] = new_column[date]\n"
     ]
    },
    {
     "name": "stdout",
     "output_type": "stream",
     "text": [
      "Sending request\n"
     ]
    },
    {
     "name": "stderr",
     "output_type": "stream",
     "text": [
      "C:\\Users\\kircca22\\AppData\\Local\\Temp\\ipykernel_23292\\3022018798.py:5: PerformanceWarning: DataFrame is highly fragmented.  This is usually the result of calling `frame.insert` many times, which has poor performance.  Consider joining all columns at once using pd.concat(axis=1) instead. To get a de-fragmented frame, use `newframe = frame.copy()`\n",
      "  df_compo[date] = new_column[date]\n"
     ]
    },
    {
     "name": "stdout",
     "output_type": "stream",
     "text": [
      "Sending request\n"
     ]
    },
    {
     "name": "stderr",
     "output_type": "stream",
     "text": [
      "C:\\Users\\kircca22\\AppData\\Local\\Temp\\ipykernel_23292\\3022018798.py:5: PerformanceWarning: DataFrame is highly fragmented.  This is usually the result of calling `frame.insert` many times, which has poor performance.  Consider joining all columns at once using pd.concat(axis=1) instead. To get a de-fragmented frame, use `newframe = frame.copy()`\n",
      "  df_compo[date] = new_column[date]\n"
     ]
    },
    {
     "name": "stdout",
     "output_type": "stream",
     "text": [
      "Sending request\n"
     ]
    },
    {
     "name": "stderr",
     "output_type": "stream",
     "text": [
      "C:\\Users\\kircca22\\AppData\\Local\\Temp\\ipykernel_23292\\3022018798.py:5: PerformanceWarning: DataFrame is highly fragmented.  This is usually the result of calling `frame.insert` many times, which has poor performance.  Consider joining all columns at once using pd.concat(axis=1) instead. To get a de-fragmented frame, use `newframe = frame.copy()`\n",
      "  df_compo[date] = new_column[date]\n"
     ]
    },
    {
     "name": "stdout",
     "output_type": "stream",
     "text": [
      "Sending request\n"
     ]
    },
    {
     "name": "stderr",
     "output_type": "stream",
     "text": [
      "C:\\Users\\kircca22\\AppData\\Local\\Temp\\ipykernel_23292\\3022018798.py:5: PerformanceWarning: DataFrame is highly fragmented.  This is usually the result of calling `frame.insert` many times, which has poor performance.  Consider joining all columns at once using pd.concat(axis=1) instead. To get a de-fragmented frame, use `newframe = frame.copy()`\n",
      "  df_compo[date] = new_column[date]\n"
     ]
    },
    {
     "name": "stdout",
     "output_type": "stream",
     "text": [
      "Sending request\n"
     ]
    },
    {
     "name": "stderr",
     "output_type": "stream",
     "text": [
      "C:\\Users\\kircca22\\AppData\\Local\\Temp\\ipykernel_23292\\3022018798.py:5: PerformanceWarning: DataFrame is highly fragmented.  This is usually the result of calling `frame.insert` many times, which has poor performance.  Consider joining all columns at once using pd.concat(axis=1) instead. To get a de-fragmented frame, use `newframe = frame.copy()`\n",
      "  df_compo[date] = new_column[date]\n"
     ]
    },
    {
     "name": "stdout",
     "output_type": "stream",
     "text": [
      "Sending request\n"
     ]
    },
    {
     "name": "stderr",
     "output_type": "stream",
     "text": [
      "C:\\Users\\kircca22\\AppData\\Local\\Temp\\ipykernel_23292\\3022018798.py:5: PerformanceWarning: DataFrame is highly fragmented.  This is usually the result of calling `frame.insert` many times, which has poor performance.  Consider joining all columns at once using pd.concat(axis=1) instead. To get a de-fragmented frame, use `newframe = frame.copy()`\n",
      "  df_compo[date] = new_column[date]\n"
     ]
    },
    {
     "name": "stdout",
     "output_type": "stream",
     "text": [
      "Sending request\n"
     ]
    },
    {
     "name": "stderr",
     "output_type": "stream",
     "text": [
      "C:\\Users\\kircca22\\AppData\\Local\\Temp\\ipykernel_23292\\3022018798.py:5: PerformanceWarning: DataFrame is highly fragmented.  This is usually the result of calling `frame.insert` many times, which has poor performance.  Consider joining all columns at once using pd.concat(axis=1) instead. To get a de-fragmented frame, use `newframe = frame.copy()`\n",
      "  df_compo[date] = new_column[date]\n"
     ]
    },
    {
     "name": "stdout",
     "output_type": "stream",
     "text": [
      "Sending request\n"
     ]
    },
    {
     "name": "stderr",
     "output_type": "stream",
     "text": [
      "C:\\Users\\kircca22\\AppData\\Local\\Temp\\ipykernel_23292\\3022018798.py:5: PerformanceWarning: DataFrame is highly fragmented.  This is usually the result of calling `frame.insert` many times, which has poor performance.  Consider joining all columns at once using pd.concat(axis=1) instead. To get a de-fragmented frame, use `newframe = frame.copy()`\n",
      "  df_compo[date] = new_column[date]\n"
     ]
    },
    {
     "name": "stdout",
     "output_type": "stream",
     "text": [
      "Sending request\n"
     ]
    },
    {
     "name": "stderr",
     "output_type": "stream",
     "text": [
      "C:\\Users\\kircca22\\AppData\\Local\\Temp\\ipykernel_23292\\3022018798.py:5: PerformanceWarning: DataFrame is highly fragmented.  This is usually the result of calling `frame.insert` many times, which has poor performance.  Consider joining all columns at once using pd.concat(axis=1) instead. To get a de-fragmented frame, use `newframe = frame.copy()`\n",
      "  df_compo[date] = new_column[date]\n"
     ]
    },
    {
     "name": "stdout",
     "output_type": "stream",
     "text": [
      "Sending request\n"
     ]
    },
    {
     "name": "stderr",
     "output_type": "stream",
     "text": [
      "C:\\Users\\kircca22\\AppData\\Local\\Temp\\ipykernel_23292\\3022018798.py:5: PerformanceWarning: DataFrame is highly fragmented.  This is usually the result of calling `frame.insert` many times, which has poor performance.  Consider joining all columns at once using pd.concat(axis=1) instead. To get a de-fragmented frame, use `newframe = frame.copy()`\n",
      "  df_compo[date] = new_column[date]\n"
     ]
    },
    {
     "name": "stdout",
     "output_type": "stream",
     "text": [
      "Sending request\n"
     ]
    },
    {
     "name": "stderr",
     "output_type": "stream",
     "text": [
      "C:\\Users\\kircca22\\AppData\\Local\\Temp\\ipykernel_23292\\3022018798.py:5: PerformanceWarning: DataFrame is highly fragmented.  This is usually the result of calling `frame.insert` many times, which has poor performance.  Consider joining all columns at once using pd.concat(axis=1) instead. To get a de-fragmented frame, use `newframe = frame.copy()`\n",
      "  df_compo[date] = new_column[date]\n"
     ]
    },
    {
     "name": "stdout",
     "output_type": "stream",
     "text": [
      "Sending request\n"
     ]
    },
    {
     "name": "stderr",
     "output_type": "stream",
     "text": [
      "C:\\Users\\kircca22\\AppData\\Local\\Temp\\ipykernel_23292\\3022018798.py:5: PerformanceWarning: DataFrame is highly fragmented.  This is usually the result of calling `frame.insert` many times, which has poor performance.  Consider joining all columns at once using pd.concat(axis=1) instead. To get a de-fragmented frame, use `newframe = frame.copy()`\n",
      "  df_compo[date] = new_column[date]\n"
     ]
    },
    {
     "name": "stdout",
     "output_type": "stream",
     "text": [
      "Sending request\n"
     ]
    },
    {
     "name": "stderr",
     "output_type": "stream",
     "text": [
      "C:\\Users\\kircca22\\AppData\\Local\\Temp\\ipykernel_23292\\3022018798.py:5: PerformanceWarning: DataFrame is highly fragmented.  This is usually the result of calling `frame.insert` many times, which has poor performance.  Consider joining all columns at once using pd.concat(axis=1) instead. To get a de-fragmented frame, use `newframe = frame.copy()`\n",
      "  df_compo[date] = new_column[date]\n"
     ]
    },
    {
     "name": "stdout",
     "output_type": "stream",
     "text": [
      "Sending request\n"
     ]
    },
    {
     "name": "stderr",
     "output_type": "stream",
     "text": [
      "C:\\Users\\kircca22\\AppData\\Local\\Temp\\ipykernel_23292\\3022018798.py:5: PerformanceWarning: DataFrame is highly fragmented.  This is usually the result of calling `frame.insert` many times, which has poor performance.  Consider joining all columns at once using pd.concat(axis=1) instead. To get a de-fragmented frame, use `newframe = frame.copy()`\n",
      "  df_compo[date] = new_column[date]\n"
     ]
    },
    {
     "name": "stdout",
     "output_type": "stream",
     "text": [
      "Sending request\n"
     ]
    },
    {
     "name": "stderr",
     "output_type": "stream",
     "text": [
      "C:\\Users\\kircca22\\AppData\\Local\\Temp\\ipykernel_23292\\3022018798.py:5: PerformanceWarning: DataFrame is highly fragmented.  This is usually the result of calling `frame.insert` many times, which has poor performance.  Consider joining all columns at once using pd.concat(axis=1) instead. To get a de-fragmented frame, use `newframe = frame.copy()`\n",
      "  df_compo[date] = new_column[date]\n"
     ]
    },
    {
     "name": "stdout",
     "output_type": "stream",
     "text": [
      "Sending request\n"
     ]
    },
    {
     "name": "stderr",
     "output_type": "stream",
     "text": [
      "C:\\Users\\kircca22\\AppData\\Local\\Temp\\ipykernel_23292\\3022018798.py:5: PerformanceWarning: DataFrame is highly fragmented.  This is usually the result of calling `frame.insert` many times, which has poor performance.  Consider joining all columns at once using pd.concat(axis=1) instead. To get a de-fragmented frame, use `newframe = frame.copy()`\n",
      "  df_compo[date] = new_column[date]\n"
     ]
    },
    {
     "name": "stdout",
     "output_type": "stream",
     "text": [
      "Sending request\n"
     ]
    },
    {
     "name": "stderr",
     "output_type": "stream",
     "text": [
      "C:\\Users\\kircca22\\AppData\\Local\\Temp\\ipykernel_23292\\3022018798.py:5: PerformanceWarning: DataFrame is highly fragmented.  This is usually the result of calling `frame.insert` many times, which has poor performance.  Consider joining all columns at once using pd.concat(axis=1) instead. To get a de-fragmented frame, use `newframe = frame.copy()`\n",
      "  df_compo[date] = new_column[date]\n"
     ]
    },
    {
     "name": "stdout",
     "output_type": "stream",
     "text": [
      "Sending request\n"
     ]
    },
    {
     "name": "stderr",
     "output_type": "stream",
     "text": [
      "C:\\Users\\kircca22\\AppData\\Local\\Temp\\ipykernel_23292\\3022018798.py:5: PerformanceWarning: DataFrame is highly fragmented.  This is usually the result of calling `frame.insert` many times, which has poor performance.  Consider joining all columns at once using pd.concat(axis=1) instead. To get a de-fragmented frame, use `newframe = frame.copy()`\n",
      "  df_compo[date] = new_column[date]\n"
     ]
    },
    {
     "name": "stdout",
     "output_type": "stream",
     "text": [
      "Sending request\n"
     ]
    },
    {
     "name": "stderr",
     "output_type": "stream",
     "text": [
      "C:\\Users\\kircca22\\AppData\\Local\\Temp\\ipykernel_23292\\3022018798.py:5: PerformanceWarning: DataFrame is highly fragmented.  This is usually the result of calling `frame.insert` many times, which has poor performance.  Consider joining all columns at once using pd.concat(axis=1) instead. To get a de-fragmented frame, use `newframe = frame.copy()`\n",
      "  df_compo[date] = new_column[date]\n"
     ]
    },
    {
     "name": "stdout",
     "output_type": "stream",
     "text": [
      "Sending request\n"
     ]
    },
    {
     "name": "stderr",
     "output_type": "stream",
     "text": [
      "C:\\Users\\kircca22\\AppData\\Local\\Temp\\ipykernel_23292\\3022018798.py:5: PerformanceWarning: DataFrame is highly fragmented.  This is usually the result of calling `frame.insert` many times, which has poor performance.  Consider joining all columns at once using pd.concat(axis=1) instead. To get a de-fragmented frame, use `newframe = frame.copy()`\n",
      "  df_compo[date] = new_column[date]\n"
     ]
    },
    {
     "name": "stdout",
     "output_type": "stream",
     "text": [
      "Sending request\n"
     ]
    },
    {
     "name": "stderr",
     "output_type": "stream",
     "text": [
      "C:\\Users\\kircca22\\AppData\\Local\\Temp\\ipykernel_23292\\3022018798.py:5: PerformanceWarning: DataFrame is highly fragmented.  This is usually the result of calling `frame.insert` many times, which has poor performance.  Consider joining all columns at once using pd.concat(axis=1) instead. To get a de-fragmented frame, use `newframe = frame.copy()`\n",
      "  df_compo[date] = new_column[date]\n"
     ]
    },
    {
     "name": "stdout",
     "output_type": "stream",
     "text": [
      "Sending request\n"
     ]
    },
    {
     "name": "stderr",
     "output_type": "stream",
     "text": [
      "C:\\Users\\kircca22\\AppData\\Local\\Temp\\ipykernel_23292\\3022018798.py:5: PerformanceWarning: DataFrame is highly fragmented.  This is usually the result of calling `frame.insert` many times, which has poor performance.  Consider joining all columns at once using pd.concat(axis=1) instead. To get a de-fragmented frame, use `newframe = frame.copy()`\n",
      "  df_compo[date] = new_column[date]\n"
     ]
    },
    {
     "name": "stdout",
     "output_type": "stream",
     "text": [
      "Sending request\n"
     ]
    },
    {
     "name": "stderr",
     "output_type": "stream",
     "text": [
      "C:\\Users\\kircca22\\AppData\\Local\\Temp\\ipykernel_23292\\3022018798.py:5: PerformanceWarning: DataFrame is highly fragmented.  This is usually the result of calling `frame.insert` many times, which has poor performance.  Consider joining all columns at once using pd.concat(axis=1) instead. To get a de-fragmented frame, use `newframe = frame.copy()`\n",
      "  df_compo[date] = new_column[date]\n"
     ]
    },
    {
     "name": "stdout",
     "output_type": "stream",
     "text": [
      "Sending request\n"
     ]
    },
    {
     "name": "stderr",
     "output_type": "stream",
     "text": [
      "C:\\Users\\kircca22\\AppData\\Local\\Temp\\ipykernel_23292\\3022018798.py:5: PerformanceWarning: DataFrame is highly fragmented.  This is usually the result of calling `frame.insert` many times, which has poor performance.  Consider joining all columns at once using pd.concat(axis=1) instead. To get a de-fragmented frame, use `newframe = frame.copy()`\n",
      "  df_compo[date] = new_column[date]\n"
     ]
    },
    {
     "name": "stdout",
     "output_type": "stream",
     "text": [
      "Sending request\n"
     ]
    },
    {
     "name": "stderr",
     "output_type": "stream",
     "text": [
      "C:\\Users\\kircca22\\AppData\\Local\\Temp\\ipykernel_23292\\3022018798.py:5: PerformanceWarning: DataFrame is highly fragmented.  This is usually the result of calling `frame.insert` many times, which has poor performance.  Consider joining all columns at once using pd.concat(axis=1) instead. To get a de-fragmented frame, use `newframe = frame.copy()`\n",
      "  df_compo[date] = new_column[date]\n"
     ]
    },
    {
     "name": "stdout",
     "output_type": "stream",
     "text": [
      "Sending request\n"
     ]
    },
    {
     "name": "stderr",
     "output_type": "stream",
     "text": [
      "C:\\Users\\kircca22\\AppData\\Local\\Temp\\ipykernel_23292\\3022018798.py:5: PerformanceWarning: DataFrame is highly fragmented.  This is usually the result of calling `frame.insert` many times, which has poor performance.  Consider joining all columns at once using pd.concat(axis=1) instead. To get a de-fragmented frame, use `newframe = frame.copy()`\n",
      "  df_compo[date] = new_column[date]\n"
     ]
    },
    {
     "name": "stdout",
     "output_type": "stream",
     "text": [
      "Sending request\n"
     ]
    },
    {
     "name": "stderr",
     "output_type": "stream",
     "text": [
      "C:\\Users\\kircca22\\AppData\\Local\\Temp\\ipykernel_23292\\3022018798.py:5: PerformanceWarning: DataFrame is highly fragmented.  This is usually the result of calling `frame.insert` many times, which has poor performance.  Consider joining all columns at once using pd.concat(axis=1) instead. To get a de-fragmented frame, use `newframe = frame.copy()`\n",
      "  df_compo[date] = new_column[date]\n"
     ]
    },
    {
     "name": "stdout",
     "output_type": "stream",
     "text": [
      "Sending request\n"
     ]
    },
    {
     "name": "stderr",
     "output_type": "stream",
     "text": [
      "C:\\Users\\kircca22\\AppData\\Local\\Temp\\ipykernel_23292\\3022018798.py:5: PerformanceWarning: DataFrame is highly fragmented.  This is usually the result of calling `frame.insert` many times, which has poor performance.  Consider joining all columns at once using pd.concat(axis=1) instead. To get a de-fragmented frame, use `newframe = frame.copy()`\n",
      "  df_compo[date] = new_column[date]\n"
     ]
    },
    {
     "name": "stdout",
     "output_type": "stream",
     "text": [
      "Sending request\n"
     ]
    },
    {
     "name": "stderr",
     "output_type": "stream",
     "text": [
      "C:\\Users\\kircca22\\AppData\\Local\\Temp\\ipykernel_23292\\3022018798.py:5: PerformanceWarning: DataFrame is highly fragmented.  This is usually the result of calling `frame.insert` many times, which has poor performance.  Consider joining all columns at once using pd.concat(axis=1) instead. To get a de-fragmented frame, use `newframe = frame.copy()`\n",
      "  df_compo[date] = new_column[date]\n"
     ]
    },
    {
     "name": "stdout",
     "output_type": "stream",
     "text": [
      "Sending request\n"
     ]
    },
    {
     "name": "stderr",
     "output_type": "stream",
     "text": [
      "C:\\Users\\kircca22\\AppData\\Local\\Temp\\ipykernel_23292\\3022018798.py:5: PerformanceWarning: DataFrame is highly fragmented.  This is usually the result of calling `frame.insert` many times, which has poor performance.  Consider joining all columns at once using pd.concat(axis=1) instead. To get a de-fragmented frame, use `newframe = frame.copy()`\n",
      "  df_compo[date] = new_column[date]\n"
     ]
    },
    {
     "name": "stdout",
     "output_type": "stream",
     "text": [
      "Sending request\n"
     ]
    },
    {
     "name": "stderr",
     "output_type": "stream",
     "text": [
      "C:\\Users\\kircca22\\AppData\\Local\\Temp\\ipykernel_23292\\3022018798.py:5: PerformanceWarning: DataFrame is highly fragmented.  This is usually the result of calling `frame.insert` many times, which has poor performance.  Consider joining all columns at once using pd.concat(axis=1) instead. To get a de-fragmented frame, use `newframe = frame.copy()`\n",
      "  df_compo[date] = new_column[date]\n"
     ]
    },
    {
     "name": "stdout",
     "output_type": "stream",
     "text": [
      "Sending request\n"
     ]
    },
    {
     "name": "stderr",
     "output_type": "stream",
     "text": [
      "C:\\Users\\kircca22\\AppData\\Local\\Temp\\ipykernel_23292\\3022018798.py:5: PerformanceWarning: DataFrame is highly fragmented.  This is usually the result of calling `frame.insert` many times, which has poor performance.  Consider joining all columns at once using pd.concat(axis=1) instead. To get a de-fragmented frame, use `newframe = frame.copy()`\n",
      "  df_compo[date] = new_column[date]\n"
     ]
    },
    {
     "name": "stdout",
     "output_type": "stream",
     "text": [
      "Sending request\n"
     ]
    },
    {
     "name": "stderr",
     "output_type": "stream",
     "text": [
      "C:\\Users\\kircca22\\AppData\\Local\\Temp\\ipykernel_23292\\3022018798.py:5: PerformanceWarning: DataFrame is highly fragmented.  This is usually the result of calling `frame.insert` many times, which has poor performance.  Consider joining all columns at once using pd.concat(axis=1) instead. To get a de-fragmented frame, use `newframe = frame.copy()`\n",
      "  df_compo[date] = new_column[date]\n"
     ]
    },
    {
     "name": "stdout",
     "output_type": "stream",
     "text": [
      "Sending request\n"
     ]
    },
    {
     "name": "stderr",
     "output_type": "stream",
     "text": [
      "C:\\Users\\kircca22\\AppData\\Local\\Temp\\ipykernel_23292\\3022018798.py:5: PerformanceWarning: DataFrame is highly fragmented.  This is usually the result of calling `frame.insert` many times, which has poor performance.  Consider joining all columns at once using pd.concat(axis=1) instead. To get a de-fragmented frame, use `newframe = frame.copy()`\n",
      "  df_compo[date] = new_column[date]\n"
     ]
    },
    {
     "name": "stdout",
     "output_type": "stream",
     "text": [
      "Sending request\n"
     ]
    },
    {
     "name": "stderr",
     "output_type": "stream",
     "text": [
      "C:\\Users\\kircca22\\AppData\\Local\\Temp\\ipykernel_23292\\3022018798.py:5: PerformanceWarning: DataFrame is highly fragmented.  This is usually the result of calling `frame.insert` many times, which has poor performance.  Consider joining all columns at once using pd.concat(axis=1) instead. To get a de-fragmented frame, use `newframe = frame.copy()`\n",
      "  df_compo[date] = new_column[date]\n"
     ]
    },
    {
     "name": "stdout",
     "output_type": "stream",
     "text": [
      "Sending request\n"
     ]
    },
    {
     "name": "stderr",
     "output_type": "stream",
     "text": [
      "C:\\Users\\kircca22\\AppData\\Local\\Temp\\ipykernel_23292\\3022018798.py:5: PerformanceWarning: DataFrame is highly fragmented.  This is usually the result of calling `frame.insert` many times, which has poor performance.  Consider joining all columns at once using pd.concat(axis=1) instead. To get a de-fragmented frame, use `newframe = frame.copy()`\n",
      "  df_compo[date] = new_column[date]\n"
     ]
    },
    {
     "name": "stdout",
     "output_type": "stream",
     "text": [
      "Sending request\n"
     ]
    },
    {
     "name": "stderr",
     "output_type": "stream",
     "text": [
      "C:\\Users\\kircca22\\AppData\\Local\\Temp\\ipykernel_23292\\3022018798.py:5: PerformanceWarning: DataFrame is highly fragmented.  This is usually the result of calling `frame.insert` many times, which has poor performance.  Consider joining all columns at once using pd.concat(axis=1) instead. To get a de-fragmented frame, use `newframe = frame.copy()`\n",
      "  df_compo[date] = new_column[date]\n"
     ]
    },
    {
     "name": "stdout",
     "output_type": "stream",
     "text": [
      "Sending request\n"
     ]
    },
    {
     "name": "stderr",
     "output_type": "stream",
     "text": [
      "C:\\Users\\kircca22\\AppData\\Local\\Temp\\ipykernel_23292\\3022018798.py:5: PerformanceWarning: DataFrame is highly fragmented.  This is usually the result of calling `frame.insert` many times, which has poor performance.  Consider joining all columns at once using pd.concat(axis=1) instead. To get a de-fragmented frame, use `newframe = frame.copy()`\n",
      "  df_compo[date] = new_column[date]\n"
     ]
    },
    {
     "name": "stdout",
     "output_type": "stream",
     "text": [
      "Sending request\n"
     ]
    },
    {
     "name": "stderr",
     "output_type": "stream",
     "text": [
      "C:\\Users\\kircca22\\AppData\\Local\\Temp\\ipykernel_23292\\3022018798.py:5: PerformanceWarning: DataFrame is highly fragmented.  This is usually the result of calling `frame.insert` many times, which has poor performance.  Consider joining all columns at once using pd.concat(axis=1) instead. To get a de-fragmented frame, use `newframe = frame.copy()`\n",
      "  df_compo[date] = new_column[date]\n"
     ]
    },
    {
     "name": "stdout",
     "output_type": "stream",
     "text": [
      "Sending request\n"
     ]
    },
    {
     "name": "stderr",
     "output_type": "stream",
     "text": [
      "C:\\Users\\kircca22\\AppData\\Local\\Temp\\ipykernel_23292\\3022018798.py:5: PerformanceWarning: DataFrame is highly fragmented.  This is usually the result of calling `frame.insert` many times, which has poor performance.  Consider joining all columns at once using pd.concat(axis=1) instead. To get a de-fragmented frame, use `newframe = frame.copy()`\n",
      "  df_compo[date] = new_column[date]\n"
     ]
    },
    {
     "name": "stdout",
     "output_type": "stream",
     "text": [
      "Sending request\n"
     ]
    },
    {
     "name": "stderr",
     "output_type": "stream",
     "text": [
      "C:\\Users\\kircca22\\AppData\\Local\\Temp\\ipykernel_23292\\3022018798.py:5: PerformanceWarning: DataFrame is highly fragmented.  This is usually the result of calling `frame.insert` many times, which has poor performance.  Consider joining all columns at once using pd.concat(axis=1) instead. To get a de-fragmented frame, use `newframe = frame.copy()`\n",
      "  df_compo[date] = new_column[date]\n"
     ]
    },
    {
     "name": "stdout",
     "output_type": "stream",
     "text": [
      "Sending request\n"
     ]
    },
    {
     "name": "stderr",
     "output_type": "stream",
     "text": [
      "C:\\Users\\kircca22\\AppData\\Local\\Temp\\ipykernel_23292\\3022018798.py:5: PerformanceWarning: DataFrame is highly fragmented.  This is usually the result of calling `frame.insert` many times, which has poor performance.  Consider joining all columns at once using pd.concat(axis=1) instead. To get a de-fragmented frame, use `newframe = frame.copy()`\n",
      "  df_compo[date] = new_column[date]\n"
     ]
    },
    {
     "name": "stdout",
     "output_type": "stream",
     "text": [
      "Sending request\n"
     ]
    },
    {
     "name": "stderr",
     "output_type": "stream",
     "text": [
      "C:\\Users\\kircca22\\AppData\\Local\\Temp\\ipykernel_23292\\3022018798.py:5: PerformanceWarning: DataFrame is highly fragmented.  This is usually the result of calling `frame.insert` many times, which has poor performance.  Consider joining all columns at once using pd.concat(axis=1) instead. To get a de-fragmented frame, use `newframe = frame.copy()`\n",
      "  df_compo[date] = new_column[date]\n"
     ]
    },
    {
     "name": "stdout",
     "output_type": "stream",
     "text": [
      "Sending request\n"
     ]
    },
    {
     "name": "stderr",
     "output_type": "stream",
     "text": [
      "C:\\Users\\kircca22\\AppData\\Local\\Temp\\ipykernel_23292\\3022018798.py:5: PerformanceWarning: DataFrame is highly fragmented.  This is usually the result of calling `frame.insert` many times, which has poor performance.  Consider joining all columns at once using pd.concat(axis=1) instead. To get a de-fragmented frame, use `newframe = frame.copy()`\n",
      "  df_compo[date] = new_column[date]\n"
     ]
    },
    {
     "name": "stdout",
     "output_type": "stream",
     "text": [
      "Sending request\n"
     ]
    },
    {
     "name": "stderr",
     "output_type": "stream",
     "text": [
      "C:\\Users\\kircca22\\AppData\\Local\\Temp\\ipykernel_23292\\3022018798.py:5: PerformanceWarning: DataFrame is highly fragmented.  This is usually the result of calling `frame.insert` many times, which has poor performance.  Consider joining all columns at once using pd.concat(axis=1) instead. To get a de-fragmented frame, use `newframe = frame.copy()`\n",
      "  df_compo[date] = new_column[date]\n"
     ]
    },
    {
     "name": "stdout",
     "output_type": "stream",
     "text": [
      "Sending request\n"
     ]
    },
    {
     "name": "stderr",
     "output_type": "stream",
     "text": [
      "C:\\Users\\kircca22\\AppData\\Local\\Temp\\ipykernel_23292\\3022018798.py:5: PerformanceWarning: DataFrame is highly fragmented.  This is usually the result of calling `frame.insert` many times, which has poor performance.  Consider joining all columns at once using pd.concat(axis=1) instead. To get a de-fragmented frame, use `newframe = frame.copy()`\n",
      "  df_compo[date] = new_column[date]\n"
     ]
    },
    {
     "name": "stdout",
     "output_type": "stream",
     "text": [
      "Sending request\n"
     ]
    },
    {
     "name": "stderr",
     "output_type": "stream",
     "text": [
      "C:\\Users\\kircca22\\AppData\\Local\\Temp\\ipykernel_23292\\3022018798.py:5: PerformanceWarning: DataFrame is highly fragmented.  This is usually the result of calling `frame.insert` many times, which has poor performance.  Consider joining all columns at once using pd.concat(axis=1) instead. To get a de-fragmented frame, use `newframe = frame.copy()`\n",
      "  df_compo[date] = new_column[date]\n"
     ]
    },
    {
     "name": "stdout",
     "output_type": "stream",
     "text": [
      "Sending request\n"
     ]
    },
    {
     "name": "stderr",
     "output_type": "stream",
     "text": [
      "C:\\Users\\kircca22\\AppData\\Local\\Temp\\ipykernel_23292\\3022018798.py:5: PerformanceWarning: DataFrame is highly fragmented.  This is usually the result of calling `frame.insert` many times, which has poor performance.  Consider joining all columns at once using pd.concat(axis=1) instead. To get a de-fragmented frame, use `newframe = frame.copy()`\n",
      "  df_compo[date] = new_column[date]\n"
     ]
    },
    {
     "name": "stdout",
     "output_type": "stream",
     "text": [
      "Sending request\n"
     ]
    },
    {
     "name": "stderr",
     "output_type": "stream",
     "text": [
      "C:\\Users\\kircca22\\AppData\\Local\\Temp\\ipykernel_23292\\3022018798.py:5: PerformanceWarning: DataFrame is highly fragmented.  This is usually the result of calling `frame.insert` many times, which has poor performance.  Consider joining all columns at once using pd.concat(axis=1) instead. To get a de-fragmented frame, use `newframe = frame.copy()`\n",
      "  df_compo[date] = new_column[date]\n"
     ]
    },
    {
     "name": "stdout",
     "output_type": "stream",
     "text": [
      "Sending request\n"
     ]
    },
    {
     "name": "stderr",
     "output_type": "stream",
     "text": [
      "C:\\Users\\kircca22\\AppData\\Local\\Temp\\ipykernel_23292\\3022018798.py:5: PerformanceWarning: DataFrame is highly fragmented.  This is usually the result of calling `frame.insert` many times, which has poor performance.  Consider joining all columns at once using pd.concat(axis=1) instead. To get a de-fragmented frame, use `newframe = frame.copy()`\n",
      "  df_compo[date] = new_column[date]\n"
     ]
    },
    {
     "name": "stdout",
     "output_type": "stream",
     "text": [
      "Sending request\n"
     ]
    },
    {
     "name": "stderr",
     "output_type": "stream",
     "text": [
      "C:\\Users\\kircca22\\AppData\\Local\\Temp\\ipykernel_23292\\3022018798.py:5: PerformanceWarning: DataFrame is highly fragmented.  This is usually the result of calling `frame.insert` many times, which has poor performance.  Consider joining all columns at once using pd.concat(axis=1) instead. To get a de-fragmented frame, use `newframe = frame.copy()`\n",
      "  df_compo[date] = new_column[date]\n"
     ]
    },
    {
     "name": "stdout",
     "output_type": "stream",
     "text": [
      "Sending request\n"
     ]
    },
    {
     "name": "stderr",
     "output_type": "stream",
     "text": [
      "C:\\Users\\kircca22\\AppData\\Local\\Temp\\ipykernel_23292\\3022018798.py:5: PerformanceWarning: DataFrame is highly fragmented.  This is usually the result of calling `frame.insert` many times, which has poor performance.  Consider joining all columns at once using pd.concat(axis=1) instead. To get a de-fragmented frame, use `newframe = frame.copy()`\n",
      "  df_compo[date] = new_column[date]\n"
     ]
    },
    {
     "name": "stdout",
     "output_type": "stream",
     "text": [
      "Sending request\n"
     ]
    },
    {
     "name": "stderr",
     "output_type": "stream",
     "text": [
      "C:\\Users\\kircca22\\AppData\\Local\\Temp\\ipykernel_23292\\3022018798.py:5: PerformanceWarning: DataFrame is highly fragmented.  This is usually the result of calling `frame.insert` many times, which has poor performance.  Consider joining all columns at once using pd.concat(axis=1) instead. To get a de-fragmented frame, use `newframe = frame.copy()`\n",
      "  df_compo[date] = new_column[date]\n"
     ]
    },
    {
     "name": "stdout",
     "output_type": "stream",
     "text": [
      "Sending request\n"
     ]
    },
    {
     "name": "stderr",
     "output_type": "stream",
     "text": [
      "C:\\Users\\kircca22\\AppData\\Local\\Temp\\ipykernel_23292\\3022018798.py:5: PerformanceWarning: DataFrame is highly fragmented.  This is usually the result of calling `frame.insert` many times, which has poor performance.  Consider joining all columns at once using pd.concat(axis=1) instead. To get a de-fragmented frame, use `newframe = frame.copy()`\n",
      "  df_compo[date] = new_column[date]\n"
     ]
    },
    {
     "name": "stdout",
     "output_type": "stream",
     "text": [
      "Sending request\n"
     ]
    },
    {
     "name": "stderr",
     "output_type": "stream",
     "text": [
      "C:\\Users\\kircca22\\AppData\\Local\\Temp\\ipykernel_23292\\3022018798.py:5: PerformanceWarning: DataFrame is highly fragmented.  This is usually the result of calling `frame.insert` many times, which has poor performance.  Consider joining all columns at once using pd.concat(axis=1) instead. To get a de-fragmented frame, use `newframe = frame.copy()`\n",
      "  df_compo[date] = new_column[date]\n"
     ]
    },
    {
     "name": "stdout",
     "output_type": "stream",
     "text": [
      "Sending request\n"
     ]
    },
    {
     "name": "stderr",
     "output_type": "stream",
     "text": [
      "C:\\Users\\kircca22\\AppData\\Local\\Temp\\ipykernel_23292\\3022018798.py:5: PerformanceWarning: DataFrame is highly fragmented.  This is usually the result of calling `frame.insert` many times, which has poor performance.  Consider joining all columns at once using pd.concat(axis=1) instead. To get a de-fragmented frame, use `newframe = frame.copy()`\n",
      "  df_compo[date] = new_column[date]\n"
     ]
    },
    {
     "name": "stdout",
     "output_type": "stream",
     "text": [
      "Sending request\n"
     ]
    },
    {
     "name": "stderr",
     "output_type": "stream",
     "text": [
      "C:\\Users\\kircca22\\AppData\\Local\\Temp\\ipykernel_23292\\3022018798.py:5: PerformanceWarning: DataFrame is highly fragmented.  This is usually the result of calling `frame.insert` many times, which has poor performance.  Consider joining all columns at once using pd.concat(axis=1) instead. To get a de-fragmented frame, use `newframe = frame.copy()`\n",
      "  df_compo[date] = new_column[date]\n"
     ]
    },
    {
     "name": "stdout",
     "output_type": "stream",
     "text": [
      "Sending request\n"
     ]
    },
    {
     "name": "stderr",
     "output_type": "stream",
     "text": [
      "C:\\Users\\kircca22\\AppData\\Local\\Temp\\ipykernel_23292\\3022018798.py:5: PerformanceWarning: DataFrame is highly fragmented.  This is usually the result of calling `frame.insert` many times, which has poor performance.  Consider joining all columns at once using pd.concat(axis=1) instead. To get a de-fragmented frame, use `newframe = frame.copy()`\n",
      "  df_compo[date] = new_column[date]\n"
     ]
    },
    {
     "name": "stdout",
     "output_type": "stream",
     "text": [
      "Sending request\n"
     ]
    },
    {
     "name": "stderr",
     "output_type": "stream",
     "text": [
      "C:\\Users\\kircca22\\AppData\\Local\\Temp\\ipykernel_23292\\3022018798.py:5: PerformanceWarning: DataFrame is highly fragmented.  This is usually the result of calling `frame.insert` many times, which has poor performance.  Consider joining all columns at once using pd.concat(axis=1) instead. To get a de-fragmented frame, use `newframe = frame.copy()`\n",
      "  df_compo[date] = new_column[date]\n"
     ]
    },
    {
     "name": "stdout",
     "output_type": "stream",
     "text": [
      "Sending request\n"
     ]
    },
    {
     "name": "stderr",
     "output_type": "stream",
     "text": [
      "C:\\Users\\kircca22\\AppData\\Local\\Temp\\ipykernel_23292\\3022018798.py:5: PerformanceWarning: DataFrame is highly fragmented.  This is usually the result of calling `frame.insert` many times, which has poor performance.  Consider joining all columns at once using pd.concat(axis=1) instead. To get a de-fragmented frame, use `newframe = frame.copy()`\n",
      "  df_compo[date] = new_column[date]\n"
     ]
    }
   ],
   "source": [
    "df_compo = pd.DataFrame()\n",
    "for date in dates_list :\n",
    "    results = blp.bds(strSecurity=tickers, strFields = strFields, snapshot_date = date)\n",
    "    new_column = results[tickers[0]]\n",
    "    df_compo[date] = new_column[date]"
   ]
  },
  {
   "cell_type": "code",
   "execution_count": 6,
   "id": "23bf0b8b",
   "metadata": {},
   "outputs": [],
   "source": [
    "file_name = \"Bloomberg_data_compo.xlsx\"\n",
    "df_compo = pd.read_excel(file_name)"
   ]
  },
  {
   "cell_type": "code",
   "execution_count": 7,
   "id": "5c144fdb",
   "metadata": {},
   "outputs": [
    {
     "data": {
      "text/html": [
       "<div>\n",
       "<style scoped>\n",
       "    .dataframe tbody tr th:only-of-type {\n",
       "        vertical-align: middle;\n",
       "    }\n",
       "\n",
       "    .dataframe tbody tr th {\n",
       "        vertical-align: top;\n",
       "    }\n",
       "\n",
       "    .dataframe thead th {\n",
       "        text-align: right;\n",
       "    }\n",
       "</style>\n",
       "<table border=\"1\" class=\"dataframe\">\n",
       "  <thead>\n",
       "    <tr style=\"text-align: right;\">\n",
       "      <th></th>\n",
       "      <th>1999-01-28</th>\n",
       "      <th>1999-02-27</th>\n",
       "      <th>1999-03-29</th>\n",
       "      <th>1999-04-28</th>\n",
       "      <th>1999-05-28</th>\n",
       "      <th>1999-06-27</th>\n",
       "      <th>1999-07-27</th>\n",
       "      <th>1999-08-26</th>\n",
       "      <th>1999-09-25</th>\n",
       "      <th>1999-10-25</th>\n",
       "      <th>...</th>\n",
       "      <th>2023-05-22</th>\n",
       "      <th>2023-06-21</th>\n",
       "      <th>2023-07-21</th>\n",
       "      <th>2023-08-20</th>\n",
       "      <th>2023-09-19</th>\n",
       "      <th>2023-10-19</th>\n",
       "      <th>2023-11-18</th>\n",
       "      <th>2023-12-18</th>\n",
       "      <th>2024-01-17</th>\n",
       "      <th>2024-02-16</th>\n",
       "    </tr>\n",
       "  </thead>\n",
       "  <tbody>\n",
       "    <tr>\n",
       "      <th>0</th>\n",
       "      <td>A UN</td>\n",
       "      <td>A UN</td>\n",
       "      <td>A UN</td>\n",
       "      <td>A UN</td>\n",
       "      <td>A UN</td>\n",
       "      <td>A UN</td>\n",
       "      <td>A UN</td>\n",
       "      <td>A UN</td>\n",
       "      <td>A UN</td>\n",
       "      <td>A UN</td>\n",
       "      <td>...</td>\n",
       "      <td>A UN</td>\n",
       "      <td>A UN</td>\n",
       "      <td>A UN</td>\n",
       "      <td>A UN</td>\n",
       "      <td>A UN</td>\n",
       "      <td>A UN</td>\n",
       "      <td>A UN</td>\n",
       "      <td>A UN</td>\n",
       "      <td>A UN</td>\n",
       "      <td>A UN</td>\n",
       "    </tr>\n",
       "    <tr>\n",
       "      <th>1</th>\n",
       "      <td>AA UN</td>\n",
       "      <td>AA UN</td>\n",
       "      <td>AA UN</td>\n",
       "      <td>AA UN</td>\n",
       "      <td>AA UN</td>\n",
       "      <td>AA UN</td>\n",
       "      <td>AA UN</td>\n",
       "      <td>AA UN</td>\n",
       "      <td>AA UN</td>\n",
       "      <td>AA UN</td>\n",
       "      <td>...</td>\n",
       "      <td>AA UN</td>\n",
       "      <td>AA UN</td>\n",
       "      <td>AA UN</td>\n",
       "      <td>AA UN</td>\n",
       "      <td>AA UN</td>\n",
       "      <td>AA UN</td>\n",
       "      <td>AA UN</td>\n",
       "      <td>AA UN</td>\n",
       "      <td>AA UN</td>\n",
       "      <td>AA UN</td>\n",
       "    </tr>\n",
       "    <tr>\n",
       "      <th>2</th>\n",
       "      <td>AAL UW</td>\n",
       "      <td>AAL UW</td>\n",
       "      <td>AAL UW</td>\n",
       "      <td>AAL UW</td>\n",
       "      <td>AAL UW</td>\n",
       "      <td>AAL UW</td>\n",
       "      <td>AAL UW</td>\n",
       "      <td>AAL UW</td>\n",
       "      <td>AAL UW</td>\n",
       "      <td>AAL UW</td>\n",
       "      <td>...</td>\n",
       "      <td>AAL UW</td>\n",
       "      <td>AAL UW</td>\n",
       "      <td>AAL UW</td>\n",
       "      <td>AAL UW</td>\n",
       "      <td>AAL UW</td>\n",
       "      <td>AAL UW</td>\n",
       "      <td>AAL UW</td>\n",
       "      <td>AAL UW</td>\n",
       "      <td>AAL UW</td>\n",
       "      <td>AAL UW</td>\n",
       "    </tr>\n",
       "    <tr>\n",
       "      <th>3</th>\n",
       "      <td>AAP UN</td>\n",
       "      <td>AAP UN</td>\n",
       "      <td>AAP UN</td>\n",
       "      <td>AAP UN</td>\n",
       "      <td>AAP UN</td>\n",
       "      <td>AAP UN</td>\n",
       "      <td>AAP UN</td>\n",
       "      <td>AAP UN</td>\n",
       "      <td>AAP UN</td>\n",
       "      <td>AAP UN</td>\n",
       "      <td>...</td>\n",
       "      <td>AAP UN</td>\n",
       "      <td>AAP UN</td>\n",
       "      <td>AAP UN</td>\n",
       "      <td>AAP UN</td>\n",
       "      <td>AAP UN</td>\n",
       "      <td>AAP UN</td>\n",
       "      <td>AAP UN</td>\n",
       "      <td>AAP UN</td>\n",
       "      <td>AAP UN</td>\n",
       "      <td>AAP UN</td>\n",
       "    </tr>\n",
       "    <tr>\n",
       "      <th>4</th>\n",
       "      <td>AAPL UW</td>\n",
       "      <td>AAPL UW</td>\n",
       "      <td>AAPL UW</td>\n",
       "      <td>AAPL UW</td>\n",
       "      <td>AAPL UW</td>\n",
       "      <td>AAPL UW</td>\n",
       "      <td>AAPL UW</td>\n",
       "      <td>AAPL UW</td>\n",
       "      <td>AAPL UW</td>\n",
       "      <td>AAPL UW</td>\n",
       "      <td>...</td>\n",
       "      <td>AAPL UW</td>\n",
       "      <td>AAPL UW</td>\n",
       "      <td>AAPL UW</td>\n",
       "      <td>AAPL UW</td>\n",
       "      <td>AAPL UW</td>\n",
       "      <td>AAPL UW</td>\n",
       "      <td>AAPL UW</td>\n",
       "      <td>AAPL UW</td>\n",
       "      <td>AAPL UW</td>\n",
       "      <td>AAPL UW</td>\n",
       "    </tr>\n",
       "    <tr>\n",
       "      <th>...</th>\n",
       "      <td>...</td>\n",
       "      <td>...</td>\n",
       "      <td>...</td>\n",
       "      <td>...</td>\n",
       "      <td>...</td>\n",
       "      <td>...</td>\n",
       "      <td>...</td>\n",
       "      <td>...</td>\n",
       "      <td>...</td>\n",
       "      <td>...</td>\n",
       "      <td>...</td>\n",
       "      <td>...</td>\n",
       "      <td>...</td>\n",
       "      <td>...</td>\n",
       "      <td>...</td>\n",
       "      <td>...</td>\n",
       "      <td>...</td>\n",
       "      <td>...</td>\n",
       "      <td>...</td>\n",
       "      <td>...</td>\n",
       "      <td>...</td>\n",
       "    </tr>\n",
       "    <tr>\n",
       "      <th>1002</th>\n",
       "      <td>ZI UW</td>\n",
       "      <td>ZI UW</td>\n",
       "      <td>ZI UW</td>\n",
       "      <td>ZI UW</td>\n",
       "      <td>ZI UW</td>\n",
       "      <td>ZI UW</td>\n",
       "      <td>ZI UW</td>\n",
       "      <td>ZI UW</td>\n",
       "      <td>ZI UW</td>\n",
       "      <td>ZI UW</td>\n",
       "      <td>...</td>\n",
       "      <td>ZI UW</td>\n",
       "      <td>ZI UW</td>\n",
       "      <td>ZI UW</td>\n",
       "      <td>ZI UW</td>\n",
       "      <td>ZI UW</td>\n",
       "      <td>ZI UW</td>\n",
       "      <td>ZI UW</td>\n",
       "      <td>ZI UW</td>\n",
       "      <td>ZI UW</td>\n",
       "      <td>ZI UW</td>\n",
       "    </tr>\n",
       "    <tr>\n",
       "      <th>1003</th>\n",
       "      <td>ZION UW</td>\n",
       "      <td>ZION UW</td>\n",
       "      <td>ZION UW</td>\n",
       "      <td>ZION UW</td>\n",
       "      <td>ZION UW</td>\n",
       "      <td>ZION UW</td>\n",
       "      <td>ZION UW</td>\n",
       "      <td>ZION UW</td>\n",
       "      <td>ZION UW</td>\n",
       "      <td>ZION UW</td>\n",
       "      <td>...</td>\n",
       "      <td>ZION UW</td>\n",
       "      <td>ZION UW</td>\n",
       "      <td>ZION UW</td>\n",
       "      <td>ZION UW</td>\n",
       "      <td>ZION UW</td>\n",
       "      <td>ZION UW</td>\n",
       "      <td>ZION UW</td>\n",
       "      <td>ZION UW</td>\n",
       "      <td>ZION UW</td>\n",
       "      <td>ZION UW</td>\n",
       "    </tr>\n",
       "    <tr>\n",
       "      <th>1004</th>\n",
       "      <td>ZM UW</td>\n",
       "      <td>ZM UW</td>\n",
       "      <td>ZM UW</td>\n",
       "      <td>ZM UW</td>\n",
       "      <td>ZM UW</td>\n",
       "      <td>ZM UW</td>\n",
       "      <td>ZM UW</td>\n",
       "      <td>ZM UW</td>\n",
       "      <td>ZM UW</td>\n",
       "      <td>ZM UW</td>\n",
       "      <td>...</td>\n",
       "      <td>ZM UW</td>\n",
       "      <td>ZM UW</td>\n",
       "      <td>ZM UW</td>\n",
       "      <td>ZM UW</td>\n",
       "      <td>ZM UW</td>\n",
       "      <td>ZM UW</td>\n",
       "      <td>ZM UW</td>\n",
       "      <td>ZM UW</td>\n",
       "      <td>ZM UW</td>\n",
       "      <td>ZM UW</td>\n",
       "    </tr>\n",
       "    <tr>\n",
       "      <th>1005</th>\n",
       "      <td>ZS UW</td>\n",
       "      <td>ZS UW</td>\n",
       "      <td>ZS UW</td>\n",
       "      <td>ZS UW</td>\n",
       "      <td>ZS UW</td>\n",
       "      <td>ZS UW</td>\n",
       "      <td>ZS UW</td>\n",
       "      <td>ZS UW</td>\n",
       "      <td>ZS UW</td>\n",
       "      <td>ZS UW</td>\n",
       "      <td>...</td>\n",
       "      <td>ZS UW</td>\n",
       "      <td>ZS UW</td>\n",
       "      <td>ZS UW</td>\n",
       "      <td>ZS UW</td>\n",
       "      <td>ZS UW</td>\n",
       "      <td>ZS UW</td>\n",
       "      <td>ZS UW</td>\n",
       "      <td>ZS UW</td>\n",
       "      <td>ZS UW</td>\n",
       "      <td>ZS UW</td>\n",
       "    </tr>\n",
       "    <tr>\n",
       "      <th>1006</th>\n",
       "      <td>ZTS UN</td>\n",
       "      <td>ZTS UN</td>\n",
       "      <td>ZTS UN</td>\n",
       "      <td>ZTS UN</td>\n",
       "      <td>ZTS UN</td>\n",
       "      <td>ZTS UN</td>\n",
       "      <td>ZTS UN</td>\n",
       "      <td>ZTS UN</td>\n",
       "      <td>ZTS UN</td>\n",
       "      <td>ZTS UN</td>\n",
       "      <td>...</td>\n",
       "      <td>ZTS UN</td>\n",
       "      <td>ZTS UN</td>\n",
       "      <td>ZTS UN</td>\n",
       "      <td>ZTS UN</td>\n",
       "      <td>ZTS UN</td>\n",
       "      <td>ZTS UN</td>\n",
       "      <td>ZTS UN</td>\n",
       "      <td>ZTS UN</td>\n",
       "      <td>ZTS UN</td>\n",
       "      <td>ZTS UN</td>\n",
       "    </tr>\n",
       "  </tbody>\n",
       "</table>\n",
       "<p>1007 rows × 306 columns</p>\n",
       "</div>"
      ],
      "text/plain": [
       "     1999-01-28 1999-02-27 1999-03-29 1999-04-28 1999-05-28 1999-06-27  \\\n",
       "0          A UN       A UN       A UN       A UN       A UN       A UN   \n",
       "1         AA UN      AA UN      AA UN      AA UN      AA UN      AA UN   \n",
       "2        AAL UW     AAL UW     AAL UW     AAL UW     AAL UW     AAL UW   \n",
       "3        AAP UN     AAP UN     AAP UN     AAP UN     AAP UN     AAP UN   \n",
       "4       AAPL UW    AAPL UW    AAPL UW    AAPL UW    AAPL UW    AAPL UW   \n",
       "...         ...        ...        ...        ...        ...        ...   \n",
       "1002      ZI UW      ZI UW      ZI UW      ZI UW      ZI UW      ZI UW   \n",
       "1003    ZION UW    ZION UW    ZION UW    ZION UW    ZION UW    ZION UW   \n",
       "1004      ZM UW      ZM UW      ZM UW      ZM UW      ZM UW      ZM UW   \n",
       "1005      ZS UW      ZS UW      ZS UW      ZS UW      ZS UW      ZS UW   \n",
       "1006     ZTS UN     ZTS UN     ZTS UN     ZTS UN     ZTS UN     ZTS UN   \n",
       "\n",
       "     1999-07-27 1999-08-26 1999-09-25 1999-10-25  ... 2023-05-22 2023-06-21  \\\n",
       "0          A UN       A UN       A UN       A UN  ...       A UN       A UN   \n",
       "1         AA UN      AA UN      AA UN      AA UN  ...      AA UN      AA UN   \n",
       "2        AAL UW     AAL UW     AAL UW     AAL UW  ...     AAL UW     AAL UW   \n",
       "3        AAP UN     AAP UN     AAP UN     AAP UN  ...     AAP UN     AAP UN   \n",
       "4       AAPL UW    AAPL UW    AAPL UW    AAPL UW  ...    AAPL UW    AAPL UW   \n",
       "...         ...        ...        ...        ...  ...        ...        ...   \n",
       "1002      ZI UW      ZI UW      ZI UW      ZI UW  ...      ZI UW      ZI UW   \n",
       "1003    ZION UW    ZION UW    ZION UW    ZION UW  ...    ZION UW    ZION UW   \n",
       "1004      ZM UW      ZM UW      ZM UW      ZM UW  ...      ZM UW      ZM UW   \n",
       "1005      ZS UW      ZS UW      ZS UW      ZS UW  ...      ZS UW      ZS UW   \n",
       "1006     ZTS UN     ZTS UN     ZTS UN     ZTS UN  ...     ZTS UN     ZTS UN   \n",
       "\n",
       "     2023-07-21 2023-08-20 2023-09-19 2023-10-19 2023-11-18 2023-12-18  \\\n",
       "0          A UN       A UN       A UN       A UN       A UN       A UN   \n",
       "1         AA UN      AA UN      AA UN      AA UN      AA UN      AA UN   \n",
       "2        AAL UW     AAL UW     AAL UW     AAL UW     AAL UW     AAL UW   \n",
       "3        AAP UN     AAP UN     AAP UN     AAP UN     AAP UN     AAP UN   \n",
       "4       AAPL UW    AAPL UW    AAPL UW    AAPL UW    AAPL UW    AAPL UW   \n",
       "...         ...        ...        ...        ...        ...        ...   \n",
       "1002      ZI UW      ZI UW      ZI UW      ZI UW      ZI UW      ZI UW   \n",
       "1003    ZION UW    ZION UW    ZION UW    ZION UW    ZION UW    ZION UW   \n",
       "1004      ZM UW      ZM UW      ZM UW      ZM UW      ZM UW      ZM UW   \n",
       "1005      ZS UW      ZS UW      ZS UW      ZS UW      ZS UW      ZS UW   \n",
       "1006     ZTS UN     ZTS UN     ZTS UN     ZTS UN     ZTS UN     ZTS UN   \n",
       "\n",
       "     2024-01-17 2024-02-16  \n",
       "0          A UN       A UN  \n",
       "1         AA UN      AA UN  \n",
       "2        AAL UW     AAL UW  \n",
       "3        AAP UN     AAP UN  \n",
       "4       AAPL UW    AAPL UW  \n",
       "...         ...        ...  \n",
       "1002      ZI UW      ZI UW  \n",
       "1003    ZION UW    ZION UW  \n",
       "1004      ZM UW      ZM UW  \n",
       "1005      ZS UW      ZS UW  \n",
       "1006     ZTS UN     ZTS UN  \n",
       "\n",
       "[1007 rows x 306 columns]"
      ]
     },
     "execution_count": 7,
     "metadata": {},
     "output_type": "execute_result"
    }
   ],
   "source": [
    "df_compo = df_compo.drop(df_compo.columns[0], axis=1)\n",
    "df_compo"
   ]
  },
  {
   "cell_type": "code",
   "execution_count": 147,
   "id": "543ab2ba",
   "metadata": {},
   "outputs": [],
   "source": [
    "file_name_compo = \"Bloomberg_data_compo.xlsx\"\n",
    "df_compo.to_excel(file_name_compo, index=True)"
   ]
  },
  {
   "cell_type": "markdown",
   "id": "6e95f93f",
   "metadata": {},
   "source": [
    "# Applatissement des tickers : "
   ]
  },
  {
   "cell_type": "code",
   "execution_count": 8,
   "id": "82b576df",
   "metadata": {},
   "outputs": [],
   "source": [
    "flattened_data = df_compo.values.ravel()\n",
    "# Supprimer les doublons en convertissant la liste en un ensemble\n",
    "flattened_data_unique = list(set(flattened_data))"
   ]
  },
  {
   "cell_type": "code",
   "execution_count": 9,
   "id": "b06e8a43",
   "metadata": {},
   "outputs": [
    {
     "name": "stdout",
     "output_type": "stream",
     "text": [
      "1007\n"
     ]
    }
   ],
   "source": [
    "print(len(flattened_data_unique))"
   ]
  },
  {
   "cell_type": "code",
   "execution_count": 12,
   "id": "d15bdaf4",
   "metadata": {},
   "outputs": [],
   "source": [
    "list_tickers = [ticker + \" Equity\" for ticker in flattened_data_unique]"
   ]
  },
  {
   "cell_type": "code",
   "execution_count": 13,
   "id": "d15d2033",
   "metadata": {},
   "outputs": [
    {
     "data": {
      "text/plain": [
       "['BOKF UW Equity',\n",
       " 'CCCS UW Equity',\n",
       " 'LII UN Equity',\n",
       " 'SUI UN Equity',\n",
       " 'CBRE UN Equity',\n",
       " 'AVTR UN Equity',\n",
       " 'MSI UN Equity',\n",
       " 'INVH UN Equity',\n",
       " 'CAG UN Equity',\n",
       " 'MKC UN Equity',\n",
       " 'USB UN Equity',\n",
       " 'ROL UN Equity',\n",
       " 'DVA UN Equity',\n",
       " 'DLB UN Equity',\n",
       " 'MA UN Equity',\n",
       " 'SHW UN Equity',\n",
       " 'NVDA UW Equity',\n",
       " 'VNT UN Equity',\n",
       " 'DAL UN Equity',\n",
       " 'PYCR UW Equity',\n",
       " 'CUBE UN Equity',\n",
       " 'CTVA UN Equity',\n",
       " 'VSAT UW Equity',\n",
       " 'VSCO UN Equity',\n",
       " 'CB UN Equity',\n",
       " 'AOS UN Equity',\n",
       " 'PARAA UW Equity',\n",
       " 'K UN Equity',\n",
       " 'AZTA UW Equity',\n",
       " 'NOW UN Equity',\n",
       " 'PAYC UN Equity',\n",
       " 'FTRE UW Equity',\n",
       " 'LIN UW Equity',\n",
       " 'CDNS UW Equity',\n",
       " 'HLI UN Equity',\n",
       " 'ADT UN Equity',\n",
       " 'DGX UN Equity',\n",
       " 'CVX UN Equity',\n",
       " 'HII UN Equity',\n",
       " 'MGM UN Equity',\n",
       " 'AMED UW Equity',\n",
       " 'LAD UN Equity',\n",
       " 'REG UW Equity',\n",
       " 'HRB UN Equity',\n",
       " 'DG UN Equity',\n",
       " 'GGG UN Equity',\n",
       " 'BHF UW Equity',\n",
       " 'VST UN Equity',\n",
       " 'IT UN Equity',\n",
       " 'FSLR UW Equity',\n",
       " 'BRK/B UN Equity',\n",
       " 'MTN UN Equity',\n",
       " 'CVS UN Equity',\n",
       " 'NI UN Equity',\n",
       " 'PEP UW Equity',\n",
       " 'ASH UN Equity',\n",
       " 'ILMN UW Equity',\n",
       " 'MANH UW Equity',\n",
       " 'LH UN Equity',\n",
       " 'OGN UN Equity',\n",
       " 'SPGI UN Equity',\n",
       " 'SRPT UW Equity',\n",
       " 'FR UN Equity',\n",
       " 'PLD UN Equity',\n",
       " 'JLL UN Equity',\n",
       " 'VSTS UN Equity',\n",
       " 'AMZN UW Equity',\n",
       " 'FHN UN Equity',\n",
       " 'CHRW UW Equity',\n",
       " 'COP UN Equity',\n",
       " 'WAT UN Equity',\n",
       " 'JNJ UN Equity',\n",
       " 'AR UN Equity',\n",
       " 'LYB UN Equity',\n",
       " 'PCG UN Equity',\n",
       " 'MO UN Equity',\n",
       " 'HOOD UW Equity',\n",
       " 'IBM UN Equity',\n",
       " 'PAYX UW Equity',\n",
       " 'WDAY UW Equity',\n",
       " 'LUV UN Equity',\n",
       " 'ACGL UW Equity',\n",
       " 'CUZ UN Equity',\n",
       " 'MTB UN Equity',\n",
       " 'WOOF UW Equity',\n",
       " 'WTW UW Equity',\n",
       " 'GPS UN Equity',\n",
       " 'AVB UN Equity',\n",
       " 'RNR UN Equity',\n",
       " 'WEX UN Equity',\n",
       " 'OLPX UW Equity',\n",
       " 'FITB UW Equity',\n",
       " 'APO UN Equity',\n",
       " 'DNB UN Equity',\n",
       " 'NFG UN Equity',\n",
       " 'MNST UW Equity',\n",
       " 'CMS UN Equity',\n",
       " 'EWBC UW Equity',\n",
       " 'CG UW Equity',\n",
       " 'CXT UN Equity',\n",
       " 'EME UN Equity',\n",
       " 'SYF UN Equity',\n",
       " 'KMPR UN Equity',\n",
       " 'CNP UN Equity',\n",
       " 'FOX UW Equity',\n",
       " 'LEA UN Equity',\n",
       " 'TRIP UW Equity',\n",
       " 'CNXC UW Equity',\n",
       " 'UGI UN Equity',\n",
       " 'TT UN Equity',\n",
       " 'AVY UN Equity',\n",
       " 'ALK UN Equity',\n",
       " 'STAG UN Equity',\n",
       " 'FND UN Equity',\n",
       " 'FTI UN Equity',\n",
       " 'GRMN UN Equity',\n",
       " 'KR UN Equity',\n",
       " 'QRVO UW Equity',\n",
       " 'O UN Equity',\n",
       " 'CASY UW Equity',\n",
       " 'MASI UW Equity',\n",
       " 'HOLX UW Equity',\n",
       " 'PSA UN Equity',\n",
       " 'JNPR UN Equity',\n",
       " 'FFIV UW Equity',\n",
       " 'TPR UN Equity',\n",
       " 'ARW UN Equity',\n",
       " 'SAIA UW Equity',\n",
       " 'MRO UN Equity',\n",
       " 'DINO UN Equity',\n",
       " 'SNV UN Equity',\n",
       " 'R UN Equity',\n",
       " 'HEI/A UN Equity',\n",
       " 'STT UN Equity',\n",
       " 'SNOW UN Equity',\n",
       " 'POST UN Equity',\n",
       " 'BSX UN Equity',\n",
       " 'AAL UW Equity',\n",
       " 'CPB UN Equity',\n",
       " 'IEX UN Equity',\n",
       " 'IRDM UW Equity',\n",
       " 'COLB UW Equity',\n",
       " 'PM UN Equity',\n",
       " 'UHAL UN Equity',\n",
       " 'INSP UN Equity',\n",
       " 'MSA UN Equity',\n",
       " 'MCK UN Equity',\n",
       " 'EMR UN Equity',\n",
       " 'RCM UW Equity',\n",
       " 'CME UW Equity',\n",
       " 'WYNN UW Equity',\n",
       " 'QDEL UW Equity',\n",
       " 'GMED UN Equity',\n",
       " 'CAVA UN Equity',\n",
       " 'FTV UN Equity',\n",
       " 'EXAS UR Equity',\n",
       " 'COLM UW Equity',\n",
       " 'NFE UW Equity',\n",
       " 'DXC UN Equity',\n",
       " 'LOPE UW Equity',\n",
       " 'VOYA UN Equity',\n",
       " 'LVS UN Equity',\n",
       " 'ICLR UW Equity',\n",
       " 'MDT UN Equity',\n",
       " 'CRWD UW Equity',\n",
       " 'DDOG UW Equity',\n",
       " 'HRL UN Equity',\n",
       " 'PPL UN Equity',\n",
       " 'RITM UN Equity',\n",
       " 'J UN Equity',\n",
       " 'CWEN/A UN Equity',\n",
       " 'CF UN Equity',\n",
       " 'TDC UN Equity',\n",
       " 'NVT UN Equity',\n",
       " 'VVV UN Equity',\n",
       " 'HR UN Equity',\n",
       " 'SHC UW Equity',\n",
       " 'WY UN Equity',\n",
       " 'RGEN UW Equity',\n",
       " 'SRCL UW Equity',\n",
       " 'COR UN Equity',\n",
       " 'OWL UN Equity',\n",
       " 'GO UW Equity',\n",
       " 'LKQ UW Equity',\n",
       " 'WAB UN Equity',\n",
       " 'HAL UN Equity',\n",
       " 'MAR UW Equity',\n",
       " 'TPG UW Equity',\n",
       " 'CPRI UN Equity',\n",
       " 'HUBS UN Equity',\n",
       " 'AMGN UW Equity',\n",
       " 'APD UN Equity',\n",
       " 'CAH UN Equity',\n",
       " 'AFRM UW Equity',\n",
       " 'CLH UN Equity',\n",
       " 'FDS UN Equity',\n",
       " 'LSXMA UW Equity',\n",
       " 'PGR UN Equity',\n",
       " 'LYV UN Equity',\n",
       " 'ATR UN Equity',\n",
       " 'TFSL UW Equity',\n",
       " 'WRB UN Equity',\n",
       " 'ABBV UN Equity',\n",
       " 'EVRG UW Equity',\n",
       " 'TXT UN Equity',\n",
       " 'LEN/B UN Equity',\n",
       " 'LLYVK UW Equity',\n",
       " 'AES UN Equity',\n",
       " 'HWM UN Equity',\n",
       " 'SIRI UW Equity',\n",
       " 'MTD UN Equity',\n",
       " 'FOUR UN Equity',\n",
       " 'CFLT UW Equity',\n",
       " 'HBAN UW Equity',\n",
       " 'BMY UN Equity',\n",
       " 'ZM UW Equity',\n",
       " 'TAP UN Equity',\n",
       " 'AXP UN Equity',\n",
       " 'PRI UN Equity',\n",
       " 'WBA UW Equity',\n",
       " 'FOXA UW Equity',\n",
       " 'HON UW Equity',\n",
       " 'KEX UN Equity',\n",
       " 'CCI UN Equity',\n",
       " 'SPLK UW Equity',\n",
       " 'YETI UN Equity',\n",
       " 'ALLE UN Equity',\n",
       " 'COST UW Equity',\n",
       " 'AFG UN Equity',\n",
       " 'CBSH UW Equity',\n",
       " 'MPWR UW Equity',\n",
       " 'AJG UN Equity',\n",
       " 'EQT UN Equity',\n",
       " 'RRX UN Equity',\n",
       " 'BLDR UN Equity',\n",
       " 'PWR UN Equity',\n",
       " 'SON UN Equity',\n",
       " 'WMB UN Equity',\n",
       " 'CFG UN Equity',\n",
       " 'DPZ UN Equity',\n",
       " 'TTWO UW Equity',\n",
       " 'BIO UN Equity',\n",
       " 'CHDN UW Equity',\n",
       " 'GPK UN Equity',\n",
       " 'TEAM UW Equity',\n",
       " 'PVH UN Equity',\n",
       " 'KEY UN Equity',\n",
       " 'SPR UN Equity',\n",
       " 'TDG UN Equity',\n",
       " 'ALL UN Equity',\n",
       " 'CTSH UW Equity',\n",
       " 'COHR UN Equity',\n",
       " 'OLN UN Equity',\n",
       " 'HUM UN Equity',\n",
       " 'BBWI UN Equity',\n",
       " 'VRSN UW Equity',\n",
       " 'BWXT UN Equity',\n",
       " 'PARA UW Equity',\n",
       " 'VIRT UW Equity',\n",
       " 'DD UN Equity',\n",
       " 'PNC UN Equity',\n",
       " 'DTE UN Equity',\n",
       " 'GILD UW Equity',\n",
       " 'CWEN UN Equity',\n",
       " 'PG UN Equity',\n",
       " 'ROKU UW Equity',\n",
       " 'ENOV UN Equity',\n",
       " 'SMG UN Equity',\n",
       " 'MS UN Equity',\n",
       " 'IVZ UN Equity',\n",
       " 'LW UN Equity',\n",
       " 'MIDD UW Equity',\n",
       " 'PSX UN Equity',\n",
       " 'SO UN Equity',\n",
       " 'ED UN Equity',\n",
       " 'DT UN Equity',\n",
       " 'EXP UN Equity',\n",
       " 'BEPC UN Equity',\n",
       " 'GME UN Equity',\n",
       " 'JBHT UW Equity',\n",
       " 'WU UN Equity',\n",
       " 'NCLH UN Equity',\n",
       " 'LECO UW Equity',\n",
       " 'GPN UN Equity',\n",
       " 'NU UN Equity',\n",
       " 'OKE UN Equity',\n",
       " 'NYCB UN Equity',\n",
       " 'WBS UN Equity',\n",
       " 'URI UN Equity',\n",
       " 'FBIN UN Equity',\n",
       " 'RUN UW Equity',\n",
       " 'ROIV UW Equity',\n",
       " 'VAC UN Equity',\n",
       " 'PAG UN Equity',\n",
       " 'WSM UN Equity',\n",
       " 'GD UN Equity',\n",
       " 'RTX UN Equity',\n",
       " 'G UN Equity',\n",
       " 'SSRM UW Equity',\n",
       " 'WM UN Equity',\n",
       " 'IDA UN Equity',\n",
       " 'PNW UN Equity',\n",
       " 'LPLA UW Equity',\n",
       " 'ECL UN Equity',\n",
       " 'MPW UN Equity',\n",
       " 'CRL UN Equity',\n",
       " 'RARE UW Equity',\n",
       " 'OC UN Equity',\n",
       " 'UAA UN Equity',\n",
       " 'RL UN Equity',\n",
       " 'GPC UN Equity',\n",
       " 'JHG UN Equity',\n",
       " 'THG UN Equity',\n",
       " 'PYPL UW Equity',\n",
       " 'COLD UN Equity',\n",
       " 'CHK UW Equity',\n",
       " 'ICUI UW Equity',\n",
       " 'BX UN Equity',\n",
       " 'PTC UW Equity',\n",
       " 'CPT UN Equity',\n",
       " 'RBLX UN Equity',\n",
       " 'EVR UN Equity',\n",
       " 'CR UN Equity',\n",
       " 'EOG UN Equity',\n",
       " 'OMC UN Equity',\n",
       " 'CRM UN Equity',\n",
       " 'AZO UN Equity',\n",
       " 'RKT UN Equity',\n",
       " 'RVTY UN Equity',\n",
       " 'RIVN UW Equity',\n",
       " 'SCCO UN Equity',\n",
       " 'MOH UN Equity',\n",
       " 'BDX UN Equity',\n",
       " 'PEN UN Equity',\n",
       " 'RBC UN Equity',\n",
       " 'TFX UN Equity',\n",
       " 'CHH UN Equity',\n",
       " 'TXRH UW Equity',\n",
       " 'VTR UN Equity',\n",
       " 'HTZ UW Equity',\n",
       " 'SLGN UN Equity',\n",
       " 'DOV UN Equity',\n",
       " 'MHK UN Equity',\n",
       " 'NEM UN Equity',\n",
       " 'NWS UW Equity',\n",
       " 'TKR UN Equity',\n",
       " 'TSLA UW Equity',\n",
       " 'TGT UN Equity',\n",
       " 'MCO UN Equity',\n",
       " 'DKS UN Equity',\n",
       " 'WSO UN Equity',\n",
       " 'EFX UN Equity',\n",
       " 'ORLY UW Equity',\n",
       " 'SCHW UN Equity',\n",
       " 'MKTX UW Equity',\n",
       " 'BRKR UW Equity',\n",
       " 'PLTK UW Equity',\n",
       " 'ABNB UW Equity',\n",
       " 'HAYW UN Equity',\n",
       " 'AZEK UN Equity',\n",
       " 'GTES UN Equity',\n",
       " 'CIEN UN Equity',\n",
       " 'ATO UN Equity',\n",
       " 'MTCH UW Equity',\n",
       " 'LRCX UW Equity',\n",
       " 'BWA UN Equity',\n",
       " 'CHPT UN Equity',\n",
       " 'SAM UN Equity',\n",
       " 'COF UN Equity',\n",
       " 'AM UN Equity',\n",
       " 'HIW UN Equity',\n",
       " 'CI UN Equity',\n",
       " 'ITT UN Equity',\n",
       " 'SEE UN Equity',\n",
       " 'ST UN Equity',\n",
       " 'ZI UW Equity',\n",
       " 'PSTG UN Equity',\n",
       " 'AA UN Equity',\n",
       " 'GXO UN Equity',\n",
       " 'LCID UW Equity',\n",
       " 'EPAM UN Equity',\n",
       " 'ES UN Equity',\n",
       " 'AMD UW Equity',\n",
       " 'BEN UN Equity',\n",
       " 'HUBB UN Equity',\n",
       " 'TRMB UW Equity',\n",
       " 'HCA UN Equity',\n",
       " 'CGNX UW Equity',\n",
       " 'CLVT UN Equity',\n",
       " 'STLD UW Equity',\n",
       " 'ARMK UN Equity',\n",
       " 'AFL UN Equity',\n",
       " 'MTG UN Equity',\n",
       " 'NRG UN Equity',\n",
       " 'ALGM UW Equity',\n",
       " 'LNT UW Equity',\n",
       " 'PXD UN Equity',\n",
       " 'CDW UW Equity',\n",
       " 'RSG UN Equity',\n",
       " 'SYK UN Equity',\n",
       " 'UBER UN Equity',\n",
       " 'CCL UN Equity',\n",
       " 'CMCSA UW Equity',\n",
       " 'WTFC UW Equity',\n",
       " 'CHE UN Equity',\n",
       " 'AGR UN Equity',\n",
       " 'INFA UN Equity',\n",
       " 'FANG UW Equity',\n",
       " 'AON UN Equity',\n",
       " 'PTON UW Equity',\n",
       " 'KSS UN Equity',\n",
       " 'APA UW Equity',\n",
       " 'RBA UN Equity',\n",
       " 'CEG UW Equity',\n",
       " 'DAY UN Equity',\n",
       " 'LSTR UW Equity',\n",
       " 'USFD UN Equity',\n",
       " 'IAC UW Equity',\n",
       " 'TRGP UN Equity',\n",
       " 'RGLD UW Equity',\n",
       " 'GOOG UW Equity',\n",
       " 'LNG UN Equity',\n",
       " 'BC UN Equity',\n",
       " 'XP UW Equity',\n",
       " 'XYL UN Equity',\n",
       " 'HSIC UW Equity',\n",
       " 'ALNY UW Equity',\n",
       " 'SKX UN Equity',\n",
       " 'TOL UN Equity',\n",
       " 'ACN UN Equity',\n",
       " 'MMM UN Equity',\n",
       " 'WEC UN Equity',\n",
       " 'HPE UN Equity',\n",
       " 'AME UN Equity',\n",
       " 'AIG UN Equity',\n",
       " 'LOW UN Equity',\n",
       " 'GDDY UN Equity',\n",
       " 'FAF UN Equity',\n",
       " 'PFE UN Equity',\n",
       " 'DIS UN Equity',\n",
       " 'EXR UN Equity',\n",
       " 'HES UN Equity',\n",
       " 'HHH UN Equity',\n",
       " 'ACHC UW Equity',\n",
       " 'LHX UN Equity',\n",
       " 'HUN UN Equity',\n",
       " 'MAA UN Equity',\n",
       " 'ZBRA UW Equity',\n",
       " 'STWD UN Equity',\n",
       " 'CABO UN Equity',\n",
       " 'RPM UN Equity',\n",
       " 'WELL UN Equity',\n",
       " 'TREX UN Equity',\n",
       " 'EMN UN Equity',\n",
       " 'ULTA UW Equity',\n",
       " 'PPC UW Equity',\n",
       " 'CPRT UW Equity',\n",
       " 'GIS UN Equity',\n",
       " 'WAL UN Equity',\n",
       " 'RHI UN Equity',\n",
       " 'X UN Equity',\n",
       " 'AWI UN Equity',\n",
       " 'BAC UN Equity',\n",
       " 'CTLT UN Equity',\n",
       " 'INCY UW Equity',\n",
       " 'MCHP UW Equity',\n",
       " 'EXEL UW Equity',\n",
       " 'ABT UN Equity',\n",
       " 'UDR UN Equity',\n",
       " 'VRSK UW Equity',\n",
       " 'PHM UN Equity',\n",
       " 'JCI UN Equity',\n",
       " 'SPOT UN Equity',\n",
       " 'PKG UN Equity',\n",
       " 'TECH UW Equity',\n",
       " 'VEEV UN Equity',\n",
       " 'CAT UN Equity',\n",
       " 'AIRC UN Equity',\n",
       " 'ARES UN Equity',\n",
       " 'INTU UW Equity',\n",
       " 'NTRA UW Equity',\n",
       " 'NVR UN Equity',\n",
       " 'DNA UN Equity',\n",
       " 'OSK UN Equity',\n",
       " 'GLOB UN Equity',\n",
       " 'KNX UN Equity',\n",
       " 'REYN UW Equity',\n",
       " 'TNDM UQ Equity',\n",
       " 'OHI UN Equity',\n",
       " 'STE UN Equity',\n",
       " 'TWLO UN Equity',\n",
       " 'VZ UN Equity',\n",
       " 'MAS UN Equity',\n",
       " 'GOOGL UW Equity',\n",
       " 'EQIX UW Equity',\n",
       " 'DECK UN Equity',\n",
       " 'RGA UN Equity',\n",
       " 'SNX UN Equity',\n",
       " 'AEP UW Equity',\n",
       " 'DRI UN Equity',\n",
       " 'AMG UN Equity',\n",
       " 'INGR UN Equity',\n",
       " 'NNN UN Equity',\n",
       " 'TSCO UW Equity',\n",
       " 'RLI UN Equity',\n",
       " 'LEN UN Equity',\n",
       " 'EXPD UN Equity',\n",
       " 'HLT UN Equity',\n",
       " 'BF/A UN Equity',\n",
       " 'TYL UN Equity',\n",
       " 'WMT UN Equity',\n",
       " 'EA UW Equity',\n",
       " 'MDU UN Equity',\n",
       " 'PATH UN Equity',\n",
       " 'AMP UN Equity',\n",
       " 'SLB UN Equity',\n",
       " 'GTLB UW Equity',\n",
       " 'KMI UN Equity',\n",
       " 'BJ UN Equity',\n",
       " 'HIG UN Equity',\n",
       " 'EXPE UW Equity',\n",
       " 'ESTC UN Equity',\n",
       " 'ORCL UN Equity',\n",
       " 'OZK UW Equity',\n",
       " 'NEU UN Equity',\n",
       " 'FAST UW Equity',\n",
       " 'GM UN Equity',\n",
       " 'TRU UN Equity',\n",
       " 'XPO UN Equity',\n",
       " 'CINF UW Equity',\n",
       " 'UHAL/B UN Equity',\n",
       " 'AMH UN Equity',\n",
       " 'REXR UN Equity',\n",
       " 'CELH UR Equity',\n",
       " 'DOCU UW Equity',\n",
       " 'WRK UN Equity',\n",
       " 'PODD UW Equity',\n",
       " 'UA UN Equity',\n",
       " 'KD UN Equity',\n",
       " 'XOM UN Equity',\n",
       " 'ETSY UW Equity',\n",
       " 'ADI UW Equity',\n",
       " 'EW UN Equity',\n",
       " 'MET UN Equity',\n",
       " 'NOV UN Equity',\n",
       " 'CSGP UW Equity',\n",
       " 'W UN Equity',\n",
       " 'WSC UR Equity',\n",
       " 'NOC UN Equity',\n",
       " 'PANW UW Equity',\n",
       " 'ROK UN Equity',\n",
       " 'OKTA UW Equity',\n",
       " 'DHR UN Equity',\n",
       " 'KMB UN Equity',\n",
       " 'PNR UN Equity',\n",
       " 'APTV UN Equity',\n",
       " 'UI UN Equity',\n",
       " 'REGN UW Equity',\n",
       " 'KMX UN Equity',\n",
       " 'GE UN Equity',\n",
       " 'STZ UN Equity',\n",
       " 'QS UN Equity',\n",
       " 'NSA UN Equity',\n",
       " 'CMG UN Equity',\n",
       " 'IPG UN Equity',\n",
       " 'IRM UN Equity',\n",
       " 'ADC UN Equity',\n",
       " 'ON UW Equity',\n",
       " 'MORN UW Equity',\n",
       " 'DOW UN Equity',\n",
       " 'CSCO UW Equity',\n",
       " 'HXL UN Equity',\n",
       " 'LLYVA UW Equity',\n",
       " 'PCAR UW Equity',\n",
       " 'TW UW Equity',\n",
       " 'WBD UW Equity',\n",
       " 'VMI UN Equity',\n",
       " 'A UN Equity',\n",
       " 'BAX UN Equity',\n",
       " 'CCK UN Equity',\n",
       " 'VRT UN Equity',\n",
       " 'HSY UN Equity',\n",
       " 'LNC UN Equity',\n",
       " 'EIX UN Equity',\n",
       " 'AEE UN Equity',\n",
       " 'D UN Equity',\n",
       " 'JKHY UW Equity',\n",
       " 'PII UN Equity',\n",
       " 'GEN UW Equity',\n",
       " 'CART UW Equity',\n",
       " 'FI UN Equity',\n",
       " 'WCC UN Equity',\n",
       " 'TSN UN Equity',\n",
       " 'AKAM UW Equity',\n",
       " 'MKL UN Equity',\n",
       " 'KDP UW Equity',\n",
       " 'NDSN UW Equity',\n",
       " 'TXG UW Equity',\n",
       " 'NYT UN Equity',\n",
       " 'WHR UN Equity',\n",
       " 'MOS UN Equity',\n",
       " 'KLG UN Equity',\n",
       " 'RYN UN Equity',\n",
       " 'WTRG UN Equity',\n",
       " 'LPX UN Equity',\n",
       " 'SF UN Equity',\n",
       " 'VICI UN Equity',\n",
       " 'EG UN Equity',\n",
       " 'F UN Equity',\n",
       " 'MAT UW Equity',\n",
       " 'PINS UN Equity',\n",
       " 'BR UN Equity',\n",
       " 'XRAY UW Equity',\n",
       " 'CRBG UN Equity',\n",
       " 'CSX UW Equity',\n",
       " 'ETN UN Equity',\n",
       " 'KVUE UN Equity',\n",
       " 'ADSK UW Equity',\n",
       " 'BSY UW Equity',\n",
       " 'CTAS UW Equity',\n",
       " 'WDC UW Equity',\n",
       " 'SLM UW Equity',\n",
       " 'TXN UW Equity',\n",
       " 'AMCR UN Equity',\n",
       " 'ELAN UN Equity',\n",
       " 'FE UN Equity',\n",
       " 'FHB UW Equity',\n",
       " 'LSCC UW Equity',\n",
       " 'MMC UN Equity',\n",
       " 'ZBH UN Equity',\n",
       " 'BKNG UW Equity',\n",
       " 'ADM UN Equity',\n",
       " 'GL UN Equity',\n",
       " 'OLED UW Equity',\n",
       " 'CRI UN Equity',\n",
       " 'DRVN UW Equity',\n",
       " 'NSC UN Equity',\n",
       " 'HD UN Equity',\n",
       " 'WLK UN Equity',\n",
       " 'MSM UN Equity',\n",
       " 'TDOC UN Equity',\n",
       " 'CNA UN Equity',\n",
       " 'PRU UN Equity',\n",
       " 'TNL UN Equity',\n",
       " 'AAP UN Equity',\n",
       " 'AGL UN Equity',\n",
       " 'ALB UN Equity',\n",
       " 'GFS UW Equity',\n",
       " 'EPR UN Equity',\n",
       " 'CMI UN Equity',\n",
       " 'KBR UN Equity',\n",
       " 'DLR UN Equity',\n",
       " 'TFC UN Equity',\n",
       " 'LITE UW Equity',\n",
       " 'PEG UN Equity',\n",
       " 'ACM UN Equity',\n",
       " 'DBX UW Equity',\n",
       " 'ESI UN Equity',\n",
       " 'IR UN Equity',\n",
       " 'GNRC UN Equity',\n",
       " 'ADBE UW Equity',\n",
       " 'PFG UW Equity',\n",
       " 'AXTA UN Equity',\n",
       " 'FYBR UW Equity',\n",
       " 'CACI UN Equity',\n",
       " 'CL UN Equity',\n",
       " 'EBAY UW Equity',\n",
       " 'BRX UN Equity',\n",
       " 'ITW UN Equity',\n",
       " 'WST UN Equity',\n",
       " 'AIZ UN Equity',\n",
       " 'RNG UN Equity',\n",
       " 'EL UN Equity',\n",
       " 'TMUS UW Equity',\n",
       " 'TTD UQ Equity',\n",
       " 'CACC UW Equity',\n",
       " 'CPNG UN Equity',\n",
       " 'FMC UN Equity',\n",
       " 'BMRN UW Equity',\n",
       " 'SPB UN Equity',\n",
       " 'FNF UN Equity',\n",
       " 'VNO UN Equity',\n",
       " 'IP UN Equity',\n",
       " 'CFR UN Equity',\n",
       " 'NLY UN Equity',\n",
       " 'PFGC UN Equity',\n",
       " 'ACI UN Equity',\n",
       " 'PEGA UW Equity',\n",
       " 'LDOS UN Equity',\n",
       " 'EXC UW Equity',\n",
       " 'INTC UW Equity',\n",
       " 'OTIS UN Equity',\n",
       " 'TER UW Equity',\n",
       " 'BXP UN Equity',\n",
       " 'FIVN UQ Equity',\n",
       " 'FRPT UQ Equity',\n",
       " 'SWN UN Equity',\n",
       " 'FRT UN Equity',\n",
       " 'FWONK UW Equity',\n",
       " 'Z UW Equity',\n",
       " 'AYX UN Equity',\n",
       " 'KNSL UN Equity',\n",
       " 'COTY UN Equity',\n",
       " 'CE UN Equity',\n",
       " 'GNTX UW Equity',\n",
       " 'EEFT UW Equity',\n",
       " 'PHIN UN Equity',\n",
       " 'ADP UW Equity',\n",
       " 'MPC UN Equity',\n",
       " 'PINC UW Equity',\n",
       " 'WOLF UN Equity',\n",
       " 'RJF UN Equity',\n",
       " 'RYAN UN Equity',\n",
       " 'KKR UN Equity',\n",
       " 'OVV UN Equity',\n",
       " 'LMT UN Equity',\n",
       " 'SBUX UW Equity',\n",
       " 'CZR UW Equity',\n",
       " 'BKR UW Equity',\n",
       " 'MSCI UN Equity',\n",
       " 'MSGS UN Equity',\n",
       " 'NVCR UW Equity',\n",
       " 'NVST UN Equity',\n",
       " 'RPRX UW Equity',\n",
       " 'FDX UN Equity',\n",
       " 'JAZZ UW Equity',\n",
       " 'CAR UW Equity',\n",
       " 'RS UN Equity',\n",
       " 'FCX UN Equity',\n",
       " 'SRE UN Equity',\n",
       " 'UHS UN Equity',\n",
       " 'CROX UW Equity',\n",
       " 'VLTO UN Equity',\n",
       " 'ANSS UW Equity',\n",
       " 'KHC UW Equity',\n",
       " 'PNFP UW Equity',\n",
       " 'ALGN UW Equity',\n",
       " 'FIVE UW Equity',\n",
       " 'QCOM UW Equity',\n",
       " 'DAR UN Equity',\n",
       " 'NET UN Equity',\n",
       " 'CNHI UN Equity',\n",
       " 'ESS UN Equity',\n",
       " 'DKNG UW Equity',\n",
       " 'AGCO UN Equity',\n",
       " 'QGEN UN Equity',\n",
       " 'U UN Equity',\n",
       " 'AVT UW Equity',\n",
       " 'HEI UN Equity',\n",
       " 'MU UW Equity',\n",
       " 'MCD UN Equity',\n",
       " 'RRC UN Equity',\n",
       " 'FWONA UW Equity',\n",
       " 'IART UW Equity',\n",
       " 'WMS UN Equity',\n",
       " 'BURL UN Equity',\n",
       " 'SOFI UW Equity',\n",
       " 'HCP UW Equity',\n",
       " 'ELV UN Equity',\n",
       " 'BLD UN Equity',\n",
       " 'BK UN Equity',\n",
       " 'UWMC UN Equity',\n",
       " 'AXON UW Equity',\n",
       " 'PH UN Equity',\n",
       " 'WWD UW Equity',\n",
       " 'C UN Equity',\n",
       " 'PK UN Equity',\n",
       " 'XEL UW Equity',\n",
       " 'MEDP UW Equity',\n",
       " 'BERY UN Equity',\n",
       " 'GLPI UW Equity',\n",
       " 'GLW UN Equity',\n",
       " 'TROW UW Equity',\n",
       " 'NLOP UN Equity',\n",
       " 'FCNCA UW Equity',\n",
       " 'ARE UN Equity',\n",
       " 'BIRK UN Equity',\n",
       " 'IBKR UW Equity',\n",
       " 'JPM UN Equity',\n",
       " 'SSNC UW Equity',\n",
       " 'TRV UN Equity',\n",
       " 'GS UN Equity',\n",
       " 'DUK UN Equity',\n",
       " 'SAIC UW Equity',\n",
       " 'UPS UN Equity',\n",
       " 'VMC UN Equity',\n",
       " 'AGO UN Equity',\n",
       " 'AMAT UW Equity',\n",
       " 'IONS UW Equity',\n",
       " 'TMO UN Equity',\n",
       " 'ESAB UN Equity',\n",
       " 'TPX UN Equity',\n",
       " 'LEG UN Equity',\n",
       " 'NBIX UW Equity',\n",
       " 'NKE UN Equity',\n",
       " 'OGE UN Equity',\n",
       " 'WING UW Equity',\n",
       " 'RH UN Equity',\n",
       " 'NTNX UW Equity',\n",
       " 'CHD UN Equity',\n",
       " 'ICE UN Equity',\n",
       " 'UNP UN Equity',\n",
       " 'H UN Equity',\n",
       " 'SITE UN Equity',\n",
       " 'DVN UN Equity',\n",
       " 'ZTS UN Equity',\n",
       " 'LULU UW Equity',\n",
       " 'ISRG UW Equity',\n",
       " 'VRTX UW Equity',\n",
       " 'WEN UW Equity',\n",
       " 'AMC UN Equity',\n",
       " 'MUSA UN Equity',\n",
       " 'TTEK UW Equity',\n",
       " 'LAMR UW Equity',\n",
       " 'COO UW Equity',\n",
       " 'ROST UW Equity',\n",
       " 'LLY UN Equity',\n",
       " 'BPOP UW Equity',\n",
       " 'HE UN Equity',\n",
       " 'ZS UW Equity',\n",
       " 'PPG UN Equity',\n",
       " 'TDY UN Equity',\n",
       " 'DHI UN Equity',\n",
       " 'ANET UN Equity',\n",
       " 'OXY UN Equity',\n",
       " 'S UN Equity',\n",
       " 'TJX UN Equity',\n",
       " 'CLX UN Equity',\n",
       " 'DCI UN Equity',\n",
       " 'LBRDA UW Equity',\n",
       " 'NDAQ UW Equity',\n",
       " 'CARR UN Equity',\n",
       " 'DTM UN Equity',\n",
       " 'OMF UN Equity',\n",
       " 'LFUS UW Equity',\n",
       " 'APH UN Equity',\n",
       " 'GWRE UN Equity',\n",
       " 'L UN Equity',\n",
       " 'CNM UN Equity',\n",
       " 'HPQ UN Equity',\n",
       " 'NWL UW Equity',\n",
       " 'RCL UN Equity',\n",
       " 'TOST UN Equity',\n",
       " 'VTRS UW Equity',\n",
       " 'PENN UW Equity',\n",
       " 'TPL UN Equity',\n",
       " 'NTAP UW Equity',\n",
       " 'CC UN Equity',\n",
       " 'DV UN Equity',\n",
       " 'KEYS UN Equity',\n",
       " 'SBAC UW Equity',\n",
       " 'META UW Equity',\n",
       " 'PLTR UN Equity',\n",
       " 'MP UN Equity',\n",
       " 'EQR UN Equity',\n",
       " 'ENTG UW Equity',\n",
       " 'SEIC UW Equity',\n",
       " 'DOCS UN Equity',\n",
       " 'HOG UN Equity',\n",
       " 'DOX UW Equity',\n",
       " 'ELS UN Equity',\n",
       " 'AXS UN Equity',\n",
       " 'DOC UN Equity',\n",
       " 'FNB UN Equity',\n",
       " 'IFF UN Equity',\n",
       " 'IQV UN Equity',\n",
       " 'MRK UN Equity',\n",
       " 'VFC UN Equity',\n",
       " 'CBOE UF Equity',\n",
       " 'NATL UN Equity',\n",
       " 'CLF UN Equity',\n",
       " 'DXCM UW Equity',\n",
       " 'ODFL UW Equity',\n",
       " 'NFLX UW Equity',\n",
       " 'ROP UW Equity',\n",
       " 'APLS UW Equity',\n",
       " 'CSL UN Equity',\n",
       " 'ENPH UQ Equity',\n",
       " 'MRVL UW Equity',\n",
       " 'AAPL UW Equity',\n",
       " 'BF/B UN Equity',\n",
       " 'AVGO UW Equity',\n",
       " 'MRCY UW Equity',\n",
       " 'KRTX UQ Equity',\n",
       " 'MAN UN Equity',\n",
       " 'T UN Equity',\n",
       " 'HAS UW Equity',\n",
       " 'SNDR UN Equity',\n",
       " 'BLK UN Equity',\n",
       " 'SJM UN Equity',\n",
       " 'NWSA UW Equity',\n",
       " 'DE UN Equity',\n",
       " 'CMA UN Equity',\n",
       " 'KIM UN Equity',\n",
       " 'PLNT UN Equity',\n",
       " 'BRO UN Equity',\n",
       " 'SWKS UW Equity',\n",
       " 'THO UN Equity',\n",
       " 'UTHR UW Equity',\n",
       " 'SQ UN Equity',\n",
       " 'ZG UW Equity',\n",
       " 'LAZ UN Equity',\n",
       " 'BAH UN Equity',\n",
       " 'NEE UN Equity',\n",
       " 'OLLI UQ Equity',\n",
       " 'FTNT UW Equity',\n",
       " 'LYFT UW Equity',\n",
       " 'M UN Equity',\n",
       " 'GEHC UW Equity',\n",
       " 'FLT UN Equity',\n",
       " 'PCTY UW Equity',\n",
       " 'YUM UN Equity',\n",
       " 'SCI UN Equity',\n",
       " 'RF UN Equity',\n",
       " 'JWN UN Equity',\n",
       " 'UAL UW Equity',\n",
       " 'FERG UN Equity',\n",
       " 'UNM UN Equity',\n",
       " 'APP UW Equity',\n",
       " 'IDXX UW Equity',\n",
       " 'SEB UA Equity',\n",
       " 'LBRDK UW Equity',\n",
       " 'WH UN Equity',\n",
       " 'IPGP UW Equity',\n",
       " 'WPC UN Equity',\n",
       " 'FIS UN Equity',\n",
       " 'AYI UN Equity',\n",
       " 'SYY UN Equity',\n",
       " 'WFC UN Equity',\n",
       " 'KO UN Equity',\n",
       " 'PRGO UN Equity',\n",
       " 'AMBP UN Equity',\n",
       " 'PLUG UR Equity',\n",
       " 'PB UN Equity',\n",
       " 'AZPN UW Equity',\n",
       " 'THC UN Equity',\n",
       " 'FICO UN Equity',\n",
       " 'V UN Equity',\n",
       " 'AMT UN Equity',\n",
       " 'BBY UN Equity',\n",
       " 'DLTR UW Equity',\n",
       " 'BILL UN Equity',\n",
       " 'RMD UN Equity',\n",
       " 'MRVI UW Equity',\n",
       " 'FLS UN Equity',\n",
       " 'HST UW Equity',\n",
       " 'CNC UN Equity',\n",
       " 'NUE UN Equity',\n",
       " 'TTC UN Equity',\n",
       " 'ALSN UN Equity',\n",
       " 'GWW UN Equity',\n",
       " 'BA UN Equity',\n",
       " 'BALL UN Equity',\n",
       " 'BIIB UW Equity',\n",
       " 'CERT UW Equity',\n",
       " 'SNA UN Equity',\n",
       " 'MTZ UN Equity',\n",
       " 'PCOR UN Equity',\n",
       " 'KLAC UW Equity',\n",
       " 'FCN UN Equity',\n",
       " 'MDLZ UW Equity',\n",
       " 'EHC UN Equity',\n",
       " 'MLM UN Equity',\n",
       " 'DASH UW Equity',\n",
       " 'SMAR UN Equity',\n",
       " 'FLO UN Equity',\n",
       " 'EGP UN Equity',\n",
       " 'MCW UN Equity',\n",
       " 'MKSI UW Equity',\n",
       " 'VYX UN Equity',\n",
       " 'COIN UW Equity',\n",
       " 'WTM UN Equity',\n",
       " 'CW UN Equity',\n",
       " 'MRNA UW Equity',\n",
       " 'POOL UW Equity',\n",
       " 'CHTR UW Equity',\n",
       " 'BYD UN Equity',\n",
       " 'LSXMK UW Equity',\n",
       " 'MSFT UW Equity',\n",
       " 'ORI UN Equity',\n",
       " 'DFS UN Equity',\n",
       " 'SWK UN Equity',\n",
       " 'JBL UN Equity',\n",
       " 'VLO UN Equity',\n",
       " 'NCNO UW Equity',\n",
       " 'JEF UN Equity',\n",
       " 'AGNC UW Equity',\n",
       " 'AN UN Equity',\n",
       " 'EQH UN Equity',\n",
       " 'AL UN Equity',\n",
       " 'BFAM UN Equity',\n",
       " 'CRUS UW Equity',\n",
       " 'NTRS UW Equity',\n",
       " 'ZION UW Equity',\n",
       " 'SWAV UW Equity',\n",
       " 'BG UN Equity',\n",
       " 'AWK UN Equity',\n",
       " 'NXST UW Equity',\n",
       " 'SNPS UW Equity',\n",
       " 'SPG UN Equity',\n",
       " ...]"
      ]
     },
     "execution_count": 13,
     "metadata": {},
     "output_type": "execute_result"
    }
   ],
   "source": [
    "list_tickers"
   ]
  },
  {
   "cell_type": "code",
   "execution_count": null,
   "id": "7260abbe",
   "metadata": {},
   "outputs": [],
   "source": [
    "#### Récupération des données : "
   ]
  },
  {
   "cell_type": "code",
   "execution_count": 14,
   "id": "92a9c882",
   "metadata": {},
   "outputs": [
    {
     "name": "stdout",
     "output_type": "stream",
     "text": [
      "Sending request\n"
     ]
    }
   ],
   "source": [
    "# test bdh :\n",
    "tickers = list_tickers\n",
    "strFields = [\"PX_LAST\", \"PX_VOLUME\"]  \n",
    "start_date = datetime(1999, 1, 28)\n",
    "end_date = datetime.now()\n",
    "test_bdh = blp.bdh(strSecurity=tickers, strFields = strFields, startdate = start_date, enddate = end_date, per='MONTHLY', curr = \"USD\")"
   ]
  },
  {
   "cell_type": "code",
   "execution_count": 15,
   "id": "0520dfa3",
   "metadata": {},
   "outputs": [
    {
     "data": {
      "text/html": [
       "<div>\n",
       "<style scoped>\n",
       "    .dataframe tbody tr th:only-of-type {\n",
       "        vertical-align: middle;\n",
       "    }\n",
       "\n",
       "    .dataframe tbody tr th {\n",
       "        vertical-align: top;\n",
       "    }\n",
       "\n",
       "    .dataframe thead th {\n",
       "        text-align: right;\n",
       "    }\n",
       "</style>\n",
       "<table border=\"1\" class=\"dataframe\">\n",
       "  <thead>\n",
       "    <tr style=\"text-align: right;\">\n",
       "      <th></th>\n",
       "      <th>LIN UW Equity</th>\n",
       "      <th>CDNS UW Equity</th>\n",
       "      <th>HLI UN Equity</th>\n",
       "      <th>ADT UN Equity</th>\n",
       "      <th>DGX UN Equity</th>\n",
       "      <th>CVX UN Equity</th>\n",
       "      <th>HII UN Equity</th>\n",
       "      <th>MGM UN Equity</th>\n",
       "      <th>HWM UN Equity</th>\n",
       "      <th>SIRI UW Equity</th>\n",
       "      <th>...</th>\n",
       "      <th>PCOR UN Equity</th>\n",
       "      <th>KLAC UW Equity</th>\n",
       "      <th>FCN UN Equity</th>\n",
       "      <th>TKO UN Equity</th>\n",
       "      <th>UNH UN Equity</th>\n",
       "      <th>KRC UN Equity</th>\n",
       "      <th>ALLY UN Equity</th>\n",
       "      <th>ETR UN Equity</th>\n",
       "      <th>CTRA UN Equity</th>\n",
       "      <th>MDB UQ Equity</th>\n",
       "    </tr>\n",
       "  </thead>\n",
       "  <tbody>\n",
       "    <tr>\n",
       "      <th>2023-11-30</th>\n",
       "      <td>413.77</td>\n",
       "      <td>273.27</td>\n",
       "      <td>107.72</td>\n",
       "      <td>5.87</td>\n",
       "      <td>137.23</td>\n",
       "      <td>143.60</td>\n",
       "      <td>237.02</td>\n",
       "      <td>39.44</td>\n",
       "      <td>52.60</td>\n",
       "      <td>4.68</td>\n",
       "      <td>...</td>\n",
       "      <td>59.09</td>\n",
       "      <td>544.62</td>\n",
       "      <td>220.46</td>\n",
       "      <td>77.33</td>\n",
       "      <td>552.97</td>\n",
       "      <td>32.98</td>\n",
       "      <td>29.22</td>\n",
       "      <td>101.41</td>\n",
       "      <td>26.2500</td>\n",
       "      <td>415.74</td>\n",
       "    </tr>\n",
       "    <tr>\n",
       "      <th>2023-12-29</th>\n",
       "      <td>410.71</td>\n",
       "      <td>272.37</td>\n",
       "      <td>119.91</td>\n",
       "      <td>6.82</td>\n",
       "      <td>137.88</td>\n",
       "      <td>149.16</td>\n",
       "      <td>259.64</td>\n",
       "      <td>44.68</td>\n",
       "      <td>54.12</td>\n",
       "      <td>5.47</td>\n",
       "      <td>...</td>\n",
       "      <td>69.22</td>\n",
       "      <td>581.30</td>\n",
       "      <td>199.15</td>\n",
       "      <td>81.58</td>\n",
       "      <td>526.47</td>\n",
       "      <td>39.84</td>\n",
       "      <td>34.92</td>\n",
       "      <td>101.19</td>\n",
       "      <td>25.5200</td>\n",
       "      <td>408.85</td>\n",
       "    </tr>\n",
       "    <tr>\n",
       "      <th>2024-01-31</th>\n",
       "      <td>404.83</td>\n",
       "      <td>288.46</td>\n",
       "      <td>119.78</td>\n",
       "      <td>6.53</td>\n",
       "      <td>128.43</td>\n",
       "      <td>147.43</td>\n",
       "      <td>258.92</td>\n",
       "      <td>43.37</td>\n",
       "      <td>56.26</td>\n",
       "      <td>5.09</td>\n",
       "      <td>...</td>\n",
       "      <td>71.39</td>\n",
       "      <td>594.04</td>\n",
       "      <td>191.61</td>\n",
       "      <td>83.69</td>\n",
       "      <td>511.74</td>\n",
       "      <td>35.76</td>\n",
       "      <td>36.68</td>\n",
       "      <td>99.76</td>\n",
       "      <td>24.8800</td>\n",
       "      <td>400.52</td>\n",
       "    </tr>\n",
       "    <tr>\n",
       "      <th>2024-02-29</th>\n",
       "      <td>448.82</td>\n",
       "      <td>304.38</td>\n",
       "      <td>128.66</td>\n",
       "      <td>7.26</td>\n",
       "      <td>124.89</td>\n",
       "      <td>152.01</td>\n",
       "      <td>291.62</td>\n",
       "      <td>43.28</td>\n",
       "      <td>66.55</td>\n",
       "      <td>4.42</td>\n",
       "      <td>...</td>\n",
       "      <td>78.03</td>\n",
       "      <td>682.30</td>\n",
       "      <td>206.88</td>\n",
       "      <td>83.73</td>\n",
       "      <td>493.60</td>\n",
       "      <td>37.89</td>\n",
       "      <td>36.99</td>\n",
       "      <td>101.57</td>\n",
       "      <td>25.7800</td>\n",
       "      <td>447.58</td>\n",
       "    </tr>\n",
       "    <tr>\n",
       "      <th>2005-10-31</th>\n",
       "      <td>NaN</td>\n",
       "      <td>15.98</td>\n",
       "      <td>NaN</td>\n",
       "      <td>NaN</td>\n",
       "      <td>46.71</td>\n",
       "      <td>57.07</td>\n",
       "      <td>NaN</td>\n",
       "      <td>37.37</td>\n",
       "      <td>NaN</td>\n",
       "      <td>6.24</td>\n",
       "      <td>...</td>\n",
       "      <td>NaN</td>\n",
       "      <td>46.29</td>\n",
       "      <td>27.37</td>\n",
       "      <td>12.75</td>\n",
       "      <td>57.89</td>\n",
       "      <td>56.15</td>\n",
       "      <td>NaN</td>\n",
       "      <td>70.72</td>\n",
       "      <td>5.7238</td>\n",
       "      <td>NaN</td>\n",
       "    </tr>\n",
       "    <tr>\n",
       "      <th>...</th>\n",
       "      <td>...</td>\n",
       "      <td>...</td>\n",
       "      <td>...</td>\n",
       "      <td>...</td>\n",
       "      <td>...</td>\n",
       "      <td>...</td>\n",
       "      <td>...</td>\n",
       "      <td>...</td>\n",
       "      <td>...</td>\n",
       "      <td>...</td>\n",
       "      <td>...</td>\n",
       "      <td>...</td>\n",
       "      <td>...</td>\n",
       "      <td>...</td>\n",
       "      <td>...</td>\n",
       "      <td>...</td>\n",
       "      <td>...</td>\n",
       "      <td>...</td>\n",
       "      <td>...</td>\n",
       "      <td>...</td>\n",
       "      <td>...</td>\n",
       "    </tr>\n",
       "    <tr>\n",
       "      <th>2005-05-31</th>\n",
       "      <td>NaN</td>\n",
       "      <td>NaN</td>\n",
       "      <td>NaN</td>\n",
       "      <td>NaN</td>\n",
       "      <td>52.50</td>\n",
       "      <td>53.78</td>\n",
       "      <td>NaN</td>\n",
       "      <td>38.09</td>\n",
       "      <td>NaN</td>\n",
       "      <td>6.04</td>\n",
       "      <td>...</td>\n",
       "      <td>NaN</td>\n",
       "      <td>45.41</td>\n",
       "      <td>21.99</td>\n",
       "      <td>10.84</td>\n",
       "      <td>48.58</td>\n",
       "      <td>45.18</td>\n",
       "      <td>NaN</td>\n",
       "      <td>71.83</td>\n",
       "      <td>3.9188</td>\n",
       "      <td>NaN</td>\n",
       "    </tr>\n",
       "    <tr>\n",
       "      <th>2005-06-30</th>\n",
       "      <td>NaN</td>\n",
       "      <td>NaN</td>\n",
       "      <td>NaN</td>\n",
       "      <td>NaN</td>\n",
       "      <td>53.27</td>\n",
       "      <td>55.92</td>\n",
       "      <td>NaN</td>\n",
       "      <td>39.58</td>\n",
       "      <td>NaN</td>\n",
       "      <td>6.48</td>\n",
       "      <td>...</td>\n",
       "      <td>NaN</td>\n",
       "      <td>43.70</td>\n",
       "      <td>20.90</td>\n",
       "      <td>11.42</td>\n",
       "      <td>52.14</td>\n",
       "      <td>47.49</td>\n",
       "      <td>NaN</td>\n",
       "      <td>75.55</td>\n",
       "      <td>4.3375</td>\n",
       "      <td>NaN</td>\n",
       "    </tr>\n",
       "    <tr>\n",
       "      <th>2005-07-29</th>\n",
       "      <td>NaN</td>\n",
       "      <td>NaN</td>\n",
       "      <td>NaN</td>\n",
       "      <td>NaN</td>\n",
       "      <td>51.34</td>\n",
       "      <td>58.01</td>\n",
       "      <td>NaN</td>\n",
       "      <td>45.45</td>\n",
       "      <td>NaN</td>\n",
       "      <td>6.82</td>\n",
       "      <td>...</td>\n",
       "      <td>NaN</td>\n",
       "      <td>51.70</td>\n",
       "      <td>24.10</td>\n",
       "      <td>12.29</td>\n",
       "      <td>52.30</td>\n",
       "      <td>52.10</td>\n",
       "      <td>NaN</td>\n",
       "      <td>77.94</td>\n",
       "      <td>5.0650</td>\n",
       "      <td>NaN</td>\n",
       "    </tr>\n",
       "    <tr>\n",
       "      <th>2005-08-31</th>\n",
       "      <td>NaN</td>\n",
       "      <td>NaN</td>\n",
       "      <td>NaN</td>\n",
       "      <td>NaN</td>\n",
       "      <td>49.98</td>\n",
       "      <td>61.40</td>\n",
       "      <td>NaN</td>\n",
       "      <td>42.26</td>\n",
       "      <td>NaN</td>\n",
       "      <td>6.88</td>\n",
       "      <td>...</td>\n",
       "      <td>NaN</td>\n",
       "      <td>50.76</td>\n",
       "      <td>24.90</td>\n",
       "      <td>12.63</td>\n",
       "      <td>51.50</td>\n",
       "      <td>52.71</td>\n",
       "      <td>NaN</td>\n",
       "      <td>74.91</td>\n",
       "      <td>5.3988</td>\n",
       "      <td>NaN</td>\n",
       "    </tr>\n",
       "    <tr>\n",
       "      <th>2005-09-30</th>\n",
       "      <td>NaN</td>\n",
       "      <td>NaN</td>\n",
       "      <td>NaN</td>\n",
       "      <td>NaN</td>\n",
       "      <td>50.54</td>\n",
       "      <td>64.73</td>\n",
       "      <td>NaN</td>\n",
       "      <td>43.77</td>\n",
       "      <td>NaN</td>\n",
       "      <td>6.55</td>\n",
       "      <td>...</td>\n",
       "      <td>NaN</td>\n",
       "      <td>48.76</td>\n",
       "      <td>25.26</td>\n",
       "      <td>13.00</td>\n",
       "      <td>56.20</td>\n",
       "      <td>56.03</td>\n",
       "      <td>NaN</td>\n",
       "      <td>74.32</td>\n",
       "      <td>6.3138</td>\n",
       "      <td>NaN</td>\n",
       "    </tr>\n",
       "  </tbody>\n",
       "</table>\n",
       "<p>302 rows × 1007 columns</p>\n",
       "</div>"
      ],
      "text/plain": [
       "            LIN UW Equity  CDNS UW Equity  HLI UN Equity  ADT UN Equity  \\\n",
       "2023-11-30         413.77          273.27         107.72           5.87   \n",
       "2023-12-29         410.71          272.37         119.91           6.82   \n",
       "2024-01-31         404.83          288.46         119.78           6.53   \n",
       "2024-02-29         448.82          304.38         128.66           7.26   \n",
       "2005-10-31            NaN           15.98            NaN            NaN   \n",
       "...                   ...             ...            ...            ...   \n",
       "2005-05-31            NaN             NaN            NaN            NaN   \n",
       "2005-06-30            NaN             NaN            NaN            NaN   \n",
       "2005-07-29            NaN             NaN            NaN            NaN   \n",
       "2005-08-31            NaN             NaN            NaN            NaN   \n",
       "2005-09-30            NaN             NaN            NaN            NaN   \n",
       "\n",
       "            DGX UN Equity  CVX UN Equity  HII UN Equity  MGM UN Equity  \\\n",
       "2023-11-30         137.23         143.60         237.02          39.44   \n",
       "2023-12-29         137.88         149.16         259.64          44.68   \n",
       "2024-01-31         128.43         147.43         258.92          43.37   \n",
       "2024-02-29         124.89         152.01         291.62          43.28   \n",
       "2005-10-31          46.71          57.07            NaN          37.37   \n",
       "...                   ...            ...            ...            ...   \n",
       "2005-05-31          52.50          53.78            NaN          38.09   \n",
       "2005-06-30          53.27          55.92            NaN          39.58   \n",
       "2005-07-29          51.34          58.01            NaN          45.45   \n",
       "2005-08-31          49.98          61.40            NaN          42.26   \n",
       "2005-09-30          50.54          64.73            NaN          43.77   \n",
       "\n",
       "            HWM UN Equity  SIRI UW Equity  ...  PCOR UN Equity  \\\n",
       "2023-11-30          52.60            4.68  ...           59.09   \n",
       "2023-12-29          54.12            5.47  ...           69.22   \n",
       "2024-01-31          56.26            5.09  ...           71.39   \n",
       "2024-02-29          66.55            4.42  ...           78.03   \n",
       "2005-10-31            NaN            6.24  ...             NaN   \n",
       "...                   ...             ...  ...             ...   \n",
       "2005-05-31            NaN            6.04  ...             NaN   \n",
       "2005-06-30            NaN            6.48  ...             NaN   \n",
       "2005-07-29            NaN            6.82  ...             NaN   \n",
       "2005-08-31            NaN            6.88  ...             NaN   \n",
       "2005-09-30            NaN            6.55  ...             NaN   \n",
       "\n",
       "            KLAC UW Equity  FCN UN Equity  TKO UN Equity  UNH UN Equity  \\\n",
       "2023-11-30          544.62         220.46          77.33         552.97   \n",
       "2023-12-29          581.30         199.15          81.58         526.47   \n",
       "2024-01-31          594.04         191.61          83.69         511.74   \n",
       "2024-02-29          682.30         206.88          83.73         493.60   \n",
       "2005-10-31           46.29          27.37          12.75          57.89   \n",
       "...                    ...            ...            ...            ...   \n",
       "2005-05-31           45.41          21.99          10.84          48.58   \n",
       "2005-06-30           43.70          20.90          11.42          52.14   \n",
       "2005-07-29           51.70          24.10          12.29          52.30   \n",
       "2005-08-31           50.76          24.90          12.63          51.50   \n",
       "2005-09-30           48.76          25.26          13.00          56.20   \n",
       "\n",
       "            KRC UN Equity  ALLY UN Equity  ETR UN Equity  CTRA UN Equity  \\\n",
       "2023-11-30          32.98           29.22         101.41         26.2500   \n",
       "2023-12-29          39.84           34.92         101.19         25.5200   \n",
       "2024-01-31          35.76           36.68          99.76         24.8800   \n",
       "2024-02-29          37.89           36.99         101.57         25.7800   \n",
       "2005-10-31          56.15             NaN          70.72          5.7238   \n",
       "...                   ...             ...            ...             ...   \n",
       "2005-05-31          45.18             NaN          71.83          3.9188   \n",
       "2005-06-30          47.49             NaN          75.55          4.3375   \n",
       "2005-07-29          52.10             NaN          77.94          5.0650   \n",
       "2005-08-31          52.71             NaN          74.91          5.3988   \n",
       "2005-09-30          56.03             NaN          74.32          6.3138   \n",
       "\n",
       "            MDB UQ Equity  \n",
       "2023-11-30         415.74  \n",
       "2023-12-29         408.85  \n",
       "2024-01-31         400.52  \n",
       "2024-02-29         447.58  \n",
       "2005-10-31            NaN  \n",
       "...                   ...  \n",
       "2005-05-31            NaN  \n",
       "2005-06-30            NaN  \n",
       "2005-07-29            NaN  \n",
       "2005-08-31            NaN  \n",
       "2005-09-30            NaN  \n",
       "\n",
       "[302 rows x 1007 columns]"
      ]
     },
     "execution_count": 15,
     "metadata": {},
     "output_type": "execute_result"
    }
   ],
   "source": [
    "test_bdh[\"PX_LAST\"]"
   ]
  },
  {
   "cell_type": "code",
   "execution_count": 16,
   "id": "949b7e18",
   "metadata": {},
   "outputs": [
    {
     "data": {
      "text/html": [
       "<div>\n",
       "<style scoped>\n",
       "    .dataframe tbody tr th:only-of-type {\n",
       "        vertical-align: middle;\n",
       "    }\n",
       "\n",
       "    .dataframe tbody tr th {\n",
       "        vertical-align: top;\n",
       "    }\n",
       "\n",
       "    .dataframe thead th {\n",
       "        text-align: right;\n",
       "    }\n",
       "</style>\n",
       "<table border=\"1\" class=\"dataframe\">\n",
       "  <thead>\n",
       "    <tr style=\"text-align: right;\">\n",
       "      <th></th>\n",
       "      <th>LIN UW Equity</th>\n",
       "      <th>CDNS UW Equity</th>\n",
       "      <th>HLI UN Equity</th>\n",
       "      <th>ADT UN Equity</th>\n",
       "      <th>DGX UN Equity</th>\n",
       "      <th>CVX UN Equity</th>\n",
       "      <th>HII UN Equity</th>\n",
       "      <th>MGM UN Equity</th>\n",
       "      <th>HWM UN Equity</th>\n",
       "      <th>SIRI UW Equity</th>\n",
       "      <th>...</th>\n",
       "      <th>PCOR UN Equity</th>\n",
       "      <th>KLAC UW Equity</th>\n",
       "      <th>FCN UN Equity</th>\n",
       "      <th>TKO UN Equity</th>\n",
       "      <th>UNH UN Equity</th>\n",
       "      <th>KRC UN Equity</th>\n",
       "      <th>ALLY UN Equity</th>\n",
       "      <th>ETR UN Equity</th>\n",
       "      <th>CTRA UN Equity</th>\n",
       "      <th>MDB UQ Equity</th>\n",
       "    </tr>\n",
       "  </thead>\n",
       "  <tbody>\n",
       "    <tr>\n",
       "      <th>2023-11-30</th>\n",
       "      <td>10634426.0</td>\n",
       "      <td>11444536.0</td>\n",
       "      <td>1740233.0</td>\n",
       "      <td>15572365.0</td>\n",
       "      <td>6247773.0</td>\n",
       "      <td>50618304.0</td>\n",
       "      <td>2235657.0</td>\n",
       "      <td>30280213.0</td>\n",
       "      <td>15267236.0</td>\n",
       "      <td>69760439.0</td>\n",
       "      <td>...</td>\n",
       "      <td>8535250.0</td>\n",
       "      <td>9575219.0</td>\n",
       "      <td>1368595.0</td>\n",
       "      <td>8769793.0</td>\n",
       "      <td>17780663.0</td>\n",
       "      <td>6320300.0</td>\n",
       "      <td>23338592.0</td>\n",
       "      <td>11150782.0</td>\n",
       "      <td>36876840.0</td>\n",
       "      <td>7973622.0</td>\n",
       "    </tr>\n",
       "    <tr>\n",
       "      <th>2023-12-29</th>\n",
       "      <td>16291406.0</td>\n",
       "      <td>13025344.0</td>\n",
       "      <td>7450004.0</td>\n",
       "      <td>18998930.0</td>\n",
       "      <td>5853388.0</td>\n",
       "      <td>55108197.0</td>\n",
       "      <td>2168774.0</td>\n",
       "      <td>29914106.0</td>\n",
       "      <td>15916834.0</td>\n",
       "      <td>86206934.0</td>\n",
       "      <td>...</td>\n",
       "      <td>8014701.0</td>\n",
       "      <td>7619361.0</td>\n",
       "      <td>1744691.0</td>\n",
       "      <td>7725115.0</td>\n",
       "      <td>20911035.0</td>\n",
       "      <td>8825512.0</td>\n",
       "      <td>29642560.0</td>\n",
       "      <td>10311329.0</td>\n",
       "      <td>41475873.0</td>\n",
       "      <td>13485629.0</td>\n",
       "    </tr>\n",
       "    <tr>\n",
       "      <th>2024-01-31</th>\n",
       "      <td>12369008.0</td>\n",
       "      <td>12909159.0</td>\n",
       "      <td>2550704.0</td>\n",
       "      <td>16791385.0</td>\n",
       "      <td>7629315.0</td>\n",
       "      <td>57023477.0</td>\n",
       "      <td>1916737.0</td>\n",
       "      <td>26329179.0</td>\n",
       "      <td>18128018.0</td>\n",
       "      <td>74957179.0</td>\n",
       "      <td>...</td>\n",
       "      <td>5084480.0</td>\n",
       "      <td>9409124.0</td>\n",
       "      <td>1175350.0</td>\n",
       "      <td>8399896.0</td>\n",
       "      <td>23717951.0</td>\n",
       "      <td>7965310.0</td>\n",
       "      <td>29736046.0</td>\n",
       "      <td>8701065.0</td>\n",
       "      <td>36930641.0</td>\n",
       "      <td>7904699.0</td>\n",
       "    </tr>\n",
       "    <tr>\n",
       "      <th>2024-02-29</th>\n",
       "      <td>14602979.0</td>\n",
       "      <td>11828671.0</td>\n",
       "      <td>2143257.0</td>\n",
       "      <td>20260496.0</td>\n",
       "      <td>6931785.0</td>\n",
       "      <td>49586508.0</td>\n",
       "      <td>1792371.0</td>\n",
       "      <td>28175327.0</td>\n",
       "      <td>19529964.0</td>\n",
       "      <td>78360737.0</td>\n",
       "      <td>...</td>\n",
       "      <td>7422960.0</td>\n",
       "      <td>7786392.0</td>\n",
       "      <td>1210023.0</td>\n",
       "      <td>6757898.0</td>\n",
       "      <td>16546667.0</td>\n",
       "      <td>7638161.0</td>\n",
       "      <td>23433096.0</td>\n",
       "      <td>9461573.0</td>\n",
       "      <td>35302275.0</td>\n",
       "      <td>7484831.0</td>\n",
       "    </tr>\n",
       "    <tr>\n",
       "      <th>2005-10-31</th>\n",
       "      <td>NaN</td>\n",
       "      <td>4559107.0</td>\n",
       "      <td>NaN</td>\n",
       "      <td>NaN</td>\n",
       "      <td>21803400.0</td>\n",
       "      <td>183158300.0</td>\n",
       "      <td>NaN</td>\n",
       "      <td>42267200.0</td>\n",
       "      <td>NaN</td>\n",
       "      <td>419213747.0</td>\n",
       "      <td>...</td>\n",
       "      <td>NaN</td>\n",
       "      <td>42758544.0</td>\n",
       "      <td>7032700.0</td>\n",
       "      <td>1381700.0</td>\n",
       "      <td>88382400.0</td>\n",
       "      <td>3707900.0</td>\n",
       "      <td>NaN</td>\n",
       "      <td>23112200.0</td>\n",
       "      <td>101602400.0</td>\n",
       "      <td>NaN</td>\n",
       "    </tr>\n",
       "    <tr>\n",
       "      <th>...</th>\n",
       "      <td>...</td>\n",
       "      <td>...</td>\n",
       "      <td>...</td>\n",
       "      <td>...</td>\n",
       "      <td>...</td>\n",
       "      <td>...</td>\n",
       "      <td>...</td>\n",
       "      <td>...</td>\n",
       "      <td>...</td>\n",
       "      <td>...</td>\n",
       "      <td>...</td>\n",
       "      <td>...</td>\n",
       "      <td>...</td>\n",
       "      <td>...</td>\n",
       "      <td>...</td>\n",
       "      <td>...</td>\n",
       "      <td>...</td>\n",
       "      <td>...</td>\n",
       "      <td>...</td>\n",
       "      <td>...</td>\n",
       "      <td>...</td>\n",
       "    </tr>\n",
       "    <tr>\n",
       "      <th>2005-05-31</th>\n",
       "      <td>NaN</td>\n",
       "      <td>NaN</td>\n",
       "      <td>NaN</td>\n",
       "      <td>NaN</td>\n",
       "      <td>16992600.0</td>\n",
       "      <td>130787300.0</td>\n",
       "      <td>NaN</td>\n",
       "      <td>40378800.0</td>\n",
       "      <td>NaN</td>\n",
       "      <td>446969668.0</td>\n",
       "      <td>...</td>\n",
       "      <td>NaN</td>\n",
       "      <td>51787096.0</td>\n",
       "      <td>6858900.0</td>\n",
       "      <td>1525500.0</td>\n",
       "      <td>104344300.0</td>\n",
       "      <td>2703000.0</td>\n",
       "      <td>NaN</td>\n",
       "      <td>18491600.0</td>\n",
       "      <td>80196000.0</td>\n",
       "      <td>NaN</td>\n",
       "    </tr>\n",
       "    <tr>\n",
       "      <th>2005-06-30</th>\n",
       "      <td>NaN</td>\n",
       "      <td>NaN</td>\n",
       "      <td>NaN</td>\n",
       "      <td>NaN</td>\n",
       "      <td>14090100.0</td>\n",
       "      <td>128967200.0</td>\n",
       "      <td>NaN</td>\n",
       "      <td>38724900.0</td>\n",
       "      <td>NaN</td>\n",
       "      <td>448234563.0</td>\n",
       "      <td>...</td>\n",
       "      <td>NaN</td>\n",
       "      <td>47522123.0</td>\n",
       "      <td>6007400.0</td>\n",
       "      <td>1700100.0</td>\n",
       "      <td>80228700.0</td>\n",
       "      <td>3469600.0</td>\n",
       "      <td>NaN</td>\n",
       "      <td>15925700.0</td>\n",
       "      <td>65241600.0</td>\n",
       "      <td>NaN</td>\n",
       "    </tr>\n",
       "    <tr>\n",
       "      <th>2005-07-29</th>\n",
       "      <td>NaN</td>\n",
       "      <td>NaN</td>\n",
       "      <td>NaN</td>\n",
       "      <td>NaN</td>\n",
       "      <td>11837100.0</td>\n",
       "      <td>103155900.0</td>\n",
       "      <td>NaN</td>\n",
       "      <td>25194700.0</td>\n",
       "      <td>NaN</td>\n",
       "      <td>363596115.0</td>\n",
       "      <td>...</td>\n",
       "      <td>NaN</td>\n",
       "      <td>54084967.0</td>\n",
       "      <td>6233800.0</td>\n",
       "      <td>1546100.0</td>\n",
       "      <td>113367900.0</td>\n",
       "      <td>3222300.0</td>\n",
       "      <td>NaN</td>\n",
       "      <td>15903700.0</td>\n",
       "      <td>46893600.0</td>\n",
       "      <td>NaN</td>\n",
       "    </tr>\n",
       "    <tr>\n",
       "      <th>2005-08-31</th>\n",
       "      <td>NaN</td>\n",
       "      <td>NaN</td>\n",
       "      <td>NaN</td>\n",
       "      <td>NaN</td>\n",
       "      <td>23473500.0</td>\n",
       "      <td>158095100.0</td>\n",
       "      <td>NaN</td>\n",
       "      <td>32747800.0</td>\n",
       "      <td>NaN</td>\n",
       "      <td>310768509.0</td>\n",
       "      <td>...</td>\n",
       "      <td>NaN</td>\n",
       "      <td>41083096.0</td>\n",
       "      <td>7179900.0</td>\n",
       "      <td>1093000.0</td>\n",
       "      <td>65790100.0</td>\n",
       "      <td>3414900.0</td>\n",
       "      <td>NaN</td>\n",
       "      <td>20152100.0</td>\n",
       "      <td>53340800.0</td>\n",
       "      <td>NaN</td>\n",
       "    </tr>\n",
       "    <tr>\n",
       "      <th>2005-09-30</th>\n",
       "      <td>NaN</td>\n",
       "      <td>NaN</td>\n",
       "      <td>NaN</td>\n",
       "      <td>NaN</td>\n",
       "      <td>16552000.0</td>\n",
       "      <td>129886400.0</td>\n",
       "      <td>NaN</td>\n",
       "      <td>34892000.0</td>\n",
       "      <td>NaN</td>\n",
       "      <td>423850843.0</td>\n",
       "      <td>...</td>\n",
       "      <td>NaN</td>\n",
       "      <td>36673960.0</td>\n",
       "      <td>3876100.0</td>\n",
       "      <td>1736400.0</td>\n",
       "      <td>84076100.0</td>\n",
       "      <td>2495400.0</td>\n",
       "      <td>NaN</td>\n",
       "      <td>30741000.0</td>\n",
       "      <td>82524800.0</td>\n",
       "      <td>NaN</td>\n",
       "    </tr>\n",
       "  </tbody>\n",
       "</table>\n",
       "<p>302 rows × 1007 columns</p>\n",
       "</div>"
      ],
      "text/plain": [
       "            LIN UW Equity  CDNS UW Equity  HLI UN Equity  ADT UN Equity  \\\n",
       "2023-11-30     10634426.0      11444536.0      1740233.0     15572365.0   \n",
       "2023-12-29     16291406.0      13025344.0      7450004.0     18998930.0   \n",
       "2024-01-31     12369008.0      12909159.0      2550704.0     16791385.0   \n",
       "2024-02-29     14602979.0      11828671.0      2143257.0     20260496.0   \n",
       "2005-10-31            NaN       4559107.0            NaN            NaN   \n",
       "...                   ...             ...            ...            ...   \n",
       "2005-05-31            NaN             NaN            NaN            NaN   \n",
       "2005-06-30            NaN             NaN            NaN            NaN   \n",
       "2005-07-29            NaN             NaN            NaN            NaN   \n",
       "2005-08-31            NaN             NaN            NaN            NaN   \n",
       "2005-09-30            NaN             NaN            NaN            NaN   \n",
       "\n",
       "            DGX UN Equity  CVX UN Equity  HII UN Equity  MGM UN Equity  \\\n",
       "2023-11-30      6247773.0     50618304.0      2235657.0     30280213.0   \n",
       "2023-12-29      5853388.0     55108197.0      2168774.0     29914106.0   \n",
       "2024-01-31      7629315.0     57023477.0      1916737.0     26329179.0   \n",
       "2024-02-29      6931785.0     49586508.0      1792371.0     28175327.0   \n",
       "2005-10-31     21803400.0    183158300.0            NaN     42267200.0   \n",
       "...                   ...            ...            ...            ...   \n",
       "2005-05-31     16992600.0    130787300.0            NaN     40378800.0   \n",
       "2005-06-30     14090100.0    128967200.0            NaN     38724900.0   \n",
       "2005-07-29     11837100.0    103155900.0            NaN     25194700.0   \n",
       "2005-08-31     23473500.0    158095100.0            NaN     32747800.0   \n",
       "2005-09-30     16552000.0    129886400.0            NaN     34892000.0   \n",
       "\n",
       "            HWM UN Equity  SIRI UW Equity  ...  PCOR UN Equity  \\\n",
       "2023-11-30     15267236.0      69760439.0  ...       8535250.0   \n",
       "2023-12-29     15916834.0      86206934.0  ...       8014701.0   \n",
       "2024-01-31     18128018.0      74957179.0  ...       5084480.0   \n",
       "2024-02-29     19529964.0      78360737.0  ...       7422960.0   \n",
       "2005-10-31            NaN     419213747.0  ...             NaN   \n",
       "...                   ...             ...  ...             ...   \n",
       "2005-05-31            NaN     446969668.0  ...             NaN   \n",
       "2005-06-30            NaN     448234563.0  ...             NaN   \n",
       "2005-07-29            NaN     363596115.0  ...             NaN   \n",
       "2005-08-31            NaN     310768509.0  ...             NaN   \n",
       "2005-09-30            NaN     423850843.0  ...             NaN   \n",
       "\n",
       "            KLAC UW Equity  FCN UN Equity  TKO UN Equity  UNH UN Equity  \\\n",
       "2023-11-30       9575219.0      1368595.0      8769793.0     17780663.0   \n",
       "2023-12-29       7619361.0      1744691.0      7725115.0     20911035.0   \n",
       "2024-01-31       9409124.0      1175350.0      8399896.0     23717951.0   \n",
       "2024-02-29       7786392.0      1210023.0      6757898.0     16546667.0   \n",
       "2005-10-31      42758544.0      7032700.0      1381700.0     88382400.0   \n",
       "...                    ...            ...            ...            ...   \n",
       "2005-05-31      51787096.0      6858900.0      1525500.0    104344300.0   \n",
       "2005-06-30      47522123.0      6007400.0      1700100.0     80228700.0   \n",
       "2005-07-29      54084967.0      6233800.0      1546100.0    113367900.0   \n",
       "2005-08-31      41083096.0      7179900.0      1093000.0     65790100.0   \n",
       "2005-09-30      36673960.0      3876100.0      1736400.0     84076100.0   \n",
       "\n",
       "            KRC UN Equity  ALLY UN Equity  ETR UN Equity  CTRA UN Equity  \\\n",
       "2023-11-30      6320300.0      23338592.0     11150782.0      36876840.0   \n",
       "2023-12-29      8825512.0      29642560.0     10311329.0      41475873.0   \n",
       "2024-01-31      7965310.0      29736046.0      8701065.0      36930641.0   \n",
       "2024-02-29      7638161.0      23433096.0      9461573.0      35302275.0   \n",
       "2005-10-31      3707900.0             NaN     23112200.0     101602400.0   \n",
       "...                   ...             ...            ...             ...   \n",
       "2005-05-31      2703000.0             NaN     18491600.0      80196000.0   \n",
       "2005-06-30      3469600.0             NaN     15925700.0      65241600.0   \n",
       "2005-07-29      3222300.0             NaN     15903700.0      46893600.0   \n",
       "2005-08-31      3414900.0             NaN     20152100.0      53340800.0   \n",
       "2005-09-30      2495400.0             NaN     30741000.0      82524800.0   \n",
       "\n",
       "            MDB UQ Equity  \n",
       "2023-11-30      7973622.0  \n",
       "2023-12-29     13485629.0  \n",
       "2024-01-31      7904699.0  \n",
       "2024-02-29      7484831.0  \n",
       "2005-10-31            NaN  \n",
       "...                   ...  \n",
       "2005-05-31            NaN  \n",
       "2005-06-30            NaN  \n",
       "2005-07-29            NaN  \n",
       "2005-08-31            NaN  \n",
       "2005-09-30            NaN  \n",
       "\n",
       "[302 rows x 1007 columns]"
      ]
     },
     "execution_count": 16,
     "metadata": {},
     "output_type": "execute_result"
    }
   ],
   "source": [
    "test_bdh[\"PX_VOLUME\"]"
   ]
  },
  {
   "cell_type": "code",
   "execution_count": 17,
   "id": "e2f71686",
   "metadata": {},
   "outputs": [],
   "source": [
    "file_name_px_last = \"Bloomberg_data_pxlast.xlsx\"\n",
    "test_bdh[\"PX_LAST\"].to_excel(file_name_px_last, index=True)"
   ]
  },
  {
   "cell_type": "code",
   "execution_count": 18,
   "id": "0d033c3d",
   "metadata": {},
   "outputs": [],
   "source": [
    "file_name_px_volume = \"Bloomberg_data_pxvolume.xlsx\"\n",
    "test_bdh[\"PX_VOLUME\"].to_excel(file_name_px_volume, index=True)"
   ]
  },
  {
   "cell_type": "markdown",
   "id": "589c1147",
   "metadata": {},
   "source": [
    "#### Récupération des compo (bds): "
   ]
  },
  {
   "cell_type": "code",
   "execution_count": 140,
   "id": "0adaac9f",
   "metadata": {},
   "outputs": [
    {
     "name": "stdout",
     "output_type": "stream",
     "text": [
      "Sending request\n"
     ]
    }
   ],
   "source": [
    "strFields = [\"INDX_MEMBERS\"] \n",
    "tickers = [\"RIY Index\"] # RUSSEL \n",
    "date = datetime(2024,2,28) # datetime(1999,1,28)\n",
    "test_bds = blp.bds(strSecurity = tickers, strFields = strFields, snapshot_date = date) #, curr = \"USD\" "
   ]
  },
  {
   "cell_type": "code",
   "execution_count": 141,
   "id": "86206a5a",
   "metadata": {},
   "outputs": [
    {
     "data": {
      "text/html": [
       "<div>\n",
       "<style scoped>\n",
       "    .dataframe tbody tr th:only-of-type {\n",
       "        vertical-align: middle;\n",
       "    }\n",
       "\n",
       "    .dataframe tbody tr th {\n",
       "        vertical-align: top;\n",
       "    }\n",
       "\n",
       "    .dataframe thead th {\n",
       "        text-align: right;\n",
       "    }\n",
       "</style>\n",
       "<table border=\"1\" class=\"dataframe\">\n",
       "  <thead>\n",
       "    <tr style=\"text-align: right;\">\n",
       "      <th></th>\n",
       "      <th>2024-02-28</th>\n",
       "    </tr>\n",
       "  </thead>\n",
       "  <tbody>\n",
       "    <tr>\n",
       "      <th>0</th>\n",
       "      <td>A UN</td>\n",
       "    </tr>\n",
       "    <tr>\n",
       "      <th>1</th>\n",
       "      <td>AA UN</td>\n",
       "    </tr>\n",
       "    <tr>\n",
       "      <th>2</th>\n",
       "      <td>AAL UW</td>\n",
       "    </tr>\n",
       "    <tr>\n",
       "      <th>3</th>\n",
       "      <td>AAP UN</td>\n",
       "    </tr>\n",
       "    <tr>\n",
       "      <th>4</th>\n",
       "      <td>AAPL UW</td>\n",
       "    </tr>\n",
       "    <tr>\n",
       "      <th>...</th>\n",
       "      <td>...</td>\n",
       "    </tr>\n",
       "    <tr>\n",
       "      <th>1002</th>\n",
       "      <td>ZI UW</td>\n",
       "    </tr>\n",
       "    <tr>\n",
       "      <th>1003</th>\n",
       "      <td>ZION UW</td>\n",
       "    </tr>\n",
       "    <tr>\n",
       "      <th>1004</th>\n",
       "      <td>ZM UW</td>\n",
       "    </tr>\n",
       "    <tr>\n",
       "      <th>1005</th>\n",
       "      <td>ZS UW</td>\n",
       "    </tr>\n",
       "    <tr>\n",
       "      <th>1006</th>\n",
       "      <td>ZTS UN</td>\n",
       "    </tr>\n",
       "  </tbody>\n",
       "</table>\n",
       "<p>1007 rows × 1 columns</p>\n",
       "</div>"
      ],
      "text/plain": [
       "     2024-02-28\n",
       "0          A UN\n",
       "1         AA UN\n",
       "2        AAL UW\n",
       "3        AAP UN\n",
       "4       AAPL UW\n",
       "...         ...\n",
       "1002      ZI UW\n",
       "1003    ZION UW\n",
       "1004      ZM UW\n",
       "1005      ZS UW\n",
       "1006     ZTS UN\n",
       "\n",
       "[1007 rows x 1 columns]"
      ]
     },
     "execution_count": 141,
     "metadata": {},
     "output_type": "execute_result"
    }
   ],
   "source": [
    "test_bds[\"RIY Index\"]"
   ]
  },
  {
   "cell_type": "markdown",
   "id": "07807467",
   "metadata": {},
   "source": [
    "_____"
   ]
  },
  {
   "cell_type": "markdown",
   "id": "0389e715",
   "metadata": {},
   "source": [
    "### Récupération des fields (bdh): "
   ]
  },
  {
   "cell_type": "code",
   "execution_count": 46,
   "id": "33a4e9e6",
   "metadata": {},
   "outputs": [
    {
     "name": "stdout",
     "output_type": "stream",
     "text": [
      "Sending request\n"
     ]
    }
   ],
   "source": [
    "# test bdh :\n",
    "tickers = [\"RIY Index\", \"SPX Index\"]  \n",
    "strFields = [\"PX_LAST\", \"PX_VOLUME\"]  \n",
    "start_date = datetime(2023, 1, 15)\n",
    "end_date = datetime.now()\n",
    "test_bdh = blp.bdh(strSecurity=tickers, strFields = strFields, startdate = start_date, enddate = end_date, per='MONTHLY', curr = \"USD\")"
   ]
  },
  {
   "cell_type": "code",
   "execution_count": 47,
   "id": "798e8ace",
   "metadata": {},
   "outputs": [
    {
     "data": {
      "text/plain": [
       "{'PX_LAST':             RIY Index  SPX Index\n",
       " 2023-01-31   2244.911    4076.60\n",
       " 2023-02-28   2187.749    3970.15\n",
       " 2023-03-31   2253.360    4109.31\n",
       " 2023-04-28   2279.165    4169.48\n",
       " 2023-05-31   2285.653    4179.83\n",
       " 2023-06-30   2436.931    4450.38\n",
       " 2023-07-31   2518.419    4588.96\n",
       " 2023-08-31   2470.022    4507.66\n",
       " 2023-09-29   2351.354    4288.05\n",
       " 2023-10-31   2292.376    4193.80\n",
       " 2023-11-30   2501.694    4567.80\n",
       " 2023-12-29   2622.137    4769.83\n",
       " 2024-01-31   2656.435    4845.65\n",
       " 2024-02-29   2795.562    5096.27,\n",
       " 'PX_VOLUME':                RIY Index     SPX Index\n",
       " 2023-01-31  1.892650e+10  1.308153e+10\n",
       " 2023-02-28  1.900401e+10  1.268223e+10\n",
       " 2023-03-31  2.733212e+10  1.852806e+10\n",
       " 2023-04-28  1.707781e+10  1.171662e+10\n",
       " 2023-05-31  2.283254e+10  1.501074e+10\n",
       " 2023-06-30  2.413140e+10  1.560186e+10\n",
       " 2023-07-31  1.923517e+10  1.291653e+10\n",
       " 2023-08-31  2.022766e+10  1.312539e+10\n",
       " 2023-09-29  2.034327e+10  1.350291e+10\n",
       " 2023-10-31  2.126546e+10  1.449556e+10\n",
       " 2023-11-30  2.103750e+10  1.379528e+10\n",
       " 2023-12-29  2.225249e+10  1.476342e+10\n",
       " 2024-01-31  2.124354e+10  1.444394e+10\n",
       " 2024-02-29  2.108077e+10  1.378008e+10}"
      ]
     },
     "execution_count": 47,
     "metadata": {},
     "output_type": "execute_result"
    }
   ],
   "source": [
    "test_bdh"
   ]
  },
  {
   "cell_type": "code",
   "execution_count": 48,
   "id": "761f8562",
   "metadata": {},
   "outputs": [
    {
     "data": {
      "text/html": [
       "<div>\n",
       "<style scoped>\n",
       "    .dataframe tbody tr th:only-of-type {\n",
       "        vertical-align: middle;\n",
       "    }\n",
       "\n",
       "    .dataframe tbody tr th {\n",
       "        vertical-align: top;\n",
       "    }\n",
       "\n",
       "    .dataframe thead th {\n",
       "        text-align: right;\n",
       "    }\n",
       "</style>\n",
       "<table border=\"1\" class=\"dataframe\">\n",
       "  <thead>\n",
       "    <tr style=\"text-align: right;\">\n",
       "      <th></th>\n",
       "      <th>RIY Index</th>\n",
       "      <th>SPX Index</th>\n",
       "    </tr>\n",
       "  </thead>\n",
       "  <tbody>\n",
       "    <tr>\n",
       "      <th>2023-01-31</th>\n",
       "      <td>2244.911</td>\n",
       "      <td>4076.60</td>\n",
       "    </tr>\n",
       "    <tr>\n",
       "      <th>2023-02-28</th>\n",
       "      <td>2187.749</td>\n",
       "      <td>3970.15</td>\n",
       "    </tr>\n",
       "    <tr>\n",
       "      <th>2023-03-31</th>\n",
       "      <td>2253.360</td>\n",
       "      <td>4109.31</td>\n",
       "    </tr>\n",
       "    <tr>\n",
       "      <th>2023-04-28</th>\n",
       "      <td>2279.165</td>\n",
       "      <td>4169.48</td>\n",
       "    </tr>\n",
       "    <tr>\n",
       "      <th>2023-05-31</th>\n",
       "      <td>2285.653</td>\n",
       "      <td>4179.83</td>\n",
       "    </tr>\n",
       "    <tr>\n",
       "      <th>2023-06-30</th>\n",
       "      <td>2436.931</td>\n",
       "      <td>4450.38</td>\n",
       "    </tr>\n",
       "    <tr>\n",
       "      <th>2023-07-31</th>\n",
       "      <td>2518.419</td>\n",
       "      <td>4588.96</td>\n",
       "    </tr>\n",
       "    <tr>\n",
       "      <th>2023-08-31</th>\n",
       "      <td>2470.022</td>\n",
       "      <td>4507.66</td>\n",
       "    </tr>\n",
       "    <tr>\n",
       "      <th>2023-09-29</th>\n",
       "      <td>2351.354</td>\n",
       "      <td>4288.05</td>\n",
       "    </tr>\n",
       "    <tr>\n",
       "      <th>2023-10-31</th>\n",
       "      <td>2292.376</td>\n",
       "      <td>4193.80</td>\n",
       "    </tr>\n",
       "    <tr>\n",
       "      <th>2023-11-30</th>\n",
       "      <td>2501.694</td>\n",
       "      <td>4567.80</td>\n",
       "    </tr>\n",
       "    <tr>\n",
       "      <th>2023-12-29</th>\n",
       "      <td>2622.137</td>\n",
       "      <td>4769.83</td>\n",
       "    </tr>\n",
       "    <tr>\n",
       "      <th>2024-01-31</th>\n",
       "      <td>2656.435</td>\n",
       "      <td>4845.65</td>\n",
       "    </tr>\n",
       "    <tr>\n",
       "      <th>2024-02-29</th>\n",
       "      <td>2795.562</td>\n",
       "      <td>5096.27</td>\n",
       "    </tr>\n",
       "  </tbody>\n",
       "</table>\n",
       "</div>"
      ],
      "text/plain": [
       "            RIY Index  SPX Index\n",
       "2023-01-31   2244.911    4076.60\n",
       "2023-02-28   2187.749    3970.15\n",
       "2023-03-31   2253.360    4109.31\n",
       "2023-04-28   2279.165    4169.48\n",
       "2023-05-31   2285.653    4179.83\n",
       "2023-06-30   2436.931    4450.38\n",
       "2023-07-31   2518.419    4588.96\n",
       "2023-08-31   2470.022    4507.66\n",
       "2023-09-29   2351.354    4288.05\n",
       "2023-10-31   2292.376    4193.80\n",
       "2023-11-30   2501.694    4567.80\n",
       "2023-12-29   2622.137    4769.83\n",
       "2024-01-31   2656.435    4845.65\n",
       "2024-02-29   2795.562    5096.27"
      ]
     },
     "execution_count": 48,
     "metadata": {},
     "output_type": "execute_result"
    }
   ],
   "source": [
    "test_bdh[\"PX_LAST\"]"
   ]
  },
  {
   "cell_type": "code",
   "execution_count": 52,
   "id": "95b35b6c",
   "metadata": {},
   "outputs": [
    {
     "data": {
      "text/html": [
       "<div>\n",
       "<style scoped>\n",
       "    .dataframe tbody tr th:only-of-type {\n",
       "        vertical-align: middle;\n",
       "    }\n",
       "\n",
       "    .dataframe tbody tr th {\n",
       "        vertical-align: top;\n",
       "    }\n",
       "\n",
       "    .dataframe thead th {\n",
       "        text-align: right;\n",
       "    }\n",
       "</style>\n",
       "<table border=\"1\" class=\"dataframe\">\n",
       "  <thead>\n",
       "    <tr style=\"text-align: right;\">\n",
       "      <th></th>\n",
       "      <th>RIY Index</th>\n",
       "      <th>SPX Index</th>\n",
       "    </tr>\n",
       "  </thead>\n",
       "  <tbody>\n",
       "    <tr>\n",
       "      <th>2023-01-31</th>\n",
       "      <td>1.892650e+10</td>\n",
       "      <td>1.308153e+10</td>\n",
       "    </tr>\n",
       "    <tr>\n",
       "      <th>2023-02-28</th>\n",
       "      <td>1.900401e+10</td>\n",
       "      <td>1.268223e+10</td>\n",
       "    </tr>\n",
       "    <tr>\n",
       "      <th>2023-03-31</th>\n",
       "      <td>2.733212e+10</td>\n",
       "      <td>1.852806e+10</td>\n",
       "    </tr>\n",
       "    <tr>\n",
       "      <th>2023-04-28</th>\n",
       "      <td>1.707781e+10</td>\n",
       "      <td>1.171662e+10</td>\n",
       "    </tr>\n",
       "    <tr>\n",
       "      <th>2023-05-31</th>\n",
       "      <td>2.283254e+10</td>\n",
       "      <td>1.501074e+10</td>\n",
       "    </tr>\n",
       "    <tr>\n",
       "      <th>2023-06-30</th>\n",
       "      <td>2.413140e+10</td>\n",
       "      <td>1.560186e+10</td>\n",
       "    </tr>\n",
       "    <tr>\n",
       "      <th>2023-07-31</th>\n",
       "      <td>1.923517e+10</td>\n",
       "      <td>1.291653e+10</td>\n",
       "    </tr>\n",
       "    <tr>\n",
       "      <th>2023-08-31</th>\n",
       "      <td>2.022766e+10</td>\n",
       "      <td>1.312539e+10</td>\n",
       "    </tr>\n",
       "    <tr>\n",
       "      <th>2023-09-29</th>\n",
       "      <td>2.034327e+10</td>\n",
       "      <td>1.350291e+10</td>\n",
       "    </tr>\n",
       "    <tr>\n",
       "      <th>2023-10-31</th>\n",
       "      <td>2.126546e+10</td>\n",
       "      <td>1.449556e+10</td>\n",
       "    </tr>\n",
       "    <tr>\n",
       "      <th>2023-11-30</th>\n",
       "      <td>2.103750e+10</td>\n",
       "      <td>1.379528e+10</td>\n",
       "    </tr>\n",
       "    <tr>\n",
       "      <th>2023-12-29</th>\n",
       "      <td>2.225249e+10</td>\n",
       "      <td>1.476342e+10</td>\n",
       "    </tr>\n",
       "    <tr>\n",
       "      <th>2024-01-31</th>\n",
       "      <td>2.124354e+10</td>\n",
       "      <td>1.444394e+10</td>\n",
       "    </tr>\n",
       "    <tr>\n",
       "      <th>2024-02-29</th>\n",
       "      <td>2.108077e+10</td>\n",
       "      <td>1.378008e+10</td>\n",
       "    </tr>\n",
       "  </tbody>\n",
       "</table>\n",
       "</div>"
      ],
      "text/plain": [
       "               RIY Index     SPX Index\n",
       "2023-01-31  1.892650e+10  1.308153e+10\n",
       "2023-02-28  1.900401e+10  1.268223e+10\n",
       "2023-03-31  2.733212e+10  1.852806e+10\n",
       "2023-04-28  1.707781e+10  1.171662e+10\n",
       "2023-05-31  2.283254e+10  1.501074e+10\n",
       "2023-06-30  2.413140e+10  1.560186e+10\n",
       "2023-07-31  1.923517e+10  1.291653e+10\n",
       "2023-08-31  2.022766e+10  1.312539e+10\n",
       "2023-09-29  2.034327e+10  1.350291e+10\n",
       "2023-10-31  2.126546e+10  1.449556e+10\n",
       "2023-11-30  2.103750e+10  1.379528e+10\n",
       "2023-12-29  2.225249e+10  1.476342e+10\n",
       "2024-01-31  2.124354e+10  1.444394e+10\n",
       "2024-02-29  2.108077e+10  1.378008e+10"
      ]
     },
     "execution_count": 52,
     "metadata": {},
     "output_type": "execute_result"
    }
   ],
   "source": [
    "test_bdh[\"PX_VOLUME\"]"
   ]
  },
  {
   "cell_type": "markdown",
   "id": "0761fc80",
   "metadata": {},
   "source": [
    "____"
   ]
  },
  {
   "cell_type": "markdown",
   "id": "9751fd6b",
   "metadata": {},
   "source": [
    "#### Test bdp :"
   ]
  },
  {
   "cell_type": "code",
   "execution_count": 50,
   "id": "c693cdff",
   "metadata": {},
   "outputs": [
    {
     "name": "stdout",
     "output_type": "stream",
     "text": [
      "Sending request\n"
     ]
    }
   ],
   "source": [
    "strFields = [\"PX_LAST\", \"PX_VOLUME\"]\n",
    "tickers = [\"RIY Index\", \"SPX Index\"]\n",
    "date = '20240301'\n",
    "test_bdp = blp.bdp(strSecurity=tickers, strFields = strFields, strOverrideField = \"AMOUNT_OUTSTANDING_AS_OF_DT\", strOverrideValue = date )"
   ]
  },
  {
   "cell_type": "code",
   "execution_count": 51,
   "id": "271f3ab3",
   "metadata": {},
   "outputs": [
    {
     "data": {
      "text/html": [
       "<div>\n",
       "<style scoped>\n",
       "    .dataframe tbody tr th:only-of-type {\n",
       "        vertical-align: middle;\n",
       "    }\n",
       "\n",
       "    .dataframe tbody tr th {\n",
       "        vertical-align: top;\n",
       "    }\n",
       "\n",
       "    .dataframe thead th {\n",
       "        text-align: right;\n",
       "    }\n",
       "</style>\n",
       "<table border=\"1\" class=\"dataframe\">\n",
       "  <thead>\n",
       "    <tr style=\"text-align: right;\">\n",
       "      <th></th>\n",
       "      <th>PX_LAST</th>\n",
       "      <th>PX_VOLUME</th>\n",
       "    </tr>\n",
       "  </thead>\n",
       "  <tbody>\n",
       "    <tr>\n",
       "      <th>RIY Index</th>\n",
       "      <td>2804.119</td>\n",
       "      <td>3.736162e+09</td>\n",
       "    </tr>\n",
       "    <tr>\n",
       "      <th>SPX Index</th>\n",
       "      <td>5117.090</td>\n",
       "      <td>2.699788e+09</td>\n",
       "    </tr>\n",
       "  </tbody>\n",
       "</table>\n",
       "</div>"
      ],
      "text/plain": [
       "            PX_LAST     PX_VOLUME\n",
       "RIY Index  2804.119  3.736162e+09\n",
       "SPX Index  5117.090  2.699788e+09"
      ]
     },
     "execution_count": 51,
     "metadata": {},
     "output_type": "execute_result"
    }
   ],
   "source": [
    "test_bdp"
   ]
  },
  {
   "cell_type": "code",
   "execution_count": 155,
   "id": "024c1bbf",
   "metadata": {},
   "outputs": [
    {
     "name": "stdout",
     "output_type": "stream",
     "text": [
      "Session closed\n"
     ]
    }
   ],
   "source": [
    "blp.closeSession()"
   ]
  }
 ],
 "metadata": {
  "kernelspec": {
   "display_name": "Python 3 (ipykernel)",
   "language": "python",
   "name": "python3"
  },
  "language_info": {
   "codemirror_mode": {
    "name": "ipython",
    "version": 3
   },
   "file_extension": ".py",
   "mimetype": "text/x-python",
   "name": "python",
   "nbconvert_exporter": "python",
   "pygments_lexer": "ipython3",
   "version": "3.10.9"
  }
 },
 "nbformat": 4,
 "nbformat_minor": 5
}
