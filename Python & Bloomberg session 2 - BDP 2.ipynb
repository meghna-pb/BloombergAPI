{
 "cells": [
  {
   "cell_type": "markdown",
   "metadata": {},
   "source": [
    "# Preambule\n",
    "#### Goal\n",
    "The goal of this session is to get familiar with the Bloomberg Python API.<br> \n",
    "This will be done by building a class containing a function which mimicks the behavior of the BDP Excel function.\n",
    "\n",
    "#### What the function will do\n",
    "Our BDP-like function should be able to : <br>\n",
    "1 - Retrieve reference data <br>\n",
    "2 - For as many tickers as possible <br>\n",
    "3 - For as many fields as possible <br>\n",
    "4 - And allow for the possibility to add overrides <br>\n",
    "\n",
    "#### References \n",
    "https://data.bloomberglp.com/professional/sites/10/2017/03/BLPAPI-Core-Developer-Guide.pdf"
   ]
  },
  {
   "cell_type": "markdown",
   "metadata": {},
   "source": [
    "# I. Dependencies\n",
    "These are the libraries we will be using in this notebook. blpapi is the library used for Bloomberg data."
   ]
  },
  {
   "cell_type": "code",
   "execution_count": 1,
   "metadata": {
    "collapsed": true
   },
   "outputs": [],
   "source": [
    "import blpapi\n",
    "import pandas as pd\n",
    "import numpy as np\n",
    "import datetime as dt"
   ]
  },
  {
   "cell_type": "markdown",
   "metadata": {},
   "source": [
    "# II. Set up the Bloomberg names\n",
    "\n",
    "We here create variables using the Name class within blpapi. <br> \n",
    "This will allow to write cleaner and more concise code when refering to strings with the api.<br>\n",
    "Below are only the names required for our present work. Many more exist and you can refer to the different examples within the SDK for ones of interest to your task."
   ]
  },
  {
   "cell_type": "code",
   "execution_count": 2,
   "metadata": {
    "collapsed": true
   },
   "outputs": [],
   "source": [
    "DATE = blpapi.Name(\"date\")\n",
    "ERROR_INFO = blpapi.Name(\"errorInfo\")\n",
    "EVENT_TIME = blpapi.Name(\"EVENT_TIME\")\n",
    "FIELD_DATA = blpapi.Name(\"fieldData\")\n",
    "FIELD_EXCEPTIONS = blpapi.Name(\"fieldExceptions\")\n",
    "FIELD_ID = blpapi.Name(\"fieldId\")\n",
    "SECURITY = blpapi.Name(\"security\")\n",
    "SECURITY_DATA = blpapi.Name(\"securityData\")"
   ]
  },
  {
   "cell_type": "markdown",
   "metadata": {},
   "source": [
    "# III. The BLP class\n",
    "We now start to build our function within a dedicated class.<br>\n",
    "\n",
    "A brief reminder on the class object in Python:<br>\n",
    "- Classes must have a function called _\\_init_\\_() which is automatically executed at class initiation\n",
    "- Classes can have one or several methods\n",
    "- Class object need to be instaciated before using its methods\n",
    "\n",
    "#### A. The init function\n",
    "\n",
    "This function aims at starting the session and setting up the desired service \n",
    "\n",
    "#### B. The close session method:\n",
    "Simply kills the session so no ghost connection remains. \n",
    "\n",
    "#### C. The BDP method:\n",
    "3 steps: <br>\n",
    "1- Create request<br>\n",
    "2- Send request <br>\n",
    "3- Extract data<br>\n",
    "\n",
    "\n"
   ]
  },
  {
   "cell_type": "code",
   "execution_count": 3,
   "metadata": {
    "collapsed": true
   },
   "outputs": [],
   "source": [
    "class BLP():\n",
    "    #-----------------------------------------------------------------------------------------------------\n",
    "    #-----------------------------------------------------------------------------------------------------    \n",
    "    #-----------------------------------------------------------------------------------------------------\n",
    "    \n",
    "    def __init__(self):\n",
    "        \"\"\"\n",
    "            Improve this\n",
    "            BLP object initialization\n",
    "            Synchronus event handling\n",
    "            \n",
    "        \"\"\"\n",
    "        # Create Session object\n",
    "        self.session = blpapi.Session()\n",
    "        \n",
    "        \n",
    "        # Exit if can't start the Session\n",
    "        if not self.session.start():\n",
    "            print(\"Failed to start session.\")\n",
    "            return\n",
    "        \n",
    "        # Open & Get RefData Service or exit if impossible\n",
    "        if not self.session.openService(\"//blp/refdata\"):\n",
    "            print(\"Failed to open //blp/refdata\")\n",
    "            return\n",
    "        \n",
    "        self.session.openService('//BLP/refdata')\n",
    "        self.refDataSvc = self.session.getService('//BLP/refdata')\n",
    "\n",
    "        print('Session open')\n",
    "    \n",
    "    #-----------------------------------------------------------------------------------------------------\n",
    "    #-----------------------------------------------------------------------------------------------------\n",
    "    #-----------------------------------------------------------------------------------------------------\n",
    "    \n",
    "    def bdp(self, strSecurity, strFields, strOverrideField='', strOverrideValue=''):\n",
    "        \n",
    "        \"\"\"\n",
    "            Summary:\n",
    "                Reference Data Request ; Real-time if entitled, else delayed values \n",
    "                Only supports 1 override\n",
    "                \n",
    "                \n",
    "            Input:\n",
    "                strSecurity\n",
    "                strFields\n",
    "                strOverrideField\n",
    "                strOverrideValue         \n",
    "            \n",
    "            Output:\n",
    "               Dict \n",
    "        \"\"\"\n",
    "        \n",
    "        #-----------------------------------------------------------------------\n",
    "        # Create request\n",
    "        #-----------------------------------------------------------------------\n",
    "        \n",
    "        # Create request\n",
    "        request = self.refDataSvc.createRequest('ReferenceDataRequest')\n",
    "        \n",
    "        # Put field and securities in list is single field passed\n",
    "        if type(strFields) == str:\n",
    "            strFields = [strFields]\n",
    "        \n",
    "        if type(strSecurity) == str:\n",
    "            strSecurity = [strSecurity]\n",
    "            \n",
    "        # Append list of fields\n",
    "        for strD in strFields:\n",
    "            request.append('fields', strD)\n",
    "\n",
    "        # Append list of securities\n",
    "        for strS in strSecurity:\n",
    "            request.append('securities', strS)\n",
    "\n",
    "        # Add override \n",
    "        if strOverrideField != '':\n",
    "            o = request.getElement('overrides').appendElement()\n",
    "            o.setElement('fieldId', strOverrideField)\n",
    "            o.setElement('value', strOverrideValue)\n",
    "\n",
    "        #-----------------------------------------------------------------------\n",
    "        # Send request\n",
    "        #-----------------------------------------------------------------------\n",
    "\n",
    "        requestID = self.session.sendRequest(request)\n",
    "        print(\"Sending request\")\n",
    "\n",
    "        #-----------------------------------------------------------------------\n",
    "        # Receive request                \n",
    "        #-----------------------------------------------------------------------\n",
    "                \n",
    "        list_msg = []\n",
    "        \n",
    "        while True:\n",
    "            event = self.session.nextEvent()\n",
    "            \n",
    "            # Ignores anything that's not partial or final\n",
    "            if (event.eventType() !=blpapi.event.Event.RESPONSE) & (event.eventType() !=blpapi.event.Event.PARTIAL_RESPONSE):\n",
    "                continue\n",
    "            \n",
    "            # Extract the response message\n",
    "            msg = blpapi.event.MessageIterator(event).next()\n",
    "            \n",
    "            # Break loop if response is final\n",
    "            if event.eventType() == blpapi.event.Event.RESPONSE:\n",
    "                break    \n",
    "        \n",
    "        #-----------------------------------------------------------------------\n",
    "        # Extract the data \n",
    "        #-----------------------------------------------------------------------\n",
    "                \n",
    "\n",
    "        \n",
    "        return 0\n",
    "    \n",
    "    #-----------------------------------------------------------------------------------------------------\n",
    "    #-----------------------------------------------------------------------------------------------------\n",
    "    #-----------------------------------------------------------------------------------------------------\n",
    "\n",
    "    def closeSession(self):\n",
    "        print(\"Session closed\")\n",
    "        self.session.stop()"
   ]
  },
  {
   "cell_type": "markdown",
   "metadata": {},
   "source": [
    "# IV. Tests"
   ]
  },
  {
   "cell_type": "code",
   "execution_count": null,
   "metadata": {
    "collapsed": true
   },
   "outputs": [],
   "source": [
    "blp = BLP()\n",
    "strFields = [\"AMT_OUTSTANDING\", \"PX_LAST\"]\n",
    "date = '20200310'\n",
    "test4 = blp.bdp(strSecurity=tickers, strFields = strFields, strOverrideField = \"AMOUNT_OUTSTANDING_AS_OF_DT\", strOverrideValue = date )\n",
    "BLP.closeSession()"
   ]
  }
 ],
 "metadata": {
  "kernelspec": {
   "display_name": "Python 3",
   "language": "python",
   "name": "python3"
  },
  "language_info": {
   "codemirror_mode": {
    "name": "ipython",
    "version": 3
   },
   "file_extension": ".py",
   "mimetype": "text/x-python",
   "name": "python",
   "nbconvert_exporter": "python",
   "pygments_lexer": "ipython3",
   "version": "3.8.3"
  }
 },
 "nbformat": 4,
 "nbformat_minor": 2
}
